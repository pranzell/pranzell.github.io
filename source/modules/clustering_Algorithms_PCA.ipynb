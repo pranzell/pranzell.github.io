{
 "cells": [
  {
   "cell_type": "markdown",
   "metadata": {},
   "source": [
    "# Clustering - Basics and Algorithms - Part 1"
   ]
  },
  {
   "cell_type": "markdown",
   "metadata": {},
   "source": [
    "---\n",
    "\n",
    "## Contents\n",
    "\n",
    "\n",
    "1. Principal Component Analysis:\n",
    "    - 1.1. PCA By Hand\n",
    "    - 1.2. PCA using model\n",
    "\n",
    "\n",
    "2. Partitional Clustering:\n",
    "    - 2.1. K-Means By Hand\n",
    "    - 2.2. K-Means Using model\n",
    "  \n",
    "  \n",
    "3. Hirerachial Clustering\n",
    "    - 3.1. Agglomerative\n",
    "    - 3.2. Divisive Clustering\n",
    " \n",
    " \n",
    "4. Density-based Clustering\n",
    "    - 4.1. DBSCAN\n",
    "    - 4.2. HDBSCAN\n",
    "    \n",
    "---"
   ]
  },
  {
   "cell_type": "markdown",
   "metadata": {},
   "source": [
    "# 1. PCA"
   ]
  },
  {
   "cell_type": "markdown",
   "metadata": {},
   "source": [
    "## Intution\n",
    "\n",
    "When there are large number of features which may be correlated with each other (pair-plot), principal components analysis (PCA) allows us to summarize this set with a smaller number of representative variables that collectively explain **most of the variability** in the original set.\n",
    "\n",
    "\n",
    "*Principal components analysis (PCA)* refers to the process by which principal components are computed, and the subsequent use of these components in understanding the data. PCA is an unsupervised approach, since it involves only a set of features $X1, X2,...,Xp$, and no associated response $Y$. \n",
    "\n",
    "Apart from producing derived variables for use in supervised learning problems, PCA also serves as a tool for data visualization (visualization of the observations or visualization of the variables). It can also be used as a tool for data imputation — that is, for filling in missing values in a data matrix.\n",
    "\n",
    "more: https://docs.google.com/document/d/142kUUYeWfDQIH6ymDImeHxCnSP1fk_Gx6Wu-E9Vsbm4/edit#\n",
    "\n",
    "*min_number_of_components* = min(nrows-1, nfeatures)\n",
    "\n",
    "--- "
   ]
  },
  {
   "cell_type": "markdown",
   "metadata": {},
   "source": [
    "## Imports"
   ]
  },
  {
   "cell_type": "code",
   "execution_count": 165,
   "metadata": {},
   "outputs": [],
   "source": [
    "import os, sys\n",
    "import pandas as pd\n",
    "import numpy as np\n",
    "from sklearn.decomposition import PCA\n",
    "from sklearn.preprocessing import StandardScaler, normalize\n",
    "from scipy.spatial import distance_matrix\n",
    "\n",
    "import matplotlib.pyplot as plt\n",
    "from matplotlib import pyplot as plt, ticker as ticker\n",
    "import seaborn as sns\n",
    "import warnings\n",
    "pd.set_option(\"display.max_columns\", 80)\n",
    "sns.set_style(\"whitegrid\")\n",
    "sns.set_palette('inferno')\n",
    "warnings.filterwarnings('ignore')\n",
    "%matplotlib inline"
   ]
  },
  {
   "cell_type": "markdown",
   "metadata": {},
   "source": [
    "## Dataset"
   ]
  },
  {
   "cell_type": "code",
   "execution_count": 4,
   "metadata": {},
   "outputs": [
    {
     "data": {
      "text/html": [
       "<div>\n",
       "<style scoped>\n",
       "    .dataframe tbody tr th:only-of-type {\n",
       "        vertical-align: middle;\n",
       "    }\n",
       "\n",
       "    .dataframe tbody tr th {\n",
       "        vertical-align: top;\n",
       "    }\n",
       "\n",
       "    .dataframe thead th {\n",
       "        text-align: right;\n",
       "    }\n",
       "</style>\n",
       "<table border=\"1\" class=\"dataframe\">\n",
       "  <thead>\n",
       "    <tr style=\"text-align: right;\">\n",
       "      <th></th>\n",
       "      <th>sepal_length</th>\n",
       "      <th>sepal_width</th>\n",
       "      <th>petal_length</th>\n",
       "      <th>petal_width</th>\n",
       "    </tr>\n",
       "  </thead>\n",
       "  <tbody>\n",
       "    <tr>\n",
       "      <th>0</th>\n",
       "      <td>5.1</td>\n",
       "      <td>3.5</td>\n",
       "      <td>1.4</td>\n",
       "      <td>0.2</td>\n",
       "    </tr>\n",
       "    <tr>\n",
       "      <th>1</th>\n",
       "      <td>4.9</td>\n",
       "      <td>3.0</td>\n",
       "      <td>1.4</td>\n",
       "      <td>0.2</td>\n",
       "    </tr>\n",
       "    <tr>\n",
       "      <th>2</th>\n",
       "      <td>4.7</td>\n",
       "      <td>3.2</td>\n",
       "      <td>1.3</td>\n",
       "      <td>0.2</td>\n",
       "    </tr>\n",
       "    <tr>\n",
       "      <th>3</th>\n",
       "      <td>4.6</td>\n",
       "      <td>3.1</td>\n",
       "      <td>1.5</td>\n",
       "      <td>0.2</td>\n",
       "    </tr>\n",
       "    <tr>\n",
       "      <th>4</th>\n",
       "      <td>5.0</td>\n",
       "      <td>3.6</td>\n",
       "      <td>1.4</td>\n",
       "      <td>0.2</td>\n",
       "    </tr>\n",
       "    <tr>\n",
       "      <th>...</th>\n",
       "      <td>...</td>\n",
       "      <td>...</td>\n",
       "      <td>...</td>\n",
       "      <td>...</td>\n",
       "    </tr>\n",
       "    <tr>\n",
       "      <th>145</th>\n",
       "      <td>6.7</td>\n",
       "      <td>3.0</td>\n",
       "      <td>5.2</td>\n",
       "      <td>2.3</td>\n",
       "    </tr>\n",
       "    <tr>\n",
       "      <th>146</th>\n",
       "      <td>6.3</td>\n",
       "      <td>2.5</td>\n",
       "      <td>5.0</td>\n",
       "      <td>1.9</td>\n",
       "    </tr>\n",
       "    <tr>\n",
       "      <th>147</th>\n",
       "      <td>6.5</td>\n",
       "      <td>3.0</td>\n",
       "      <td>5.2</td>\n",
       "      <td>2.0</td>\n",
       "    </tr>\n",
       "    <tr>\n",
       "      <th>148</th>\n",
       "      <td>6.2</td>\n",
       "      <td>3.4</td>\n",
       "      <td>5.4</td>\n",
       "      <td>2.3</td>\n",
       "    </tr>\n",
       "    <tr>\n",
       "      <th>149</th>\n",
       "      <td>5.9</td>\n",
       "      <td>3.0</td>\n",
       "      <td>5.1</td>\n",
       "      <td>1.8</td>\n",
       "    </tr>\n",
       "  </tbody>\n",
       "</table>\n",
       "<p>150 rows × 4 columns</p>\n",
       "</div>"
      ],
      "text/plain": [
       "     sepal_length  sepal_width  petal_length  petal_width\n",
       "0             5.1          3.5           1.4          0.2\n",
       "1             4.9          3.0           1.4          0.2\n",
       "2             4.7          3.2           1.3          0.2\n",
       "3             4.6          3.1           1.5          0.2\n",
       "4             5.0          3.6           1.4          0.2\n",
       "..            ...          ...           ...          ...\n",
       "145           6.7          3.0           5.2          2.3\n",
       "146           6.3          2.5           5.0          1.9\n",
       "147           6.5          3.0           5.2          2.0\n",
       "148           6.2          3.4           5.4          2.3\n",
       "149           5.9          3.0           5.1          1.8\n",
       "\n",
       "[150 rows x 4 columns]"
      ]
     },
     "execution_count": 4,
     "metadata": {},
     "output_type": "execute_result"
    }
   ],
   "source": [
    "data = pd.read_csv(\"data_IRIS.csv\")\n",
    "\n",
    "# ignoring labels for now\n",
    "df = data[data.columns[data.columns!='species']]\n",
    "df"
   ]
  },
  {
   "cell_type": "markdown",
   "metadata": {},
   "source": [
    "## Very Basic EDA"
   ]
  },
  {
   "cell_type": "code",
   "execution_count": 3,
   "metadata": {},
   "outputs": [
    {
     "data": {
      "image/png": "[encoded data removed]",
      "text/plain": [
       "<Figure size 1080x576 with 4 Axes>"
      ]
     },
     "metadata": {
      "needs_background": "light"
     },
     "output_type": "display_data"
    }
   ],
   "source": [
    "# Density Plots\n",
    "\n",
    "f, axes = plt.subplots(2, 2, figsize=(15,8), squeeze=False)\n",
    "nrow, ncol = 0,0\n",
    "for i, col in enumerate(df.columns):\n",
    "    if i==2:\n",
    "        nrow, ncol = nrow+1, 0\n",
    "    sns.kdeplot(df[col], shade=True, color=\"r\", ax=axes[nrow,ncol])\n",
    "    ncol+=1"
   ]
  },
  {
   "cell_type": "markdown",
   "metadata": {},
   "source": [
    "- All exhibit bi-modal distributions, apart from width which looks uncannily perfect."
   ]
  },
  {
   "cell_type": "code",
   "execution_count": 4,
   "metadata": {},
   "outputs": [
    {
     "data": {
      "image/png": "[encoded data removed]",
      "text/plain": [
       "<Figure size 1440x432 with 2 Axes>"
      ]
     },
     "metadata": {
      "needs_background": "light"
     },
     "output_type": "display_data"
    }
   ],
   "source": [
    "# Heatmap for Correlation Matrix\n",
    "\n",
    "fig, ax = plt.subplots(figsize=(20,6))\n",
    "sns.heatmap(df.corr(), annot=True)\n",
    "plt.show()"
   ]
  },
  {
   "cell_type": "markdown",
   "metadata": {},
   "source": [
    "- Most of the features are correlated with each other, which is a good test for modelling non-regression models."
   ]
  },
  {
   "cell_type": "code",
   "execution_count": 5,
   "metadata": {},
   "outputs": [
    {
     "data": {
      "text/plain": [
       "<seaborn.axisgrid.PairGrid at 0x7fdd36035e48>"
      ]
     },
     "execution_count": 5,
     "metadata": {},
     "output_type": "execute_result"
    },
    {
     "data": {
      "image/png": "[encoded data removed]",
      "text/plain": [
       "<Figure size 720x720 with 20 Axes>"
      ]
     },
     "metadata": {
      "needs_background": "light"
     },
     "output_type": "display_data"
    }
   ],
   "source": [
    "sns.pairplot(df, palette='inferno')"
   ]
  },
  {
   "cell_type": "markdown",
   "metadata": {},
   "source": [
    "---"
   ]
  },
  {
   "cell_type": "markdown",
   "metadata": {},
   "source": [
    "## 1.1. PCA by hand"
   ]
  },
  {
   "cell_type": "code",
   "execution_count": 6,
   "metadata": {},
   "outputs": [
    {
     "data": {
      "text/plain": [
       "(150, 4)"
      ]
     },
     "execution_count": 6,
     "metadata": {},
     "output_type": "execute_result"
    }
   ],
   "source": [
    "X = df[:]\n",
    "\n",
    "# number of samples/observations\n",
    "n = X.shape[0]\n",
    "\n",
    "# number of features\n",
    "p = X.shape[1]\n",
    "\n",
    "n, p"
   ]
  },
  {
   "cell_type": "markdown",
   "metadata": {},
   "source": [
    "### 1. Standardize data (bring values to center with squished variance)\n",
    "\n",
    "$Pandas$ : Uses unbiased estimator of standard deviation, control using `ddof`\n",
    "\n",
    "$\\sigma = \\sqrt{\\frac{(x - \\mu)^2}{N-1}}$\n",
    "\n",
    "\n",
    "$Numpy$ : Uses biased estimator by default, control using `ddof`\n",
    "\n",
    "$\\sigma = \\sqrt{\\frac{(x - \\mu)^2}{N}}$\n",
    "\n",
    "\n",
    "$StandardScaler$ : Uses biased estimator by default\n",
    "\n",
    "$\\sigma = \\sqrt{\\frac{(x - \\mu)^2}{N}}$"
   ]
  },
  {
   "cell_type": "code",
   "execution_count": 7,
   "metadata": {},
   "outputs": [],
   "source": [
    "X_std = (X - X.mean())/np.std(X)\n",
    "\n",
    "# OR, X_std = (X - X.mean())/X.std(ddof=0)\n",
    "# OR, X_std = StandardScaler().fit_transform(X)"
   ]
  },
  {
   "cell_type": "markdown",
   "metadata": {},
   "source": [
    "### 2. Find the covariance matrix\n",
    "\n",
    "\n",
    "$Cov (X) = \\frac{1}{n-1} (X^T.X)$\n",
    "\n",
    "Can use: X_std.corr()"
   ]
  },
  {
   "cell_type": "code",
   "execution_count": 8,
   "metadata": {},
   "outputs": [
    {
     "data": {
      "text/plain": [
       "array([[ 1.00671141, -0.11010327,  0.87760486,  0.82344326],\n",
       "       [-0.11010327,  1.00671141, -0.42333835, -0.358937  ],\n",
       "       [ 0.87760486, -0.42333835,  1.00671141,  0.96921855],\n",
       "       [ 0.82344326, -0.358937  ,  0.96921855,  1.00671141]])"
      ]
     },
     "execution_count": 8,
     "metadata": {},
     "output_type": "execute_result"
    }
   ],
   "source": [
    "cov_matrix = np.dot(X_std.T, X_std) / (n-1)\n",
    "\n",
    "# dimensions of cov_matrix will be p x p\n",
    "cov_matrix"
   ]
  },
  {
   "cell_type": "markdown",
   "metadata": {},
   "source": [
    "### 3. Compute Eigen Pairs using Decomposition method\n",
    "\n",
    "$ Dimension: $ ==> p x p\n",
    "\n",
    "$\\frac{1}{n-1} (X^T.X) \\space = \\space v\\lambda v^T $\n",
    "\n",
    "\n",
    "$Eigenvalues = \\left(\\begin{matrix} \\varepsilon_{1} && \\varepsilon_{2} && \\varepsilon_{2} && \\cdots & \\varepsilon_{p} \\end{matrix}\\right)$\n",
    "\n",
    "\n",
    "$Eigenvectors = \\left(\\begin{matrix} \\hat \\varepsilon_{1, 1} & \\hat \\varepsilon_{1, 2} & \\hat \\varepsilon_{1, 3} && \\cdots & \\hat\\varepsilon_{1, p} \\\\ \\hat \\varepsilon_{2, 1} & \\hat \\varepsilon_{2, 2} & \\hat \\varepsilon_{2, 3} && \\cdots & \\hat \\varepsilon_{2, p} \\\\ \\hat \\vdots & \\vdots & \\hat \\ddots && \\vdots \\\\ \\hat \\varepsilon_{p, 1} & \\hat \\varepsilon_{p, 2} & \\hat \\varepsilon_{p, 3} && \\cdots & \\hat \\varepsilon_{p, p} \\\\ \\end{matrix}\\right)$\n",
    "\n",
    "\n",
    "$Eigenpairs = \\left(\\begin{matrix} \\varepsilon_{1} [\\hat \\varepsilon_{1, 1} .. \\hat \\varepsilon_{p, 1}] & \\varepsilon_{2} [\\hat \\varepsilon_{1, 2} .. \\hat \\varepsilon_{p, 2}] && \\cdots & \\varepsilon_{p} [\\hat \\varepsilon_{1, p} .. \\hat \\varepsilon_{p, p}] \\end{matrix}\\right)$\n",
    "\n",
    "\n",
    "$Final \\space  Eigenpairs \\space  = \\space SORTED_{Descending} \\space (Eigenpairs)$"
   ]
  },
  {
   "cell_type": "code",
   "execution_count": 9,
   "metadata": {},
   "outputs": [
    {
     "data": {
      "text/plain": [
       "(array([2.93035378, 0.92740362, 0.14834223, 0.02074601]),\n",
       " array([[ 0.52237162, -0.37231836, -0.72101681,  0.26199559],\n",
       "        [-0.26335492, -0.92555649,  0.24203288, -0.12413481],\n",
       "        [ 0.58125401, -0.02109478,  0.14089226, -0.80115427],\n",
       "        [ 0.56561105, -0.06541577,  0.6338014 ,  0.52354627]]))"
      ]
     },
     "execution_count": 9,
     "metadata": {},
     "output_type": "execute_result"
    }
   ],
   "source": [
    "# found using: np.linalg.eig(covariance_matrix)\n",
    "eig_values, eig_vectors = np.linalg.eig(cov_matrix)\n",
    "\n",
    "# OR, found using: np.linalg.svd(covariance_matrix)\n",
    "# u,s,v = np.linalg.svd(cov_matrix)\n",
    "# eig_values1, eig_vectors1 = s, u\n",
    "\n",
    "eig_values, eig_vectors"
   ]
  },
  {
   "cell_type": "code",
   "execution_count": 10,
   "metadata": {},
   "outputs": [],
   "source": [
    "# Eigen Pairs (p x p)\n",
    "\n",
    "# Along axis=0, i.e. columns\n",
    "eig_pairs = [(np.abs(eig_values[i]), eig_vectors[:, i]) for i in range(len(eig_values))]\n",
    "eig_pairs = sorted(eig_pairs, reverse=True)"
   ]
  },
  {
   "cell_type": "markdown",
   "metadata": {},
   "source": [
    "### 4. Compute Proportion of Explained Variation (PVE)\n",
    "\n",
    "\n",
    "$PVE \\space = Sorted \\space List \\space of (\\space \\frac{Eigenvalues}{Sum \\space of \\space Eigenvalues)})$\n"
   ]
  },
  {
   "cell_type": "code",
   "execution_count": 11,
   "metadata": {},
   "outputs": [
    {
     "name": "stdout",
     "output_type": "stream",
     "text": [
      "[0.7277045209380134, 0.2303052326768065, 0.03683831957627366, 0.005151926808906475]\n",
      "[0.72770452 0.95800975 0.99484807 1.        ]\n"
     ]
    },
    {
     "data": {
      "text/plain": [
       "Text(0.5, 0, 'Principal Components (Dimensions)')"
      ]
     },
     "execution_count": 11,
     "metadata": {},
     "output_type": "execute_result"
    },
    {
     "data": {
      "image/png": "[encoded data removed]",
      "text/plain": [
       "<Figure size 432x288 with 1 Axes>"
      ]
     },
     "metadata": {
      "needs_background": "light"
     },
     "output_type": "display_data"
    }
   ],
   "source": [
    "# total explained variance is sorted order of average eigenvalues, \n",
    "# the largest becomes the PC1-EValue, and so on.\n",
    "\n",
    "explained_variance = np.array(eig_values)/sum(eig_values)\n",
    "explained_variance = sorted(explained_variance, reverse=True)\n",
    "print(explained_variance)\n",
    "\n",
    "cum_exp_variance = np.cumsum(explained_variance)\n",
    "print(cum_exp_variance)\n",
    "\n",
    "# plotting explained variance for each dimension (PC)\n",
    "\n",
    "plt.figure(figsize=(6,4))\n",
    "plt.bar(range(4), explained_variance, alpha=0.6)\n",
    "plt.ylabel('Explained Variance Percentage')\n",
    "plt.xlabel('Principal Components (Dimensions)')"
   ]
  },
  {
   "cell_type": "markdown",
   "metadata": {},
   "source": [
    "### 5. Compute loader_vectors Matrix:\n",
    "\n",
    "\n",
    "$Z_i = \\phi_{1,1}X_1 + \\phi_{2,1}X_2 + \\phi_{3,1}X_3 + ... + \\phi_{p,1}X_p \\space = \\space np.dot(X_{std}, Eigenvector-Matrix)$\n",
    "\n",
    "\n",
    "- $PC_1 = \\phi_{1,1}X_1 + \\phi_{2,1}X_2 + \\phi_{3,1}X_3 + ... + \\phi_{p,1}X_p$\n",
    "\n",
    "\n",
    "- $PC_2 = \\phi_{1,2}X_1 + \\phi_{2,2}X_2 + \\phi_{3,2}X_3 + ... + \\phi_{p,2}X_p$\n",
    "\n",
    "\n"
   ]
  },
  {
   "cell_type": "code",
   "execution_count": 12,
   "metadata": {},
   "outputs": [
    {
     "name": "stdout",
     "output_type": "stream",
     "text": [
      "\n",
      "Number of Principal Components explaining '0.99' % variability in data : 2\n",
      "\n"
     ]
    }
   ],
   "source": [
    "# Target Threshold\n",
    "#   - a simple threshold to decide how many EigenPairs we wish to consider!\n",
    "#     a 0.999 value means, we wish to see how many EigenPairs it takes to exlain 99.9% variability in the data,\n",
    "#     it could be two, three or all the EigenPairs, where total EigenPairs = min(n-1, p)\n",
    "target_explained_variance = 0.99\n",
    "\n",
    "\n",
    "# Compute all components that explain target:\n",
    "list_of_principal_eigenpairs = []\n",
    "\n",
    "for i, eigenpair in enumerate(eig_pairs):\n",
    "    # If the EigenPairs have reached the target explanation needed \n",
    "    # ---> reveals how many EigenPairs we need to explain target % variance\n",
    "    if cum_exp_variance[i] < target_explained_variance:\n",
    "        list_of_principal_eigenpairs.append(eigenpair[1])\n",
    "\n",
    "\n",
    "# *only* for building a weight matrix \n",
    "principal_components = np.array(list_of_principal_eigenpairs).T.tolist()\n",
    "\n",
    "print(\"\\nNumber of Principal Components explaining '{}' % variability in data : {}\\n\"\\\n",
    "      .format(target_explained_variance, len(principal_components[0])))"
   ]
  },
  {
   "cell_type": "markdown",
   "metadata": {},
   "source": [
    "### 6. Compute `p` PCs\n",
    "\n",
    "\n",
    "$Z_i = \\phi_{1,1}X_1 + \\phi_{2,1}X_2 + .. + \\phi_{p,1}X_p \\space = \\space np.dot(X_{std}, Eigenvector-Matrix)$"
   ]
  },
  {
   "cell_type": "code",
   "execution_count": 13,
   "metadata": {},
   "outputs": [
    {
     "data": {
      "text/html": [
       "<div>\n",
       "<style scoped>\n",
       "    .dataframe tbody tr th:only-of-type {\n",
       "        vertical-align: middle;\n",
       "    }\n",
       "\n",
       "    .dataframe tbody tr th {\n",
       "        vertical-align: top;\n",
       "    }\n",
       "\n",
       "    .dataframe thead th {\n",
       "        text-align: right;\n",
       "    }\n",
       "</style>\n",
       "<table border=\"1\" class=\"dataframe\">\n",
       "  <thead>\n",
       "    <tr style=\"text-align: right;\">\n",
       "      <th></th>\n",
       "      <th>PC 0</th>\n",
       "      <th>PC 1</th>\n",
       "    </tr>\n",
       "  </thead>\n",
       "  <tbody>\n",
       "    <tr>\n",
       "      <th>0</th>\n",
       "      <td>-2.264542</td>\n",
       "      <td>-0.505704</td>\n",
       "    </tr>\n",
       "    <tr>\n",
       "      <th>1</th>\n",
       "      <td>-2.086426</td>\n",
       "      <td>0.655405</td>\n",
       "    </tr>\n",
       "    <tr>\n",
       "      <th>2</th>\n",
       "      <td>-2.367950</td>\n",
       "      <td>0.318477</td>\n",
       "    </tr>\n",
       "    <tr>\n",
       "      <th>3</th>\n",
       "      <td>-2.304197</td>\n",
       "      <td>0.575368</td>\n",
       "    </tr>\n",
       "    <tr>\n",
       "      <th>4</th>\n",
       "      <td>-2.388777</td>\n",
       "      <td>-0.674767</td>\n",
       "    </tr>\n",
       "    <tr>\n",
       "      <th>...</th>\n",
       "      <td>...</td>\n",
       "      <td>...</td>\n",
       "    </tr>\n",
       "    <tr>\n",
       "      <th>145</th>\n",
       "      <td>1.870522</td>\n",
       "      <td>-0.382822</td>\n",
       "    </tr>\n",
       "    <tr>\n",
       "      <th>146</th>\n",
       "      <td>1.558492</td>\n",
       "      <td>0.905314</td>\n",
       "    </tr>\n",
       "    <tr>\n",
       "      <th>147</th>\n",
       "      <td>1.520845</td>\n",
       "      <td>-0.266795</td>\n",
       "    </tr>\n",
       "    <tr>\n",
       "      <th>148</th>\n",
       "      <td>1.376391</td>\n",
       "      <td>-1.016362</td>\n",
       "    </tr>\n",
       "    <tr>\n",
       "      <th>149</th>\n",
       "      <td>0.959299</td>\n",
       "      <td>0.022284</td>\n",
       "    </tr>\n",
       "  </tbody>\n",
       "</table>\n",
       "<p>150 rows × 2 columns</p>\n",
       "</div>"
      ],
      "text/plain": [
       "         PC 0      PC 1\n",
       "0   -2.264542 -0.505704\n",
       "1   -2.086426  0.655405\n",
       "2   -2.367950  0.318477\n",
       "3   -2.304197  0.575368\n",
       "4   -2.388777 -0.674767\n",
       "..        ...       ...\n",
       "145  1.870522 -0.382822\n",
       "146  1.558492  0.905314\n",
       "147  1.520845 -0.266795\n",
       "148  1.376391 -1.016362\n",
       "149  0.959299  0.022284\n",
       "\n",
       "[150 rows x 2 columns]"
      ]
     },
     "execution_count": 13,
     "metadata": {},
     "output_type": "execute_result"
    }
   ],
   "source": [
    "PC_data = X_std.dot(principal_components)\n",
    "PC_data.columns = [\"PC %d\" % i for i in range(len(principal_components[0]))]\n",
    "PC_data"
   ]
  },
  {
   "cell_type": "code",
   "execution_count": 14,
   "metadata": {},
   "outputs": [],
   "source": [
    "# Onc class to rule it all:\n",
    "\n",
    "class PCA_hand:\n",
    "    \n",
    "    def __init__(self, target_variance=0.95):\n",
    "        \"\"\"\n",
    "        :param target_variance: float, The target level of explained variance\n",
    "        \"\"\"\n",
    "        self.target_explained_variance = target_variance\n",
    "\n",
    "    def standardize_features(self, X):\n",
    "        \"\"\"\n",
    "        - Standardize features\n",
    "        :param X: Input data with shape n (# of observations) X p (# of features)\n",
    "        :return: standardized features\n",
    "        \"\"\"\n",
    "        self.n = X.shape[0]    # number of samples\n",
    "        self.p = X.shape[1]    # number of features\n",
    "        return (X - X.mean())/np.std(X)\n",
    "\n",
    "    def compute_covariance_matrix(self, X_std):\n",
    "        \"\"\"\n",
    "        - Covariance Matrix (X^T.X)/n-1\n",
    "        :param X_std: standardized features with shape n (# of observations) X p (# of features)\n",
    "        :return: covariance_matrix\n",
    "        \"\"\"\n",
    "        covariance_matrix = X_std.T.dot(X_std)/(n - 1)\n",
    "        return covariance_matrix\n",
    "\n",
    "    def compute_eigen_pairs(self, cov_matrix):\n",
    "        \"\"\"\n",
    "        - Computation of eigenvector, eigenvalues, and eigenpairs in sorted order\n",
    "        :param cov_matrix: p (# of features) x p (# of features) cov(x_i, x_j)\n",
    "        :return: eig_values, eig_vectors, eig_pairs\n",
    "        \"\"\"\n",
    "        eig_values, eig_vectors = np.linalg.eig(cov_matrix)\n",
    "\n",
    "        # Eigen Pairs (p x p): along axis=0, i.e. columns\n",
    "        eig_pairs = [(np.abs(eig_values[i]), eig_vectors[:, i]) for i in range(len(eig_values))]\n",
    "        eig_pairs = sorted(eig_pairs, reverse=True)\n",
    "        return eig_values, eig_vectors, eig_pairs\n",
    "\n",
    "    def compute_explained_variance(self, eig_values):\n",
    "        \"\"\"\n",
    "        - Compute cumulative explained variance attributed to each of  the principal components.\n",
    "        :param eig_values: p x 1 matrix containing sorted eigen values (largest to smallest)\n",
    "        :return: cum_exp_variance\n",
    "        \"\"\"\n",
    "        explained_variance = np.array(eig_values)/sum(eig_values)\n",
    "        explained_variance = sorted(explained_variance, reverse=True)\n",
    "        cum_exp_variance = np.cumsum(explained_variance)\n",
    "        return explained_variance, cum_exp_variance\n",
    "\n",
    "    def compute_top_components(self, eigen_pairs, cum_exp_variance):\n",
    "        \"\"\"\n",
    "        - Compute a weight matrix for top principal components conditioned on target explained variance.\n",
    "        :param eigen_pairs: list of tuples containing eigenvalues and eigenvectors,\n",
    "        :param cum_exp_variance: cumulative expalined variance by features\n",
    "        :return: weight matrix p x k; where k is number of components able to explain target variance\n",
    "        \"\"\"\n",
    "        list_of_principal_eigenpairs = []\n",
    "        for i, eigenpair in enumerate(eigen_pairs):\n",
    "            if cum_exp_variance[i] < self.target_explained_variance:\n",
    "                list_of_principal_eigenpairs.append(eigenpair[1])\n",
    "        # *only* for building a weight matrix \n",
    "        principal_components = np.array(list_of_principal_eigenpairs).T.tolist()\n",
    "        print(\"\\nNumber of Principal Components explaining '{}' % variability in data : {}\\n\"\\\n",
    "              .format(self.target_explained_variance, len(principal_components[0])))\n",
    "        return principal_components\n",
    "\n",
    "    def transform(self, X_std, pc_matrix):\n",
    "        \"\"\"\n",
    "        - Transforms data to subspace using principal components matrix\n",
    "        :param X_std: standardized features\n",
    "        :param pc_matrix: top principal components\n",
    "        :return: pc_data\n",
    "        \"\"\"\n",
    "        pc_data = pd.DataFrame(X_std.dot(pc_matrix))\n",
    "        pc_data.columns = [\"PC %d\" % i for i in range(len(pc_matrix[0]))]\n",
    "        return pc_data\n",
    "\n",
    "    def fit(self, X):\n",
    "        \"\"\"    \n",
    "        - Execute\n",
    "        :param X: Input data with shape n (# of observations) X p (# of features)\n",
    "        :return pc_matrix: n x k dimension\n",
    "        \"\"\"\n",
    "        X_std = self.standardize_features(X)\n",
    "        cov_matrix = self.compute_covariance_matrix(X_std)\n",
    "        eigen_values, eigen_vectors, eigen_pairs = self.compute_eigen_pairs(cov_matrix)\n",
    "        explained_variance, cum_exp_variance = self.compute_explained_variance(eigen_values)\n",
    "        \n",
    "        # top components matrix of n x k\n",
    "        principal_components = self.compute_top_components(eigen_pairs, cum_exp_variance)\n",
    "        \n",
    "        pc_matrix = self.transform(X_std, principal_components)\n",
    "        return pc_matrix\n",
    "\n",
    "\n",
    "\n",
    "# SAMPLE EXECUTION\n",
    "# pca_obj = PCA_hand(0.99)\n",
    "# pca_matrix = pca_obj.fit(feature_data)"
   ]
  },
  {
   "cell_type": "markdown",
   "metadata": {},
   "source": [
    "---"
   ]
  },
  {
   "cell_type": "markdown",
   "metadata": {},
   "source": [
    "## 1.2. PCA using model"
   ]
  },
  {
   "cell_type": "code",
   "execution_count": 15,
   "metadata": {},
   "outputs": [
    {
     "data": {
      "text/html": [
       "<div>\n",
       "<style scoped>\n",
       "    .dataframe tbody tr th:only-of-type {\n",
       "        vertical-align: middle;\n",
       "    }\n",
       "\n",
       "    .dataframe tbody tr th {\n",
       "        vertical-align: top;\n",
       "    }\n",
       "\n",
       "    .dataframe thead th {\n",
       "        text-align: right;\n",
       "    }\n",
       "</style>\n",
       "<table border=\"1\" class=\"dataframe\">\n",
       "  <thead>\n",
       "    <tr style=\"text-align: right;\">\n",
       "      <th></th>\n",
       "      <th>0</th>\n",
       "      <th>1</th>\n",
       "      <th>2</th>\n",
       "      <th>3</th>\n",
       "    </tr>\n",
       "  </thead>\n",
       "  <tbody>\n",
       "    <tr>\n",
       "      <th>0</th>\n",
       "      <td>-2.264542</td>\n",
       "      <td>0.505704</td>\n",
       "      <td>-0.121943</td>\n",
       "      <td>-0.023073</td>\n",
       "    </tr>\n",
       "    <tr>\n",
       "      <th>1</th>\n",
       "      <td>-2.086426</td>\n",
       "      <td>-0.655405</td>\n",
       "      <td>-0.227251</td>\n",
       "      <td>-0.103208</td>\n",
       "    </tr>\n",
       "    <tr>\n",
       "      <th>2</th>\n",
       "      <td>-2.367950</td>\n",
       "      <td>-0.318477</td>\n",
       "      <td>0.051480</td>\n",
       "      <td>-0.027825</td>\n",
       "    </tr>\n",
       "    <tr>\n",
       "      <th>3</th>\n",
       "      <td>-2.304197</td>\n",
       "      <td>-0.575368</td>\n",
       "      <td>0.098860</td>\n",
       "      <td>0.066311</td>\n",
       "    </tr>\n",
       "    <tr>\n",
       "      <th>4</th>\n",
       "      <td>-2.388777</td>\n",
       "      <td>0.674767</td>\n",
       "      <td>0.021428</td>\n",
       "      <td>0.037397</td>\n",
       "    </tr>\n",
       "    <tr>\n",
       "      <th>...</th>\n",
       "      <td>...</td>\n",
       "      <td>...</td>\n",
       "      <td>...</td>\n",
       "      <td>...</td>\n",
       "    </tr>\n",
       "    <tr>\n",
       "      <th>145</th>\n",
       "      <td>1.870522</td>\n",
       "      <td>0.382822</td>\n",
       "      <td>0.254532</td>\n",
       "      <td>-0.388890</td>\n",
       "    </tr>\n",
       "    <tr>\n",
       "      <th>146</th>\n",
       "      <td>1.558492</td>\n",
       "      <td>-0.905314</td>\n",
       "      <td>-0.025382</td>\n",
       "      <td>-0.221322</td>\n",
       "    </tr>\n",
       "    <tr>\n",
       "      <th>147</th>\n",
       "      <td>1.520845</td>\n",
       "      <td>0.266795</td>\n",
       "      <td>0.179277</td>\n",
       "      <td>-0.118903</td>\n",
       "    </tr>\n",
       "    <tr>\n",
       "      <th>148</th>\n",
       "      <td>1.376391</td>\n",
       "      <td>1.016362</td>\n",
       "      <td>0.931405</td>\n",
       "      <td>-0.024146</td>\n",
       "    </tr>\n",
       "    <tr>\n",
       "      <th>149</th>\n",
       "      <td>0.959299</td>\n",
       "      <td>-0.022284</td>\n",
       "      <td>0.528794</td>\n",
       "      <td>0.163676</td>\n",
       "    </tr>\n",
       "  </tbody>\n",
       "</table>\n",
       "<p>150 rows × 4 columns</p>\n",
       "</div>"
      ],
      "text/plain": [
       "            0         1         2         3\n",
       "0   -2.264542  0.505704 -0.121943 -0.023073\n",
       "1   -2.086426 -0.655405 -0.227251 -0.103208\n",
       "2   -2.367950 -0.318477  0.051480 -0.027825\n",
       "3   -2.304197 -0.575368  0.098860  0.066311\n",
       "4   -2.388777  0.674767  0.021428  0.037397\n",
       "..        ...       ...       ...       ...\n",
       "145  1.870522  0.382822  0.254532 -0.388890\n",
       "146  1.558492 -0.905314 -0.025382 -0.221322\n",
       "147  1.520845  0.266795  0.179277 -0.118903\n",
       "148  1.376391  1.016362  0.931405 -0.024146\n",
       "149  0.959299 -0.022284  0.528794  0.163676\n",
       "\n",
       "[150 rows x 4 columns]"
      ]
     },
     "execution_count": 15,
     "metadata": {},
     "output_type": "execute_result"
    }
   ],
   "source": [
    "# feature dataset\n",
    "X = df[:]\n",
    "\n",
    "X_std = StandardScaler().fit_transform(X)\n",
    "\n",
    "pca = PCA()\n",
    "result = pca.fit_transform(X_std)\n",
    "pca_matrix = pd.DataFrame(result)\n",
    "\n",
    "# some PCs\n",
    "pc1 = pca_matrix[0]\n",
    "pc2 = pca_matrix[1]\n",
    "\n",
    "pca_matrix"
   ]
  },
  {
   "cell_type": "code",
   "execution_count": 16,
   "metadata": {},
   "outputs": [
    {
     "data": {
      "text/plain": [
       "Text(0.5, 0, 'Principal Components (Dimensions)')"
      ]
     },
     "execution_count": 16,
     "metadata": {},
     "output_type": "execute_result"
    },
    {
     "data": {
      "image/png": "[encoded data removed]",
      "text/plain": [
       "<Figure size 576x288 with 1 Axes>"
      ]
     },
     "metadata": {
      "needs_background": "light"
     },
     "output_type": "display_data"
    }
   ],
   "source": [
    "# plotting explained variance for each dimension (PC)\n",
    "\n",
    "plt.figure(figsize=(8,4))\n",
    "plt.bar(range(len(pca.explained_variance_ratio_)), pca.explained_variance_ratio_*100.0, alpha=0.6)\n",
    "plt.ylabel('Explained Variance Percentage')\n",
    "plt.xlabel('Principal Components (Dimensions)')"
   ]
  },
  {
   "cell_type": "markdown",
   "metadata": {},
   "source": [
    "----\n",
    "---"
   ]
  },
  {
   "cell_type": "markdown",
   "metadata": {},
   "source": [
    "# Partitional Clustering"
   ]
  },
  {
   "cell_type": "markdown",
   "metadata": {},
   "source": [
    "## Imports"
   ]
  },
  {
   "cell_type": "code",
   "execution_count": 398,
   "metadata": {},
   "outputs": [],
   "source": [
    "import pandas as pd\n",
    "import numpy as np\n",
    "import random\n",
    "from sklearn.preprocessing import StandardScaler\n",
    "import matplotlib.pyplot as plt\n",
    "import seaborn as sns\n",
    "sns.set_style(\"whitegrid\", {'axes.grid' : False})\n",
    "%matplotlib inline"
   ]
  },
  {
   "cell_type": "markdown",
   "metadata": {},
   "source": [
    "## Data"
   ]
  },
  {
   "cell_type": "code",
   "execution_count": 430,
   "metadata": {
    "scrolled": true
   },
   "outputs": [
    {
     "data": {
      "text/html": [
       "<div>\n",
       "<style scoped>\n",
       "    .dataframe tbody tr th:only-of-type {\n",
       "        vertical-align: middle;\n",
       "    }\n",
       "\n",
       "    .dataframe tbody tr th {\n",
       "        vertical-align: top;\n",
       "    }\n",
       "\n",
       "    .dataframe thead th {\n",
       "        text-align: right;\n",
       "    }\n",
       "</style>\n",
       "<table border=\"1\" class=\"dataframe\">\n",
       "  <thead>\n",
       "    <tr style=\"text-align: right;\">\n",
       "      <th></th>\n",
       "      <th>X</th>\n",
       "      <th>Y</th>\n",
       "    </tr>\n",
       "    <tr>\n",
       "      <th>UID</th>\n",
       "      <th></th>\n",
       "      <th></th>\n",
       "    </tr>\n",
       "  </thead>\n",
       "  <tbody>\n",
       "    <tr>\n",
       "      <th>A1</th>\n",
       "      <td>3</td>\n",
       "      <td>9</td>\n",
       "    </tr>\n",
       "    <tr>\n",
       "      <th>A2</th>\n",
       "      <td>5</td>\n",
       "      <td>7</td>\n",
       "    </tr>\n",
       "    <tr>\n",
       "      <th>A3</th>\n",
       "      <td>6</td>\n",
       "      <td>4</td>\n",
       "    </tr>\n",
       "    <tr>\n",
       "      <th>A4</th>\n",
       "      <td>2</td>\n",
       "      <td>8</td>\n",
       "    </tr>\n",
       "    <tr>\n",
       "      <th>A5</th>\n",
       "      <td>7</td>\n",
       "      <td>3</td>\n",
       "    </tr>\n",
       "    <tr>\n",
       "      <th>A6</th>\n",
       "      <td>2</td>\n",
       "      <td>6</td>\n",
       "    </tr>\n",
       "    <tr>\n",
       "      <th>A7</th>\n",
       "      <td>4</td>\n",
       "      <td>3</td>\n",
       "    </tr>\n",
       "    <tr>\n",
       "      <th>A8</th>\n",
       "      <td>3</td>\n",
       "      <td>8</td>\n",
       "    </tr>\n",
       "    <tr>\n",
       "      <th>A9</th>\n",
       "      <td>5</td>\n",
       "      <td>8</td>\n",
       "    </tr>\n",
       "  </tbody>\n",
       "</table>\n",
       "</div>"
      ],
      "text/plain": [
       "     X  Y\n",
       "UID      \n",
       "A1   3  9\n",
       "A2   5  7\n",
       "A3   6  4\n",
       "A4   2  8\n",
       "A5   7  3\n",
       "A6   2  6\n",
       "A7   4  3\n",
       "A8   3  8\n",
       "A9   5  8"
      ]
     },
     "execution_count": 430,
     "metadata": {},
     "output_type": "execute_result"
    }
   ],
   "source": [
    "data = pd.DataFrame({\"UID\": ['A1', 'A2', 'A3', 'A4', 'A5', 'A6', 'A7', 'A8', 'A9'],\n",
    "                   \"X\": [3,5,6,2,7,2,4,3,5], \n",
    "                   \"Y\": [9,7,4,8,3,6,3,8,8]})\n",
    "\n",
    "df = data[:]\n",
    "df.set_index('UID', inplace=True)\n",
    "df"
   ]
  },
  {
   "cell_type": "markdown",
   "metadata": {},
   "source": [
    "## Very Basic EDA"
   ]
  },
  {
   "cell_type": "code",
   "execution_count": 408,
   "metadata": {},
   "outputs": [
    {
     "data": {
      "text/plain": [
       "<matplotlib.axes._subplots.AxesSubplot at 0x7fdd1f018978>"
      ]
     },
     "execution_count": 408,
     "metadata": {},
     "output_type": "execute_result"
    },
    {
     "data": {
      "image/png": "[encoded data removed]",
      "text/plain": [
       "<Figure size 1080x432 with 1 Axes>"
      ]
     },
     "metadata": {
      "needs_background": "light"
     },
     "output_type": "display_data"
    }
   ],
   "source": [
    "fig, ax = plt.subplots(figsize=(15,6))\n",
    "sns.scatterplot(x=df.X, y=df.Y, marker=\"o\", color='blue', s=100)"
   ]
  },
  {
   "cell_type": "markdown",
   "metadata": {},
   "source": [
    "- Clearly three to four clusters"
   ]
  },
  {
   "cell_type": "markdown",
   "metadata": {},
   "source": [
    "## Normalization\n",
    "\n",
    "K-Means uses euclidean distance which makes squishing the values on a similar scale essential, else with squared distances, vectors with a higher magnitude will distort the cluster centers"
   ]
  },
  {
   "cell_type": "code",
   "execution_count": 654,
   "metadata": {},
   "outputs": [],
   "source": [
    "# The dummy data was created by hand, and hence requires no normalization as such"
   ]
  },
  {
   "cell_type": "markdown",
   "metadata": {},
   "source": [
    "## K-Means"
   ]
  },
  {
   "cell_type": "markdown",
   "metadata": {},
   "source": [
    "`Algorithm`\n",
    "\n",
    "- Step 1. Choose the number of clusters (k)\n",
    "\n",
    "\n",
    "- Step 2. Choose initial centorids using one of the methods below:\n",
    "    - 2.1. $Random$ - randomly select k data-points as centroids\n",
    "    - 2.2. $kmeans++$ - Based on heuristics, assign some imaginary points as centroids.\n",
    "    - 2.3. $User-defined$ - User chooses the inital centroids based on judgement.\n",
    "    \n",
    "    \n",
    "- Step 3. Compute pair-wise distance matrix, using Euclidean Distance, $Ed(X_{11}, X_{12})$ \n",
    "\n",
    "\n",
    "- Step 4. Sort the proximity matrix and choose smallest distances and assign them the centroid's cluster ids.\n",
    "\n",
    "\n",
    "- Step 5. Updated centroids: Recompute the centroid coordinates for all the members including newer cluster-ids created.\n",
    "\n",
    "\n",
    "- Step 6. Repeat 3, 4 and 5 till either of the two conditions are met:\n",
    "    - 6.1. Till the model converges and there are no new centroids being created, or,\n",
    "    - 6.2. The process limits to the number of max-iterations defined.\n",
    "    \n",
    "\n",
    "- Done.\n",
    "\n",
    "\n",
    "The quality of the cluster assignments is determined by computing the sum of the squared error (SSE) after the centroids converge, or match the previous iteration’s assignment. The SSE is defined as the sum of the squared Euclidean distances of each point to its closest centroid. Since this is a measure of error, the objective of k-means is to try to minimize this value.\n",
    "\n",
    "The random initialization step causes the k-means algorithm to be nondeterministic, meaning that cluster assignments will vary if you run the same algorithm twice on the same dataset. Researchers commonly run several initializations of the entire k-means algorithm and choose the cluster assignments from the initialization with the lowest SSE."
   ]
  },
  {
   "cell_type": "markdown",
   "metadata": {},
   "source": [
    "----"
   ]
  },
  {
   "cell_type": "markdown",
   "metadata": {},
   "source": [
    "## K-Means by Hand"
   ]
  },
  {
   "cell_type": "markdown",
   "metadata": {},
   "source": [
    "### 1. Set parameters"
   ]
  },
  {
   "cell_type": "code",
   "execution_count": 409,
   "metadata": {},
   "outputs": [],
   "source": [
    "def get_plot(data):\n",
    "    \"\"\"Plotting Points\"\"\"\n",
    "    cluster_col = 'Cluster_id'\n",
    "    # get n clusters\n",
    "    cluster_ids = data[cluster_col].unique()\n",
    "    # get n colors\n",
    "    colors = [\"#%06x\" % random.randint(0, 0xFFFFFF) for i in range(len(cluster_ids))]\n",
    "    # assign each cluster as some colour\n",
    "    fig, ax = plt.subplots(figsize=(15,6))\n",
    "    for i in cluster_ids:\n",
    "        sample = data[data[cluster_col] == i]\n",
    "        plt.scatter(sample[\"X\"], sample[\"Y\"], c=colors[i], s=100)\n",
    "    # color centroid\n",
    "    plt.scatter(data['Centroid_X'], data['Centroid_Y'], c='black', marker=\"+\", linewidths=10, s=300)\n",
    "    plt.xlabel('X coord')\n",
    "    plt.ylabel('Y coord')\n",
    "    plt.show()\n",
    "    return"
   ]
  },
  {
   "cell_type": "code",
   "execution_count": 410,
   "metadata": {},
   "outputs": [
    {
     "data": {
      "text/html": [
       "<div>\n",
       "<style scoped>\n",
       "    .dataframe tbody tr th:only-of-type {\n",
       "        vertical-align: middle;\n",
       "    }\n",
       "\n",
       "    .dataframe tbody tr th {\n",
       "        vertical-align: top;\n",
       "    }\n",
       "\n",
       "    .dataframe thead th {\n",
       "        text-align: right;\n",
       "    }\n",
       "</style>\n",
       "<table border=\"1\" class=\"dataframe\">\n",
       "  <thead>\n",
       "    <tr style=\"text-align: right;\">\n",
       "      <th></th>\n",
       "      <th>X</th>\n",
       "      <th>Y</th>\n",
       "      <th>Cluster_id</th>\n",
       "      <th>Centroid_X</th>\n",
       "      <th>Centroid_Y</th>\n",
       "    </tr>\n",
       "    <tr>\n",
       "      <th>UID</th>\n",
       "      <th></th>\n",
       "      <th></th>\n",
       "      <th></th>\n",
       "      <th></th>\n",
       "      <th></th>\n",
       "    </tr>\n",
       "  </thead>\n",
       "  <tbody>\n",
       "    <tr>\n",
       "      <th>A1</th>\n",
       "      <td>3</td>\n",
       "      <td>9</td>\n",
       "      <td>-1</td>\n",
       "      <td>None</td>\n",
       "      <td>None</td>\n",
       "    </tr>\n",
       "    <tr>\n",
       "      <th>A2</th>\n",
       "      <td>5</td>\n",
       "      <td>7</td>\n",
       "      <td>-1</td>\n",
       "      <td>None</td>\n",
       "      <td>None</td>\n",
       "    </tr>\n",
       "    <tr>\n",
       "      <th>A3</th>\n",
       "      <td>6</td>\n",
       "      <td>4</td>\n",
       "      <td>-1</td>\n",
       "      <td>None</td>\n",
       "      <td>None</td>\n",
       "    </tr>\n",
       "    <tr>\n",
       "      <th>A4</th>\n",
       "      <td>2</td>\n",
       "      <td>8</td>\n",
       "      <td>-1</td>\n",
       "      <td>None</td>\n",
       "      <td>None</td>\n",
       "    </tr>\n",
       "    <tr>\n",
       "      <th>A5</th>\n",
       "      <td>7</td>\n",
       "      <td>3</td>\n",
       "      <td>-1</td>\n",
       "      <td>None</td>\n",
       "      <td>None</td>\n",
       "    </tr>\n",
       "    <tr>\n",
       "      <th>A6</th>\n",
       "      <td>2</td>\n",
       "      <td>6</td>\n",
       "      <td>-1</td>\n",
       "      <td>None</td>\n",
       "      <td>None</td>\n",
       "    </tr>\n",
       "    <tr>\n",
       "      <th>A7</th>\n",
       "      <td>4</td>\n",
       "      <td>3</td>\n",
       "      <td>-1</td>\n",
       "      <td>None</td>\n",
       "      <td>None</td>\n",
       "    </tr>\n",
       "    <tr>\n",
       "      <th>A8</th>\n",
       "      <td>3</td>\n",
       "      <td>8</td>\n",
       "      <td>-1</td>\n",
       "      <td>None</td>\n",
       "      <td>None</td>\n",
       "    </tr>\n",
       "    <tr>\n",
       "      <th>A9</th>\n",
       "      <td>5</td>\n",
       "      <td>8</td>\n",
       "      <td>-1</td>\n",
       "      <td>None</td>\n",
       "      <td>None</td>\n",
       "    </tr>\n",
       "  </tbody>\n",
       "</table>\n",
       "</div>"
      ],
      "text/plain": [
       "     X  Y  Cluster_id Centroid_X Centroid_Y\n",
       "UID                                        \n",
       "A1   3  9          -1       None       None\n",
       "A2   5  7          -1       None       None\n",
       "A3   6  4          -1       None       None\n",
       "A4   2  8          -1       None       None\n",
       "A5   7  3          -1       None       None\n",
       "A6   2  6          -1       None       None\n",
       "A7   4  3          -1       None       None\n",
       "A8   3  8          -1       None       None\n",
       "A9   5  8          -1       None       None"
      ]
     },
     "execution_count": 410,
     "metadata": {},
     "output_type": "execute_result"
    }
   ],
   "source": [
    "# :: configuration ::\n",
    "\n",
    "N_CLUSTER_K = 4\n",
    "SAMPLE_SIZE = len(df)\n",
    "KMEANS_RATE = 5\n",
    "\n",
    "# inits\n",
    "df['Cluster_id'] = -1\n",
    "df['Centroid_X'] = None\n",
    "df['Centroid_Y'] = None\n",
    "df"
   ]
  },
  {
   "cell_type": "markdown",
   "metadata": {},
   "source": [
    "### 2. Choose initial centroids (random, kmeans++, etc)"
   ]
  },
  {
   "cell_type": "code",
   "execution_count": 411,
   "metadata": {},
   "outputs": [
    {
     "name": "stdout",
     "output_type": "stream",
     "text": [
      "Our initial centroids are:  ['A6', 'A3', 'A4', 'A9']\n"
     ]
    }
   ],
   "source": [
    "random.seed(7)\n",
    "unique_ids = df.index.tolist()\n",
    "\n",
    "# 1. method = 'random' from dataset\n",
    "INITIAL_CENTROIDS = []\n",
    "INITIAL_CENTROIDS = random.sample(unique_ids, k=N_CLUSTER_K)\n",
    "\n",
    "# 2. OR, method = 'user choice' from dataset\n",
    "# INITIAL_CENTROIDS = [\"A1\", \"A2\", \"A3\"]\n",
    "\n",
    "# 3. OR, method = 'random coordinates' based on heuristics\n",
    "# INITIAL_CENTROIDS = [(2,4), (5,5), (6,6)]\n",
    "\n",
    "print(\"Our initial centroids are: \", INITIAL_CENTROIDS)"
   ]
  },
  {
   "cell_type": "markdown",
   "metadata": {},
   "source": [
    "### 3. Update Centroid Information"
   ]
  },
  {
   "cell_type": "code",
   "execution_count": 412,
   "metadata": {},
   "outputs": [
    {
     "name": "stdout",
     "output_type": "stream",
     "text": [
      "     X  Y  Cluster_id Centroid_X Centroid_Y\n",
      "UID                                        \n",
      "A1   3  9          -1       None       None\n",
      "A2   5  7          -1       None       None\n",
      "A3   6  4           1          6          4\n",
      "A4   2  8           2          2          8\n",
      "A5   7  3          -1       None       None\n",
      "A6   2  6           0          2          6\n",
      "A7   4  3          -1       None       None\n",
      "A8   3  8          -1       None       None\n",
      "A9   5  8           3          5          8\n"
     ]
    },
    {
     "data": {
      "image/png": "[encoded data removed]",
      "text/plain": [
       "<Figure size 1080x432 with 1 Axes>"
      ]
     },
     "metadata": {
      "needs_background": "light"
     },
     "output_type": "display_data"
    }
   ],
   "source": [
    "Cluster_id = 0\n",
    "\n",
    "for uid in INITIAL_CENTROIDS:\n",
    "    df.loc[uid, \"Cluster_id\"], df.loc[uid, \"Centroid_X\"], df.loc[uid, \"Centroid_Y\"] = \\\n",
    "        Cluster_id, df.loc[uid, \"X\"], df.loc[uid, \"Y\"]\n",
    "    Cluster_id+=1\n",
    "\n",
    "# store cluster id information (assigned to only centroids for now)\n",
    "cluster_ids = list(set(df['Cluster_id']))\n",
    "cluster_ids.remove(-1)\n",
    "\n",
    "print(df)\n",
    "get_plot(df)"
   ]
  },
  {
   "cell_type": "markdown",
   "metadata": {},
   "source": [
    "- `+` are initial chosen centorids"
   ]
  },
  {
   "cell_type": "markdown",
   "metadata": {},
   "source": [
    "### Iteration 1: \n",
    "\n",
    "#### 4.1. Compute relative pair-wise distances for each datapoint"
   ]
  },
  {
   "cell_type": "code",
   "execution_count": 413,
   "metadata": {
    "scrolled": true
   },
   "outputs": [
    {
     "data": {
      "text/html": [
       "<div>\n",
       "<style scoped>\n",
       "    .dataframe tbody tr th:only-of-type {\n",
       "        vertical-align: middle;\n",
       "    }\n",
       "\n",
       "    .dataframe tbody tr th {\n",
       "        vertical-align: top;\n",
       "    }\n",
       "\n",
       "    .dataframe thead th {\n",
       "        text-align: right;\n",
       "    }\n",
       "</style>\n",
       "<table border=\"1\" class=\"dataframe\">\n",
       "  <thead>\n",
       "    <tr style=\"text-align: right;\">\n",
       "      <th></th>\n",
       "      <th>X</th>\n",
       "      <th>Y</th>\n",
       "      <th>Cluster_id</th>\n",
       "      <th>Centroid_X</th>\n",
       "      <th>Centroid_Y</th>\n",
       "      <th>dist_cid_0</th>\n",
       "      <th>dist_cid_1</th>\n",
       "      <th>dist_cid_2</th>\n",
       "      <th>dist_cid_3</th>\n",
       "    </tr>\n",
       "    <tr>\n",
       "      <th>UID</th>\n",
       "      <th></th>\n",
       "      <th></th>\n",
       "      <th></th>\n",
       "      <th></th>\n",
       "      <th></th>\n",
       "      <th></th>\n",
       "      <th></th>\n",
       "      <th></th>\n",
       "      <th></th>\n",
       "    </tr>\n",
       "  </thead>\n",
       "  <tbody>\n",
       "    <tr>\n",
       "      <th>A1</th>\n",
       "      <td>3</td>\n",
       "      <td>9</td>\n",
       "      <td>-1</td>\n",
       "      <td>None</td>\n",
       "      <td>None</td>\n",
       "      <td>3.162278</td>\n",
       "      <td>5.830952</td>\n",
       "      <td>1.414214</td>\n",
       "      <td>2.236068</td>\n",
       "    </tr>\n",
       "    <tr>\n",
       "      <th>A2</th>\n",
       "      <td>5</td>\n",
       "      <td>7</td>\n",
       "      <td>-1</td>\n",
       "      <td>None</td>\n",
       "      <td>None</td>\n",
       "      <td>3.162278</td>\n",
       "      <td>3.162278</td>\n",
       "      <td>3.162278</td>\n",
       "      <td>1.000000</td>\n",
       "    </tr>\n",
       "    <tr>\n",
       "      <th>A3</th>\n",
       "      <td>6</td>\n",
       "      <td>4</td>\n",
       "      <td>1</td>\n",
       "      <td>6</td>\n",
       "      <td>4</td>\n",
       "      <td>4.472136</td>\n",
       "      <td>0.000000</td>\n",
       "      <td>5.656854</td>\n",
       "      <td>4.123106</td>\n",
       "    </tr>\n",
       "    <tr>\n",
       "      <th>A4</th>\n",
       "      <td>2</td>\n",
       "      <td>8</td>\n",
       "      <td>2</td>\n",
       "      <td>2</td>\n",
       "      <td>8</td>\n",
       "      <td>2.000000</td>\n",
       "      <td>5.656854</td>\n",
       "      <td>0.000000</td>\n",
       "      <td>3.000000</td>\n",
       "    </tr>\n",
       "    <tr>\n",
       "      <th>A5</th>\n",
       "      <td>7</td>\n",
       "      <td>3</td>\n",
       "      <td>-1</td>\n",
       "      <td>None</td>\n",
       "      <td>None</td>\n",
       "      <td>5.830952</td>\n",
       "      <td>1.414214</td>\n",
       "      <td>7.071068</td>\n",
       "      <td>5.385165</td>\n",
       "    </tr>\n",
       "    <tr>\n",
       "      <th>A6</th>\n",
       "      <td>2</td>\n",
       "      <td>6</td>\n",
       "      <td>0</td>\n",
       "      <td>2</td>\n",
       "      <td>6</td>\n",
       "      <td>0.000000</td>\n",
       "      <td>4.472136</td>\n",
       "      <td>2.000000</td>\n",
       "      <td>3.605551</td>\n",
       "    </tr>\n",
       "    <tr>\n",
       "      <th>A7</th>\n",
       "      <td>4</td>\n",
       "      <td>3</td>\n",
       "      <td>-1</td>\n",
       "      <td>None</td>\n",
       "      <td>None</td>\n",
       "      <td>3.605551</td>\n",
       "      <td>2.236068</td>\n",
       "      <td>5.385165</td>\n",
       "      <td>5.099020</td>\n",
       "    </tr>\n",
       "    <tr>\n",
       "      <th>A8</th>\n",
       "      <td>3</td>\n",
       "      <td>8</td>\n",
       "      <td>-1</td>\n",
       "      <td>None</td>\n",
       "      <td>None</td>\n",
       "      <td>2.236068</td>\n",
       "      <td>5.000000</td>\n",
       "      <td>1.000000</td>\n",
       "      <td>2.000000</td>\n",
       "    </tr>\n",
       "    <tr>\n",
       "      <th>A9</th>\n",
       "      <td>5</td>\n",
       "      <td>8</td>\n",
       "      <td>3</td>\n",
       "      <td>5</td>\n",
       "      <td>8</td>\n",
       "      <td>3.605551</td>\n",
       "      <td>4.123106</td>\n",
       "      <td>3.000000</td>\n",
       "      <td>0.000000</td>\n",
       "    </tr>\n",
       "  </tbody>\n",
       "</table>\n",
       "</div>"
      ],
      "text/plain": [
       "     X  Y  Cluster_id Centroid_X Centroid_Y  dist_cid_0  dist_cid_1  \\\n",
       "UID                                                                   \n",
       "A1   3  9          -1       None       None    3.162278    5.830952   \n",
       "A2   5  7          -1       None       None    3.162278    3.162278   \n",
       "A3   6  4           1          6          4    4.472136    0.000000   \n",
       "A4   2  8           2          2          8    2.000000    5.656854   \n",
       "A5   7  3          -1       None       None    5.830952    1.414214   \n",
       "A6   2  6           0          2          6    0.000000    4.472136   \n",
       "A7   4  3          -1       None       None    3.605551    2.236068   \n",
       "A8   3  8          -1       None       None    2.236068    5.000000   \n",
       "A9   5  8           3          5          8    3.605551    4.123106   \n",
       "\n",
       "     dist_cid_2  dist_cid_3  \n",
       "UID                          \n",
       "A1     1.414214    2.236068  \n",
       "A2     3.162278    1.000000  \n",
       "A3     5.656854    4.123106  \n",
       "A4     0.000000    3.000000  \n",
       "A5     7.071068    5.385165  \n",
       "A6     2.000000    3.605551  \n",
       "A7     5.385165    5.099020  \n",
       "A8     1.000000    2.000000  \n",
       "A9     3.000000    0.000000  "
      ]
     },
     "execution_count": 413,
     "metadata": {},
     "output_type": "execute_result"
    }
   ],
   "source": [
    "for i, cid in enumerate(cluster_ids):\n",
    "    \n",
    "    # Centroid Information\n",
    "    center_X, center_Y = df[df['Cluster_id'] == cid][['Centroid_X','Centroid_Y']].drop_duplicates().values[0]\n",
    "    col_name = \"dist_cid_{}\".format(cid)\n",
    "    \n",
    "    # Distance Matrix: d[ Centorid vs Each_data_point ]\n",
    "    distances = []\n",
    "    for i, row in df.iterrows():\n",
    "        # Markowinov distance with p=2 aka Euclidean Distance\n",
    "        eucliden_distance = np.sqrt((center_X - row['X'])**2 + (center_Y - row['Y'])**2)\n",
    "        distances.append(eucliden_distance)\n",
    "    df[col_name] = distances\n",
    "    \n",
    "df"
   ]
  },
  {
   "cell_type": "markdown",
   "metadata": {},
   "source": [
    "#### 4.2. Assign smallest distances from centroids as their clusters"
   ]
  },
  {
   "cell_type": "code",
   "execution_count": 414,
   "metadata": {},
   "outputs": [
    {
     "data": {
      "image/png": "[encoded data removed]",
      "text/plain": [
       "<Figure size 1080x432 with 1 Axes>"
      ]
     },
     "metadata": {
      "needs_background": "light"
     },
     "output_type": "display_data"
    }
   ],
   "source": [
    "re_computed_ClusterIds = []\n",
    "\n",
    "for i, row in df.iterrows():\n",
    "    \n",
    "    # distance matrix for each row in data\n",
    "    dist_each_cluster = [row[\"dist_cid_{}\".format(i)] for i in cluster_ids]\n",
    "    index_min_distance = np.argmin(dist_each_cluster)\n",
    "    \n",
    "    # assign min dist cluster_id\n",
    "    assigned_cluster_id= cluster_ids[index_min_distance]\n",
    "    re_computed_ClusterIds.append(assigned_cluster_id)\n",
    "    \n",
    "# assinging new cluster ids (based on min dist)\n",
    "df['Cluster_id'] = re_computed_ClusterIds\n",
    "\n",
    "get_plot(df)"
   ]
  },
  {
   "cell_type": "markdown",
   "metadata": {},
   "source": [
    "### 5. Update Centorids"
   ]
  },
  {
   "cell_type": "code",
   "execution_count": 415,
   "metadata": {},
   "outputs": [
    {
     "data": {
      "text/html": [
       "<div>\n",
       "<style scoped>\n",
       "    .dataframe tbody tr th:only-of-type {\n",
       "        vertical-align: middle;\n",
       "    }\n",
       "\n",
       "    .dataframe tbody tr th {\n",
       "        vertical-align: top;\n",
       "    }\n",
       "\n",
       "    .dataframe thead th {\n",
       "        text-align: right;\n",
       "    }\n",
       "</style>\n",
       "<table border=\"1\" class=\"dataframe\">\n",
       "  <thead>\n",
       "    <tr style=\"text-align: right;\">\n",
       "      <th></th>\n",
       "      <th>X</th>\n",
       "      <th>Y</th>\n",
       "    </tr>\n",
       "    <tr>\n",
       "      <th>Cluster_id</th>\n",
       "      <th></th>\n",
       "      <th></th>\n",
       "    </tr>\n",
       "  </thead>\n",
       "  <tbody>\n",
       "    <tr>\n",
       "      <th>0</th>\n",
       "      <td>2.000000</td>\n",
       "      <td>6.000000</td>\n",
       "    </tr>\n",
       "    <tr>\n",
       "      <th>1</th>\n",
       "      <td>5.666667</td>\n",
       "      <td>3.333333</td>\n",
       "    </tr>\n",
       "    <tr>\n",
       "      <th>2</th>\n",
       "      <td>2.666667</td>\n",
       "      <td>8.333333</td>\n",
       "    </tr>\n",
       "    <tr>\n",
       "      <th>3</th>\n",
       "      <td>5.000000</td>\n",
       "      <td>7.500000</td>\n",
       "    </tr>\n",
       "  </tbody>\n",
       "</table>\n",
       "</div>"
      ],
      "text/plain": [
       "                   X         Y\n",
       "Cluster_id                    \n",
       "0           2.000000  6.000000\n",
       "1           5.666667  3.333333\n",
       "2           2.666667  8.333333\n",
       "3           5.000000  7.500000"
      ]
     },
     "execution_count": 415,
     "metadata": {},
     "output_type": "execute_result"
    }
   ],
   "source": [
    "### compute new centroids based on cluster-ids\n",
    "\n",
    "centroid_df = df.groupby(['Cluster_id'])[['X', 'Y']].mean()\n",
    "centroid_df"
   ]
  },
  {
   "cell_type": "code",
   "execution_count": 416,
   "metadata": {},
   "outputs": [
    {
     "data": {
      "text/html": [
       "<div>\n",
       "<style scoped>\n",
       "    .dataframe tbody tr th:only-of-type {\n",
       "        vertical-align: middle;\n",
       "    }\n",
       "\n",
       "    .dataframe tbody tr th {\n",
       "        vertical-align: top;\n",
       "    }\n",
       "\n",
       "    .dataframe thead th {\n",
       "        text-align: right;\n",
       "    }\n",
       "</style>\n",
       "<table border=\"1\" class=\"dataframe\">\n",
       "  <thead>\n",
       "    <tr style=\"text-align: right;\">\n",
       "      <th></th>\n",
       "      <th>X</th>\n",
       "      <th>Y</th>\n",
       "      <th>Cluster_id</th>\n",
       "      <th>Centroid_X</th>\n",
       "      <th>Centroid_Y</th>\n",
       "      <th>dist_cid_0</th>\n",
       "      <th>dist_cid_1</th>\n",
       "      <th>dist_cid_2</th>\n",
       "      <th>dist_cid_3</th>\n",
       "    </tr>\n",
       "    <tr>\n",
       "      <th>UID</th>\n",
       "      <th></th>\n",
       "      <th></th>\n",
       "      <th></th>\n",
       "      <th></th>\n",
       "      <th></th>\n",
       "      <th></th>\n",
       "      <th></th>\n",
       "      <th></th>\n",
       "      <th></th>\n",
       "    </tr>\n",
       "  </thead>\n",
       "  <tbody>\n",
       "    <tr>\n",
       "      <th>A1</th>\n",
       "      <td>3</td>\n",
       "      <td>9</td>\n",
       "      <td>2</td>\n",
       "      <td>2.666667</td>\n",
       "      <td>8.333333</td>\n",
       "      <td>3.162278</td>\n",
       "      <td>5.830952</td>\n",
       "      <td>1.414214</td>\n",
       "      <td>2.236068</td>\n",
       "    </tr>\n",
       "    <tr>\n",
       "      <th>A2</th>\n",
       "      <td>5</td>\n",
       "      <td>7</td>\n",
       "      <td>3</td>\n",
       "      <td>5.000000</td>\n",
       "      <td>7.500000</td>\n",
       "      <td>3.162278</td>\n",
       "      <td>3.162278</td>\n",
       "      <td>3.162278</td>\n",
       "      <td>1.000000</td>\n",
       "    </tr>\n",
       "    <tr>\n",
       "      <th>A3</th>\n",
       "      <td>6</td>\n",
       "      <td>4</td>\n",
       "      <td>1</td>\n",
       "      <td>5.666667</td>\n",
       "      <td>3.333333</td>\n",
       "      <td>4.472136</td>\n",
       "      <td>0.000000</td>\n",
       "      <td>5.656854</td>\n",
       "      <td>4.123106</td>\n",
       "    </tr>\n",
       "    <tr>\n",
       "      <th>A4</th>\n",
       "      <td>2</td>\n",
       "      <td>8</td>\n",
       "      <td>2</td>\n",
       "      <td>2.666667</td>\n",
       "      <td>8.333333</td>\n",
       "      <td>2.000000</td>\n",
       "      <td>5.656854</td>\n",
       "      <td>0.000000</td>\n",
       "      <td>3.000000</td>\n",
       "    </tr>\n",
       "    <tr>\n",
       "      <th>A5</th>\n",
       "      <td>7</td>\n",
       "      <td>3</td>\n",
       "      <td>1</td>\n",
       "      <td>5.666667</td>\n",
       "      <td>3.333333</td>\n",
       "      <td>5.830952</td>\n",
       "      <td>1.414214</td>\n",
       "      <td>7.071068</td>\n",
       "      <td>5.385165</td>\n",
       "    </tr>\n",
       "    <tr>\n",
       "      <th>A6</th>\n",
       "      <td>2</td>\n",
       "      <td>6</td>\n",
       "      <td>0</td>\n",
       "      <td>2.000000</td>\n",
       "      <td>6.000000</td>\n",
       "      <td>0.000000</td>\n",
       "      <td>4.472136</td>\n",
       "      <td>2.000000</td>\n",
       "      <td>3.605551</td>\n",
       "    </tr>\n",
       "    <tr>\n",
       "      <th>A7</th>\n",
       "      <td>4</td>\n",
       "      <td>3</td>\n",
       "      <td>1</td>\n",
       "      <td>5.666667</td>\n",
       "      <td>3.333333</td>\n",
       "      <td>3.605551</td>\n",
       "      <td>2.236068</td>\n",
       "      <td>5.385165</td>\n",
       "      <td>5.099020</td>\n",
       "    </tr>\n",
       "    <tr>\n",
       "      <th>A8</th>\n",
       "      <td>3</td>\n",
       "      <td>8</td>\n",
       "      <td>2</td>\n",
       "      <td>2.666667</td>\n",
       "      <td>8.333333</td>\n",
       "      <td>2.236068</td>\n",
       "      <td>5.000000</td>\n",
       "      <td>1.000000</td>\n",
       "      <td>2.000000</td>\n",
       "    </tr>\n",
       "    <tr>\n",
       "      <th>A9</th>\n",
       "      <td>5</td>\n",
       "      <td>8</td>\n",
       "      <td>3</td>\n",
       "      <td>5.000000</td>\n",
       "      <td>7.500000</td>\n",
       "      <td>3.605551</td>\n",
       "      <td>4.123106</td>\n",
       "      <td>3.000000</td>\n",
       "      <td>0.000000</td>\n",
       "    </tr>\n",
       "  </tbody>\n",
       "</table>\n",
       "</div>"
      ],
      "text/plain": [
       "     X  Y  Cluster_id  Centroid_X  Centroid_Y  dist_cid_0  dist_cid_1  \\\n",
       "UID                                                                     \n",
       "A1   3  9           2    2.666667    8.333333    3.162278    5.830952   \n",
       "A2   5  7           3    5.000000    7.500000    3.162278    3.162278   \n",
       "A3   6  4           1    5.666667    3.333333    4.472136    0.000000   \n",
       "A4   2  8           2    2.666667    8.333333    2.000000    5.656854   \n",
       "A5   7  3           1    5.666667    3.333333    5.830952    1.414214   \n",
       "A6   2  6           0    2.000000    6.000000    0.000000    4.472136   \n",
       "A7   4  3           1    5.666667    3.333333    3.605551    2.236068   \n",
       "A8   3  8           2    2.666667    8.333333    2.236068    5.000000   \n",
       "A9   5  8           3    5.000000    7.500000    3.605551    4.123106   \n",
       "\n",
       "     dist_cid_2  dist_cid_3  \n",
       "UID                          \n",
       "A1     1.414214    2.236068  \n",
       "A2     3.162278    1.000000  \n",
       "A3     5.656854    4.123106  \n",
       "A4     0.000000    3.000000  \n",
       "A5     7.071068    5.385165  \n",
       "A6     2.000000    3.605551  \n",
       "A7     5.385165    5.099020  \n",
       "A8     1.000000    2.000000  \n",
       "A9     3.000000    0.000000  "
      ]
     },
     "execution_count": 416,
     "metadata": {},
     "output_type": "execute_result"
    }
   ],
   "source": [
    "new_centroids_X, new_centroids_Y = [], []\n",
    "\n",
    "for i, row in df.iterrows():\n",
    "    center_X, center_Y = centroid_df.loc[row['Cluster_id'],:]['X'], centroid_df.loc[row['Cluster_id'],:]['Y']\n",
    "    new_centroids_X.append(center_X)\n",
    "    new_centroids_Y.append(center_Y)\n",
    "\n",
    "df['Centroid_X'] = new_centroids_X\n",
    "df['Centroid_Y'] = new_centroids_Y\n",
    "\n",
    "df"
   ]
  },
  {
   "cell_type": "code",
   "execution_count": 417,
   "metadata": {},
   "outputs": [
    {
     "data": {
      "image/png": "[encoded data removed]",
      "text/plain": [
       "<Figure size 1080x432 with 1 Axes>"
      ]
     },
     "metadata": {
      "needs_background": "light"
     },
     "output_type": "display_data"
    }
   ],
   "source": [
    "get_plot(df)"
   ]
  },
  {
   "cell_type": "code",
   "execution_count": 420,
   "metadata": {},
   "outputs": [],
   "source": [
    "# for computing SSE between centorids\n",
    "\n",
    "iteration1_centroid_df = centroid_df[:]"
   ]
  },
  {
   "cell_type": "markdown",
   "metadata": {},
   "source": [
    "### Iteration 2: "
   ]
  },
  {
   "cell_type": "markdown",
   "metadata": {},
   "source": [
    "Should we stop or continue ?\n",
    "\n",
    "*- put a limit of max_iterations or a check if no centroids are updated exit the process.*"
   ]
  },
  {
   "cell_type": "markdown",
   "metadata": {},
   "source": [
    "#### 6.1. Compute relative pair-wise distances for each datapoint"
   ]
  },
  {
   "cell_type": "code",
   "execution_count": 421,
   "metadata": {},
   "outputs": [
    {
     "data": {
      "text/html": [
       "<div>\n",
       "<style scoped>\n",
       "    .dataframe tbody tr th:only-of-type {\n",
       "        vertical-align: middle;\n",
       "    }\n",
       "\n",
       "    .dataframe tbody tr th {\n",
       "        vertical-align: top;\n",
       "    }\n",
       "\n",
       "    .dataframe thead th {\n",
       "        text-align: right;\n",
       "    }\n",
       "</style>\n",
       "<table border=\"1\" class=\"dataframe\">\n",
       "  <thead>\n",
       "    <tr style=\"text-align: right;\">\n",
       "      <th></th>\n",
       "      <th>X</th>\n",
       "      <th>Y</th>\n",
       "      <th>Cluster_id</th>\n",
       "      <th>Centroid_X</th>\n",
       "      <th>Centroid_Y</th>\n",
       "      <th>dist_cid_0</th>\n",
       "      <th>dist_cid_1</th>\n",
       "      <th>dist_cid_2</th>\n",
       "      <th>dist_cid_3</th>\n",
       "    </tr>\n",
       "    <tr>\n",
       "      <th>UID</th>\n",
       "      <th></th>\n",
       "      <th></th>\n",
       "      <th></th>\n",
       "      <th></th>\n",
       "      <th></th>\n",
       "      <th></th>\n",
       "      <th></th>\n",
       "      <th></th>\n",
       "      <th></th>\n",
       "    </tr>\n",
       "  </thead>\n",
       "  <tbody>\n",
       "    <tr>\n",
       "      <th>A1</th>\n",
       "      <td>3</td>\n",
       "      <td>9</td>\n",
       "      <td>2</td>\n",
       "      <td>2.666667</td>\n",
       "      <td>8.333333</td>\n",
       "      <td>3.162278</td>\n",
       "      <td>6.262765</td>\n",
       "      <td>0.745356</td>\n",
       "      <td>2.500000</td>\n",
       "    </tr>\n",
       "    <tr>\n",
       "      <th>A2</th>\n",
       "      <td>5</td>\n",
       "      <td>7</td>\n",
       "      <td>3</td>\n",
       "      <td>5.000000</td>\n",
       "      <td>7.500000</td>\n",
       "      <td>3.162278</td>\n",
       "      <td>3.726780</td>\n",
       "      <td>2.687419</td>\n",
       "      <td>0.500000</td>\n",
       "    </tr>\n",
       "    <tr>\n",
       "      <th>A3</th>\n",
       "      <td>6</td>\n",
       "      <td>4</td>\n",
       "      <td>1</td>\n",
       "      <td>5.666667</td>\n",
       "      <td>3.333333</td>\n",
       "      <td>4.472136</td>\n",
       "      <td>0.745356</td>\n",
       "      <td>5.467073</td>\n",
       "      <td>3.640055</td>\n",
       "    </tr>\n",
       "    <tr>\n",
       "      <th>A4</th>\n",
       "      <td>2</td>\n",
       "      <td>8</td>\n",
       "      <td>2</td>\n",
       "      <td>2.666667</td>\n",
       "      <td>8.333333</td>\n",
       "      <td>2.000000</td>\n",
       "      <td>5.934831</td>\n",
       "      <td>0.745356</td>\n",
       "      <td>3.041381</td>\n",
       "    </tr>\n",
       "    <tr>\n",
       "      <th>A5</th>\n",
       "      <td>7</td>\n",
       "      <td>3</td>\n",
       "      <td>1</td>\n",
       "      <td>5.666667</td>\n",
       "      <td>3.333333</td>\n",
       "      <td>5.830952</td>\n",
       "      <td>1.374369</td>\n",
       "      <td>6.871843</td>\n",
       "      <td>4.924429</td>\n",
       "    </tr>\n",
       "    <tr>\n",
       "      <th>A6</th>\n",
       "      <td>2</td>\n",
       "      <td>6</td>\n",
       "      <td>0</td>\n",
       "      <td>2.000000</td>\n",
       "      <td>6.000000</td>\n",
       "      <td>0.000000</td>\n",
       "      <td>4.533824</td>\n",
       "      <td>2.426703</td>\n",
       "      <td>3.354102</td>\n",
       "    </tr>\n",
       "    <tr>\n",
       "      <th>A7</th>\n",
       "      <td>4</td>\n",
       "      <td>3</td>\n",
       "      <td>1</td>\n",
       "      <td>5.666667</td>\n",
       "      <td>3.333333</td>\n",
       "      <td>3.605551</td>\n",
       "      <td>1.699673</td>\n",
       "      <td>5.497474</td>\n",
       "      <td>4.609772</td>\n",
       "    </tr>\n",
       "    <tr>\n",
       "      <th>A8</th>\n",
       "      <td>3</td>\n",
       "      <td>8</td>\n",
       "      <td>2</td>\n",
       "      <td>2.666667</td>\n",
       "      <td>8.333333</td>\n",
       "      <td>2.236068</td>\n",
       "      <td>5.374838</td>\n",
       "      <td>0.471405</td>\n",
       "      <td>2.061553</td>\n",
       "    </tr>\n",
       "    <tr>\n",
       "      <th>A9</th>\n",
       "      <td>5</td>\n",
       "      <td>8</td>\n",
       "      <td>3</td>\n",
       "      <td>5.000000</td>\n",
       "      <td>7.500000</td>\n",
       "      <td>3.605551</td>\n",
       "      <td>4.714045</td>\n",
       "      <td>2.357023</td>\n",
       "      <td>0.500000</td>\n",
       "    </tr>\n",
       "  </tbody>\n",
       "</table>\n",
       "</div>"
      ],
      "text/plain": [
       "     X  Y  Cluster_id  Centroid_X  Centroid_Y  dist_cid_0  dist_cid_1  \\\n",
       "UID                                                                     \n",
       "A1   3  9           2    2.666667    8.333333    3.162278    6.262765   \n",
       "A2   5  7           3    5.000000    7.500000    3.162278    3.726780   \n",
       "A3   6  4           1    5.666667    3.333333    4.472136    0.745356   \n",
       "A4   2  8           2    2.666667    8.333333    2.000000    5.934831   \n",
       "A5   7  3           1    5.666667    3.333333    5.830952    1.374369   \n",
       "A6   2  6           0    2.000000    6.000000    0.000000    4.533824   \n",
       "A7   4  3           1    5.666667    3.333333    3.605551    1.699673   \n",
       "A8   3  8           2    2.666667    8.333333    2.236068    5.374838   \n",
       "A9   5  8           3    5.000000    7.500000    3.605551    4.714045   \n",
       "\n",
       "     dist_cid_2  dist_cid_3  \n",
       "UID                          \n",
       "A1     0.745356    2.500000  \n",
       "A2     2.687419    0.500000  \n",
       "A3     5.467073    3.640055  \n",
       "A4     0.745356    3.041381  \n",
       "A5     6.871843    4.924429  \n",
       "A6     2.426703    3.354102  \n",
       "A7     5.497474    4.609772  \n",
       "A8     0.471405    2.061553  \n",
       "A9     2.357023    0.500000  "
      ]
     },
     "execution_count": 421,
     "metadata": {},
     "output_type": "execute_result"
    }
   ],
   "source": [
    "for i, cid in enumerate(cluster_ids):\n",
    "    \n",
    "    # Centroid Information\n",
    "    center_X, center_Y = df[df['Cluster_id'] == cid][['Centroid_X','Centroid_Y']].drop_duplicates().values[0]\n",
    "    col_name = \"dist_cid_{}\".format(cid)\n",
    "    \n",
    "    # Distance Matrix: d[ Centorid vs Each_data_point ]\n",
    "    distances = []\n",
    "    for i, row in df.iterrows():\n",
    "        # Markowinov distance with p=2 aka Euclidean Distance\n",
    "        eucliden_distance = np.sqrt((center_X - row['X'])**2 + (center_Y - row['Y'])**2)\n",
    "        distances.append(eucliden_distance)\n",
    "    \n",
    "    df[col_name] = distances\n",
    "    \n",
    "df"
   ]
  },
  {
   "cell_type": "markdown",
   "metadata": {},
   "source": [
    "#### 6.2. Assign smallest distances from centroids as their clusters"
   ]
  },
  {
   "cell_type": "code",
   "execution_count": 422,
   "metadata": {},
   "outputs": [
    {
     "data": {
      "image/png": "[encoded data removed]",
      "text/plain": [
       "<Figure size 1080x432 with 1 Axes>"
      ]
     },
     "metadata": {
      "needs_background": "light"
     },
     "output_type": "display_data"
    }
   ],
   "source": [
    "re_computed_ClusterIds = []\n",
    "\n",
    "for i, row in df.iterrows():\n",
    "    \n",
    "    # distance matrix for each row in data\n",
    "    dist_each_cluster = [row[\"dist_cid_{}\".format(i)] for i in cluster_ids]\n",
    "    index_min_distance = np.argmin(dist_each_cluster)\n",
    "    \n",
    "    # assign min dist cluster_id\n",
    "    assigned_cluster_id= cluster_ids[index_min_distance]\n",
    "    re_computed_ClusterIds.append(assigned_cluster_id)\n",
    "    \n",
    "# assinging new cluster ids (based on min dist)\n",
    "df['Cluster_id'] = re_computed_ClusterIds\n",
    "get_plot(df)"
   ]
  },
  {
   "cell_type": "markdown",
   "metadata": {},
   "source": [
    "- No change in cluster members, we have reached an impass!\n",
    "- Exit process."
   ]
  },
  {
   "cell_type": "code",
   "execution_count": 423,
   "metadata": {},
   "outputs": [],
   "source": [
    "# for computing SSE between centorids\n",
    "\n",
    "iteration2_centroid_df = centroid_df[:]"
   ]
  },
  {
   "cell_type": "markdown",
   "metadata": {},
   "source": [
    "### Should we stop?"
   ]
  },
  {
   "cell_type": "code",
   "execution_count": 424,
   "metadata": {},
   "outputs": [
    {
     "data": {
      "text/plain": [
       "0.0"
      ]
     },
     "execution_count": 424,
     "metadata": {},
     "output_type": "execute_result"
    }
   ],
   "source": [
    "# sum_distances_centroid\n",
    "\n",
    "(iteration2_centroid_df - iteration1_centroid_df).agg(['sum']).sum(axis=1)[0]"
   ]
  },
  {
   "cell_type": "markdown",
   "metadata": {},
   "source": [
    "- Voila!\n",
    "- We can try one more stop to see if centroid changes (it won't here, but for larger datasts, it will take time to converge on suitable centorids)"
   ]
  },
  {
   "cell_type": "markdown",
   "metadata": {},
   "source": [
    "### Iteration 3"
   ]
  },
  {
   "cell_type": "code",
   "execution_count": 426,
   "metadata": {},
   "outputs": [],
   "source": [
    "# perform another iteration:\n",
    "# 1. Compute distances between each point and centroids\n",
    "# 2. Find centorid with min distance \n",
    "# 3. Assign centorid's cluster id to the data point\n",
    "# 4. Recompute centorid information comprising of newly added memebers"
   ]
  },
  {
   "cell_type": "markdown",
   "metadata": {},
   "source": [
    "- Centroids do not change, hence we can stop.\n",
    "- We have acquired best centroid distributions. Is it?\n",
    "\n",
    "- We can perform this process iteratively, 'n' times with random allocation of intial centorids (kmeans++), to validate if this actually was the best inital segmentation."
   ]
  },
  {
   "cell_type": "markdown",
   "metadata": {},
   "source": [
    "----"
   ]
  },
  {
   "cell_type": "markdown",
   "metadata": {},
   "source": [
    "#### Iterative K-Means for 2-Dimensional data (ONLY) : One class to rule it all!"
   ]
  },
  {
   "cell_type": "code",
   "execution_count": 445,
   "metadata": {},
   "outputs": [],
   "source": [
    "class K_Means:\n",
    "    \"\"\" Iterative KMeans Clustering \"\"\"\n",
    "    \n",
    "    def __init__(self, MAX_ITERS, \n",
    "                 KMEANS_RATE, \n",
    "                 CLUSTER_K=None, \n",
    "                 COHESION_THRESHOLD=0.1, \n",
    "                 N_CROSS_VALIDATE = 3,\n",
    "                 SCALING=True,\n",
    "                 col_UID=None, col_feature_1=\"X\", col_feature_2=\"Y\", col_cluster_id=\"Cluster_id\"):\n",
    "        \n",
    "        # clustering params settings\n",
    "        self.max_iters = MAX_ITERS                     # max number of times each clustering process can run\n",
    "        self.kmeans_rate = KMEANS_RATE                 # learning rate\n",
    "        self.cluster_k = CLUSTER_K                     # user-defined or statisitc based computed\n",
    "        self.scaling = SCALING                         # standardize or not\n",
    "        self.cohesion_threshold = COHESION_THRESHOLD   # threshold value for diff b/w two sum(centroids)\n",
    "        self.cv = N_CROSS_VALIDATE                     # iterative clustering number of times\n",
    "        \n",
    "        # data feature names\n",
    "        self.UID = col_UID\n",
    "        self.orginal_X = col_feature_1\n",
    "        self.orginal_Y = col_feature_2\n",
    "        self.centroid_X = 'Centroid_X'\n",
    "        self.centroid_Y = 'Centroid_Y'\n",
    "        self.cluster_id = col_cluster_id\n",
    "        \n",
    "        if self.scaling:\n",
    "            self.scaler = StandardScaler()\n",
    "            self.X = \"Scaled_%s\" % self.orginal_X\n",
    "            self.Y = \"Scaled_%s\" % self.orginal_Y\n",
    "        else:\n",
    "            self.X = self.orginal_X\n",
    "            self.Y = self.orginal_Y\n",
    "        \n",
    "        self.df = {}\n",
    "        self.centroid_df = {}   \n",
    "        self.distance_matrix = {}\n",
    "        return\n",
    "        \n",
    "    \n",
    "    def prepare_df(self, data):\n",
    "        \"\"\"\n",
    "        Takes a new dataset and processes it.\n",
    "        \"\"\"\n",
    "        if not self.UID: \n",
    "            self.UID = [\"UID_%d\" % i for i in range(len(data))]\n",
    "        data = data.drop_duplicates(subset=[self.orginal_X, self.orginal_Y]).reset_index(drop=True)\n",
    "        if not self.cluster_k:\n",
    "            self.cluster_k = int(np.sqrt(len(data) / 2)) * self.kmeans_rate\n",
    "        data[self.cluster_id] = -1\n",
    "        data[self.centroid_X] = 0\n",
    "        data[self.centroid_Y] = 0\n",
    "        if self.scaling:\n",
    "            self.scaler.fit(data[[self.orginal_X, self.orginal_Y]])\n",
    "            data[self.X], data[self.Y] = zip(*self.scaler.transform(data[[self.orginal_X, self.orginal_Y]]))\n",
    "        return data\n",
    "        \n",
    "    \n",
    "    def init_centroids(self):\n",
    "        \"\"\"\n",
    "        Randomly allocated few datapoints as centroids.\n",
    "        \"\"\"\n",
    "        # Select random observation as centroids\n",
    "        candidates = self.df[self.UID].tolist()\n",
    "        \n",
    "        INITIAL_CENTROIDS = []\n",
    "        for i in range(self.cluster_k):\n",
    "            chosen = candidates[np.random.randint(len(candidates))]\n",
    "            candidates.remove(chosen)\n",
    "            INITIAL_CENTROIDS.append(chosen)\n",
    "    \n",
    "        # Centroid Coordinates\n",
    "        self.centroid_df = pd.DataFrame({self.cluster_id: range(self.cluster_k),\n",
    "                                         self.X: self.df[self.df[self.UID].isin(INITIAL_CENTROIDS)][self.X],\n",
    "                                         self.Y: self.df[self.df[self.UID].isin(INITIAL_CENTROIDS)][self.Y]})\n",
    "        self.centroid_df = self.centroid_df.reset_index(drop=True)\n",
    "        print(\"centroids initialized with: \", INITIAL_CENTROIDS)        \n",
    "        \n",
    "    \n",
    "    def calc_sse(self):\n",
    "        \"\"\"\n",
    "        Computes sum of squared errors for each clustered matrix.\n",
    "        \"\"\"\n",
    "        # SSE = SUM[ dist(closest_centorid, point) ]\n",
    "        return self.distance_matrix['dist_min'].sum()\n",
    "\n",
    "    \n",
    "    def calc_distance_matrix(self):\n",
    "        \"\"\"\n",
    "        Computes distance matrix between centroids vs rest of data-points.\n",
    "        \n",
    "         X,Y        Centroid_1(X,Y)   Centroid_2(X,Y)   Centroid_3(X,Y)     min_dist    assigned_cluster\n",
    "        Point_1      d(c1, p1)           d(c2, p1)         d(c3, p1)          min_d        c1\n",
    "        Point_2      d(c1, p2)           d(c2, p2)         d(c3, p2)          min_d        c2\n",
    "        Point_3      d(c1, p3)           d(c2, p3)         d(c3, p3)          min_d        c3\n",
    "        \n",
    "        \"\"\"\n",
    "        ### assign closest centroids and set cluster_ids\n",
    "        self.distance_matrix = {}\n",
    "        for i, center_coord in self.centroid_df.iterrows():\n",
    "\n",
    "            # cal distance b/w Centroid vs rest points\n",
    "            dist_dict = {}\n",
    "            for i, sample_coord in self.df.iterrows():\n",
    "                # distance metric: euclidean distance\n",
    "                dist = np.sqrt((center_coord[self.X] - sample_coord[self.X])**2 + \\\n",
    "                               (center_coord[self.Y] - sample_coord[self.Y])**2)\n",
    "                dist_dict.update({sample_coord[self.UID]: dist}) \n",
    "            \n",
    "            self.distance_matrix[int(center_coord[self.cluster_id])] = dist_dict\n",
    "        \n",
    "        # final dist matrix \n",
    "        self.distance_matrix = pd.DataFrame(self.distance_matrix)\n",
    "        return\n",
    "\n",
    "    \n",
    "    def find_closest_centroids(self):\n",
    "        \"\"\"\n",
    "        Based on dist matrix, identifies closest centroid to each datapoint.\n",
    "        \"\"\"\n",
    "        # reshape dist matrix\n",
    "        self.distance_matrix = pd.DataFrame(self.distance_matrix)\n",
    "        self.distance_matrix[[self.cluster_id, 'dist_min']] = self.distance_matrix.agg(['idxmin', 'min'], axis=1)\n",
    "        self.distance_matrix[self.cluster_id] = self.distance_matrix[self.cluster_id].astype(int)\n",
    "        # SSE = sum of min_distances_to_each_centroid\n",
    "        SSE = self.distance_matrix['dist_min'].sum()\n",
    "        return SSE\n",
    "        \n",
    "    \n",
    "    def assign_centroids(self):\n",
    "        \"\"\"\n",
    "        Using `find_closest_centroids()`, assigns each datapoint to a centroid (aka. cluster-id)\n",
    "        \"\"\"\n",
    "        # assign cluster id to original dataset\n",
    "        uid_cluster_map = self.distance_matrix[self.cluster_id].to_dict()\n",
    "        self.df[self.cluster_id] = self.df[self.UID].replace(uid_cluster_map)\n",
    "        self.df[self.centroid_X] = self.df[self.cluster_id].replace(self.centroid_df[[self.cluster_id, self.X]].set_index(self.cluster_id).T.to_dict('records')[0])\n",
    "        self.df[self.centroid_Y] = self.df[self.cluster_id].replace(self.centroid_df[[self.cluster_id, self.Y]].set_index(self.cluster_id).T.to_dict('records')[0])\n",
    "\n",
    "    \n",
    "    def update_centroids(self):\n",
    "        \"\"\"\n",
    "        Computes new centroids X,Y values based on assigned cluster-ids.\n",
    "        \"\"\"\n",
    "        ### compute new centroids based on cluster-ids\n",
    "        self.centroid_df = self.df.groupby([self.cluster_id])[[self.X, self.Y]].mean().reset_index()\n",
    "        return\n",
    "    \n",
    "    \n",
    "    def perform_clustering(self, data):\n",
    "        \"\"\"\n",
    "        Performs clustering on a given dataset, using all above modules.\n",
    "        \"\"\"\n",
    "        \n",
    "        # performs **only** on the user-passed dataset.\n",
    "        self.df = data[:]\n",
    "        \n",
    "        # inits centroids randomly\n",
    "        self.init_centroids()\n",
    "        \n",
    "        counter=0\n",
    "        for n_iter in range(self.max_iters):\n",
    "            \n",
    "            # 1. init centroids\n",
    "            prev_centroids = self.centroid_df\n",
    "            \n",
    "            # 2. cal distances b/w each datapoint and centroids\n",
    "            self.calc_distance_matrix()\n",
    "            \n",
    "            # 3. identifies closest centroids to each data-point\n",
    "            SSE = self.find_closest_centroids()\n",
    "            \n",
    "            # 4. assigns each datapoint a centroid (aka cluster id)\n",
    "            self.assign_centroids()\n",
    "            \n",
    "            # 5. Re-computes new centroid (X,Y) values based on assigned cluster-ids\n",
    "            self.update_centroids()\n",
    "            active_centroids = self.centroid_df\n",
    "            \n",
    "            # 6. Comparison b/w previous centroid data and new centroid data to detect for a change\n",
    "            centroid_delta = abs((active_centroids - prev_centroids).agg(['sum']).sum(axis=1)[0])\n",
    "            print(\"{}. Iteration #{} | SSE {} | Centroid_Delta {}\".format(counter, n_iter, SSE, centroid_delta))\n",
    "            \n",
    "            # **break** if centroids data didn't change!\n",
    "            if centroid_delta <= self.cohesion_threshold:\n",
    "                print(\"centroid update halted, clustering complete.\")\n",
    "                break\n",
    "            \n",
    "            counter+=1\n",
    "        return self.df, SSE\n",
    "            \n",
    "    \n",
    "    def execute(self, data):\n",
    "        \"\"\"\n",
    "        Executes clustering pipeline iteratively for 'CV' times, mainly to detect changes in clusters with \n",
    "        varying initial centroid assignments. \n",
    "        \n",
    "        E.g. \n",
    "        Iteration 1: assigns initial centroids to A1,A2,A3, --> get final clustered data, final SSE.\n",
    "        Iteration 2: assigns initial centroids to A4,A5,A6, --> get final clustered data, final SSE.\n",
    "        Iteration 3: assigns initial centroids to A7,A8,A9, --> get final clustered data, final SSE.\n",
    "        \n",
    "        And finds the best clustered data and SSE score.\n",
    "        \"\"\"\n",
    "        \n",
    "        # prep dataset\n",
    "        processed_df = self.prepare_df(data)\n",
    "        \n",
    "        # n-iterative clustering\n",
    "        \n",
    "        # stores list of SSE scores achieved with each iteration\n",
    "        lst_sse = []\n",
    "        \n",
    "        # stores list of final clustered data with each iteration\n",
    "        clustered_data = []\n",
    "        \n",
    "        for cross_validate in range(self.cv):\n",
    "            \n",
    "            print(\"\\nClustering... [\", cross_validate, \"]\")\n",
    "            cluster_df, cluster_SSE = self.perform_clustering(processed_df)\n",
    "            \n",
    "            lst_sse.append(cluster_SSE)\n",
    "            clustered_data.append(cluster_df)\n",
    "            self.df = {}\n",
    "        \n",
    "        # compare various clustered results for best cluster\n",
    "        # => lst_sse = [0.5, 0.3, 1.2]  ---> idxmin = 1, min = 0.3\n",
    "        # => clustered_data[idxmin]     ---> best cluster df\n",
    "        best_iteration, best_sse = pd.Series(lst_sse).agg(['idxmin', 'min'])\n",
    "        best_clustered_df = clustered_data[int(best_iteration)]\n",
    "        print(\"*** BEST CLUSTERING RESULTS ***\\nSSE = \", best_sse)\n",
    "        \n",
    "        return best_clustered_df"
   ]
  },
  {
   "cell_type": "code",
   "execution_count": 442,
   "metadata": {},
   "outputs": [
    {
     "name": "stdout",
     "output_type": "stream",
     "text": [
      "\n",
      "Clustering... [ 0 ]\n",
      "centroids initialized with:  ['A6', 'A2', 'A7']\n",
      "0. Iteration #0 | SSE 13.30056307974577 | Centroid_Delta 3.0000000000000004\n",
      "1. Iteration #1 | SSE 10.647824830316269 | Centroid_Delta 0.0\n",
      "centroid update halted, clustering complete.\n",
      "\n",
      "Clustering... [ 1 ]\n",
      "centroids initialized with:  ['A5', 'A6', 'A1']\n",
      "0. Iteration #0 | SSE 11.89292222699217 | Centroid_Delta 1.3999999999999995\n",
      "1. Iteration #1 | SSE 10.306053137947664 | Centroid_Delta 0.0\n",
      "centroid update halted, clustering complete.\n",
      "\n",
      "Clustering... [ 2 ]\n",
      "centroids initialized with:  ['A7', 'A2', 'A6']\n",
      "0. Iteration #0 | SSE 13.30056307974577 | Centroid_Delta 3.0000000000000004\n",
      "1. Iteration #1 | SSE 10.647824830316269 | Centroid_Delta 0.0\n",
      "centroid update halted, clustering complete.\n",
      "\n",
      "Clustering... [ 3 ]\n",
      "centroids initialized with:  ['A9', 'A4', 'A2']\n",
      "0. Iteration #0 | SSE 16.171732803158715 | Centroid_Delta 2.0\n",
      "1. Iteration #1 | SSE 9.748494495181925 | Centroid_Delta 1.2499999999999996\n",
      "2. Iteration #2 | SSE 9.103750368423729 | Centroid_Delta 0.0\n",
      "centroid update halted, clustering complete.\n",
      "\n",
      "Clustering... [ 4 ]\n",
      "centroids initialized with:  ['A1', 'A7', 'A3']\n",
      "0. Iteration #0 | SSE 12.055199887160551 | Centroid_Delta 0.9999999999999996\n",
      "1. Iteration #1 | SSE 10.26345801962928 | Centroid_Delta 0.0\n",
      "centroid update halted, clustering complete.\n",
      "\n",
      "Clustering... [ 5 ]\n",
      "centroids initialized with:  ['A7', 'A8', 'A3']\n",
      "0. Iteration #0 | SSE 9.886349517372675 | Centroid_Delta 4.440892098500626e-16\n",
      "centroid update halted, clustering complete.\n",
      "\n",
      "Clustering... [ 6 ]\n",
      "centroids initialized with:  ['A3', 'A8', 'A7']\n",
      "0. Iteration #0 | SSE 9.886349517372675 | Centroid_Delta 4.440892098500626e-16\n",
      "centroid update halted, clustering complete.\n",
      "\n",
      "Clustering... [ 7 ]\n",
      "centroids initialized with:  ['A5', 'A4', 'A6']\n",
      "0. Iteration #0 | SSE 12.99070478491457 | Centroid_Delta 0.6000000000000005\n",
      "1. Iteration #1 | SSE 10.306053137947664 | Centroid_Delta 0.0\n",
      "centroid update halted, clustering complete.\n",
      "\n",
      "Clustering... [ 8 ]\n",
      "centroids initialized with:  ['A7', 'A1', 'A4']\n",
      "0. Iteration #0 | SSE 13.30056307974577 | Centroid_Delta 1.0000000000000004\n",
      "1. Iteration #1 | SSE 10.647824830316269 | Centroid_Delta 0.0\n",
      "centroid update halted, clustering complete.\n",
      "\n",
      "Clustering... [ 9 ]\n",
      "centroids initialized with:  ['A2', 'A7', 'A8']\n",
      "0. Iteration #0 | SSE 10.47213595499958 | Centroid_Delta 1.7500000000000004\n",
      "1. Iteration #1 | SSE 9.103750368423729 | Centroid_Delta 0.0\n",
      "centroid update halted, clustering complete.\n",
      "*** BEST CLUSTERING RESULTS ***\n",
      "SSE =  9.103750368423729\n"
     ]
    }
   ],
   "source": [
    "# original dataset\n",
    "df = data[:]\n",
    "\n",
    "kmeans = K_Means(MAX_ITERS=10, \n",
    "                 KMEANS_RATE=5, \n",
    "                 CLUSTER_K=3, \n",
    "                 N_CROSS_VALIDATE=10, \n",
    "                 SCALING=False, \n",
    "                 col_UID=\"UID\", \n",
    "                 col_feature_1=\"X\", \n",
    "                 col_feature_2=\"Y\")\n",
    "\n",
    "final = kmeans.execute(df[['UID', \"X\", 'Y']])"
   ]
  },
  {
   "cell_type": "code",
   "execution_count": 446,
   "metadata": {},
   "outputs": [
    {
     "data": {
      "text/html": [
       "<div>\n",
       "<style scoped>\n",
       "    .dataframe tbody tr th:only-of-type {\n",
       "        vertical-align: middle;\n",
       "    }\n",
       "\n",
       "    .dataframe tbody tr th {\n",
       "        vertical-align: top;\n",
       "    }\n",
       "\n",
       "    .dataframe thead th {\n",
       "        text-align: right;\n",
       "    }\n",
       "</style>\n",
       "<table border=\"1\" class=\"dataframe\">\n",
       "  <thead>\n",
       "    <tr style=\"text-align: right;\">\n",
       "      <th></th>\n",
       "      <th>UID</th>\n",
       "      <th>X</th>\n",
       "      <th>Y</th>\n",
       "      <th>Cluster_id</th>\n",
       "      <th>Centroid_X</th>\n",
       "      <th>Centroid_Y</th>\n",
       "    </tr>\n",
       "  </thead>\n",
       "  <tbody>\n",
       "    <tr>\n",
       "      <th>0</th>\n",
       "      <td>A1</td>\n",
       "      <td>3</td>\n",
       "      <td>9</td>\n",
       "      <td>1</td>\n",
       "      <td>2.500000</td>\n",
       "      <td>7.750000</td>\n",
       "    </tr>\n",
       "    <tr>\n",
       "      <th>1</th>\n",
       "      <td>A2</td>\n",
       "      <td>5</td>\n",
       "      <td>7</td>\n",
       "      <td>2</td>\n",
       "      <td>5.000000</td>\n",
       "      <td>7.500000</td>\n",
       "    </tr>\n",
       "    <tr>\n",
       "      <th>2</th>\n",
       "      <td>A3</td>\n",
       "      <td>6</td>\n",
       "      <td>4</td>\n",
       "      <td>0</td>\n",
       "      <td>5.666667</td>\n",
       "      <td>3.333333</td>\n",
       "    </tr>\n",
       "    <tr>\n",
       "      <th>3</th>\n",
       "      <td>A4</td>\n",
       "      <td>2</td>\n",
       "      <td>8</td>\n",
       "      <td>1</td>\n",
       "      <td>2.500000</td>\n",
       "      <td>7.750000</td>\n",
       "    </tr>\n",
       "    <tr>\n",
       "      <th>4</th>\n",
       "      <td>A5</td>\n",
       "      <td>7</td>\n",
       "      <td>3</td>\n",
       "      <td>0</td>\n",
       "      <td>5.666667</td>\n",
       "      <td>3.333333</td>\n",
       "    </tr>\n",
       "    <tr>\n",
       "      <th>5</th>\n",
       "      <td>A6</td>\n",
       "      <td>2</td>\n",
       "      <td>6</td>\n",
       "      <td>1</td>\n",
       "      <td>2.500000</td>\n",
       "      <td>7.750000</td>\n",
       "    </tr>\n",
       "    <tr>\n",
       "      <th>6</th>\n",
       "      <td>A7</td>\n",
       "      <td>4</td>\n",
       "      <td>3</td>\n",
       "      <td>0</td>\n",
       "      <td>5.666667</td>\n",
       "      <td>3.333333</td>\n",
       "    </tr>\n",
       "    <tr>\n",
       "      <th>7</th>\n",
       "      <td>A8</td>\n",
       "      <td>3</td>\n",
       "      <td>8</td>\n",
       "      <td>1</td>\n",
       "      <td>2.500000</td>\n",
       "      <td>7.750000</td>\n",
       "    </tr>\n",
       "    <tr>\n",
       "      <th>8</th>\n",
       "      <td>A9</td>\n",
       "      <td>5</td>\n",
       "      <td>8</td>\n",
       "      <td>2</td>\n",
       "      <td>5.000000</td>\n",
       "      <td>7.500000</td>\n",
       "    </tr>\n",
       "  </tbody>\n",
       "</table>\n",
       "</div>"
      ],
      "text/plain": [
       "  UID  X  Y  Cluster_id  Centroid_X  Centroid_Y\n",
       "0  A1  3  9           1    2.500000    7.750000\n",
       "1  A2  5  7           2    5.000000    7.500000\n",
       "2  A3  6  4           0    5.666667    3.333333\n",
       "3  A4  2  8           1    2.500000    7.750000\n",
       "4  A5  7  3           0    5.666667    3.333333\n",
       "5  A6  2  6           1    2.500000    7.750000\n",
       "6  A7  4  3           0    5.666667    3.333333\n",
       "7  A8  3  8           1    2.500000    7.750000\n",
       "8  A9  5  8           2    5.000000    7.500000"
      ]
     },
     "execution_count": 446,
     "metadata": {},
     "output_type": "execute_result"
    }
   ],
   "source": [
    "final"
   ]
  },
  {
   "cell_type": "code",
   "execution_count": 447,
   "metadata": {},
   "outputs": [
    {
     "data": {
      "image/png": "[encoded data removed]",
      "text/plain": [
       "<Figure size 1080x432 with 1 Axes>"
      ]
     },
     "metadata": {
      "needs_background": "light"
     },
     "output_type": "display_data"
    }
   ],
   "source": [
    "get_plot(final)"
   ]
  },
  {
   "cell_type": "markdown",
   "metadata": {},
   "source": [
    "Confirmed!\n",
    "\n",
    "\n",
    "Iterative clustering over ten times, produces a normal dist of SSE, giving us the assumed initial centroid allocation"
   ]
  },
  {
   "cell_type": "markdown",
   "metadata": {},
   "source": [
    "----"
   ]
  },
  {
   "cell_type": "markdown",
   "metadata": {},
   "source": [
    "## K-Means using sklearn (with evaluation metrics)\n",
    "\n",
    "- Vizulation: PCA\n",
    "- Evaluation: Elbow Method, Sillhoutte Method"
   ]
  },
  {
   "cell_type": "code",
   "execution_count": 36,
   "metadata": {},
   "outputs": [],
   "source": [
    "from sklearn.preprocessing import StandardScaler\n",
    "from sklearn.cluster import KMeans\n",
    "from sklearn.metrics import silhouette_score"
   ]
  },
  {
   "cell_type": "code",
   "execution_count": 37,
   "metadata": {},
   "outputs": [
    {
     "name": "stdout",
     "output_type": "stream",
     "text": [
      "(4000, 6)\n"
     ]
    },
    {
     "data": {
      "text/html": [
       "<div>\n",
       "<style scoped>\n",
       "    .dataframe tbody tr th:only-of-type {\n",
       "        vertical-align: middle;\n",
       "    }\n",
       "\n",
       "    .dataframe tbody tr th {\n",
       "        vertical-align: top;\n",
       "    }\n",
       "\n",
       "    .dataframe thead th {\n",
       "        text-align: right;\n",
       "    }\n",
       "</style>\n",
       "<table border=\"1\" class=\"dataframe\">\n",
       "  <thead>\n",
       "    <tr style=\"text-align: right;\">\n",
       "      <th></th>\n",
       "      <th>x1</th>\n",
       "      <th>x2</th>\n",
       "      <th>x3</th>\n",
       "      <th>x4</th>\n",
       "      <th>x5</th>\n",
       "      <th>x6</th>\n",
       "    </tr>\n",
       "  </thead>\n",
       "  <tbody>\n",
       "    <tr>\n",
       "      <th>0</th>\n",
       "      <td>1.868873</td>\n",
       "      <td>-10.463549</td>\n",
       "      <td>0.674638</td>\n",
       "      <td>0.912393</td>\n",
       "      <td>-0.003039</td>\n",
       "      <td>-2.202443</td>\n",
       "    </tr>\n",
       "    <tr>\n",
       "      <th>1</th>\n",
       "      <td>-0.137840</td>\n",
       "      <td>5.363186</td>\n",
       "      <td>-0.444914</td>\n",
       "      <td>4.125290</td>\n",
       "      <td>0.002185</td>\n",
       "      <td>-6.643935</td>\n",
       "    </tr>\n",
       "    <tr>\n",
       "      <th>2</th>\n",
       "      <td>1.051263</td>\n",
       "      <td>-7.977121</td>\n",
       "      <td>-1.926635</td>\n",
       "      <td>1.195411</td>\n",
       "      <td>0.017575</td>\n",
       "      <td>-6.092424</td>\n",
       "    </tr>\n",
       "    <tr>\n",
       "      <th>3</th>\n",
       "      <td>1.426620</td>\n",
       "      <td>-10.728448</td>\n",
       "      <td>-0.062891</td>\n",
       "      <td>2.053938</td>\n",
       "      <td>0.001306</td>\n",
       "      <td>-4.519171</td>\n",
       "    </tr>\n",
       "    <tr>\n",
       "      <th>4</th>\n",
       "      <td>1.841122</td>\n",
       "      <td>-4.068528</td>\n",
       "      <td>-0.493864</td>\n",
       "      <td>3.354350</td>\n",
       "      <td>-0.014658</td>\n",
       "      <td>4.857383</td>\n",
       "    </tr>\n",
       "  </tbody>\n",
       "</table>\n",
       "</div>"
      ],
      "text/plain": [
       "         x1         x2        x3        x4        x5        x6\n",
       "0  1.868873 -10.463549  0.674638  0.912393 -0.003039 -2.202443\n",
       "1 -0.137840   5.363186 -0.444914  4.125290  0.002185 -6.643935\n",
       "2  1.051263  -7.977121 -1.926635  1.195411  0.017575 -6.092424\n",
       "3  1.426620 -10.728448 -0.062891  2.053938  0.001306 -4.519171\n",
       "4  1.841122  -4.068528 -0.493864  3.354350 -0.014658  4.857383"
      ]
     },
     "execution_count": 37,
     "metadata": {},
     "output_type": "execute_result"
    }
   ],
   "source": [
    "# load a new dataset consisting of 6 features\n",
    "\n",
    "df = pd.read_csv(\"data_numerical_6Features.csv\")\n",
    "print(df.shape)\n",
    "df.head()"
   ]
  },
  {
   "cell_type": "markdown",
   "metadata": {},
   "source": [
    "### 1. Normalize data\n",
    "\n",
    "K-Means uses euclidean distance which makes squishing the values on a similar scale essential, else with squared distances, vectors with a higher magnitude will distort the cluster centers\n"
   ]
  },
  {
   "cell_type": "code",
   "execution_count": 52,
   "metadata": {},
   "outputs": [
    {
     "data": {
      "text/html": [
       "<div>\n",
       "<style scoped>\n",
       "    .dataframe tbody tr th:only-of-type {\n",
       "        vertical-align: middle;\n",
       "    }\n",
       "\n",
       "    .dataframe tbody tr th {\n",
       "        vertical-align: top;\n",
       "    }\n",
       "\n",
       "    .dataframe thead th {\n",
       "        text-align: right;\n",
       "    }\n",
       "</style>\n",
       "<table border=\"1\" class=\"dataframe\">\n",
       "  <thead>\n",
       "    <tr style=\"text-align: right;\">\n",
       "      <th></th>\n",
       "      <th>x1</th>\n",
       "      <th>x2</th>\n",
       "      <th>x3</th>\n",
       "      <th>x4</th>\n",
       "      <th>x5</th>\n",
       "      <th>x6</th>\n",
       "    </tr>\n",
       "  </thead>\n",
       "  <tbody>\n",
       "    <tr>\n",
       "      <th>0</th>\n",
       "      <td>0.590843</td>\n",
       "      <td>-0.637630</td>\n",
       "      <td>0.174595</td>\n",
       "      <td>-0.395628</td>\n",
       "      <td>-0.108163</td>\n",
       "      <td>-0.213607</td>\n",
       "    </tr>\n",
       "    <tr>\n",
       "      <th>1</th>\n",
       "      <td>-0.044665</td>\n",
       "      <td>0.466394</td>\n",
       "      <td>-0.234247</td>\n",
       "      <td>0.775373</td>\n",
       "      <td>0.080312</td>\n",
       "      <td>-0.343450</td>\n",
       "    </tr>\n",
       "    <tr>\n",
       "      <th>2</th>\n",
       "      <td>0.264805</td>\n",
       "      <td>-0.369126</td>\n",
       "      <td>-0.633375</td>\n",
       "      <td>-0.232023</td>\n",
       "      <td>0.515914</td>\n",
       "      <td>-0.269182</td>\n",
       "    </tr>\n",
       "    <tr>\n",
       "      <th>3</th>\n",
       "      <td>0.527447</td>\n",
       "      <td>-0.768504</td>\n",
       "      <td>-0.116626</td>\n",
       "      <td>0.034097</td>\n",
       "      <td>0.059383</td>\n",
       "      <td>-0.336022</td>\n",
       "    </tr>\n",
       "    <tr>\n",
       "      <th>4</th>\n",
       "      <td>0.585551</td>\n",
       "      <td>-0.186709</td>\n",
       "      <td>-0.261405</td>\n",
       "      <td>0.516079</td>\n",
       "      <td>-0.536189</td>\n",
       "      <td>0.010064</td>\n",
       "    </tr>\n",
       "    <tr>\n",
       "      <th>...</th>\n",
       "      <td>...</td>\n",
       "      <td>...</td>\n",
       "      <td>...</td>\n",
       "      <td>...</td>\n",
       "      <td>...</td>\n",
       "      <td>...</td>\n",
       "    </tr>\n",
       "    <tr>\n",
       "      <th>3995</th>\n",
       "      <td>0.624885</td>\n",
       "      <td>-0.028211</td>\n",
       "      <td>-0.034420</td>\n",
       "      <td>-0.177925</td>\n",
       "      <td>-0.250167</td>\n",
       "      <td>0.716447</td>\n",
       "    </tr>\n",
       "    <tr>\n",
       "      <th>3996</th>\n",
       "      <td>-0.480740</td>\n",
       "      <td>0.188995</td>\n",
       "      <td>0.176555</td>\n",
       "      <td>-0.484903</td>\n",
       "      <td>0.216449</td>\n",
       "      <td>0.648088</td>\n",
       "    </tr>\n",
       "    <tr>\n",
       "      <th>3997</th>\n",
       "      <td>-0.454434</td>\n",
       "      <td>0.125315</td>\n",
       "      <td>0.236322</td>\n",
       "      <td>0.171190</td>\n",
       "      <td>0.761901</td>\n",
       "      <td>0.334871</td>\n",
       "    </tr>\n",
       "    <tr>\n",
       "      <th>3998</th>\n",
       "      <td>-0.390336</td>\n",
       "      <td>0.091263</td>\n",
       "      <td>0.774678</td>\n",
       "      <td>-0.386411</td>\n",
       "      <td>0.079782</td>\n",
       "      <td>0.288971</td>\n",
       "    </tr>\n",
       "    <tr>\n",
       "      <th>3999</th>\n",
       "      <td>-0.165293</td>\n",
       "      <td>0.028345</td>\n",
       "      <td>-0.145685</td>\n",
       "      <td>-0.655585</td>\n",
       "      <td>0.505500</td>\n",
       "      <td>0.515100</td>\n",
       "    </tr>\n",
       "  </tbody>\n",
       "</table>\n",
       "<p>4000 rows × 6 columns</p>\n",
       "</div>"
      ],
      "text/plain": [
       "            x1        x2        x3        x4        x5        x6\n",
       "0     0.590843 -0.637630  0.174595 -0.395628 -0.108163 -0.213607\n",
       "1    -0.044665  0.466394 -0.234247  0.775373  0.080312 -0.343450\n",
       "2     0.264805 -0.369126 -0.633375 -0.232023  0.515914 -0.269182\n",
       "3     0.527447 -0.768504 -0.116626  0.034097  0.059383 -0.336022\n",
       "4     0.585551 -0.186709 -0.261405  0.516079 -0.536189  0.010064\n",
       "...        ...       ...       ...       ...       ...       ...\n",
       "3995  0.624885 -0.028211 -0.034420 -0.177925 -0.250167  0.716447\n",
       "3996 -0.480740  0.188995  0.176555 -0.484903  0.216449  0.648088\n",
       "3997 -0.454434  0.125315  0.236322  0.171190  0.761901  0.334871\n",
       "3998 -0.390336  0.091263  0.774678 -0.386411  0.079782  0.288971\n",
       "3999 -0.165293  0.028345 -0.145685 -0.655585  0.505500  0.515100\n",
       "\n",
       "[4000 rows x 6 columns]"
      ]
     },
     "execution_count": 52,
     "metadata": {},
     "output_type": "execute_result"
    }
   ],
   "source": [
    "# standardize data\n",
    "scaler = StandardScaler()\n",
    "scaled_data = scaler.fit_transform(df)\n",
    "\n",
    "# normalize\n",
    "norm_data = normalize(scaled_data)\n",
    "\n",
    "df_scaled = pd.DataFrame(norm_data)\n",
    "df_scaled.columns = df.columns\n",
    "df_scaled"
   ]
  },
  {
   "cell_type": "markdown",
   "metadata": {},
   "source": [
    "### 2. Find the optimal value of `k`"
   ]
  },
  {
   "cell_type": "markdown",
   "metadata": {},
   "source": [
    "Three approaches could be considered:\n",
    "- 1. Based on heursitics and domain knowledge\n",
    "- 2. Elbow method\n",
    "- 3. Silhouette method"
   ]
  },
  {
   "cell_type": "markdown",
   "metadata": {},
   "source": [
    "#### Elbow Method\n",
    "- The elbow method is a useful graphical tool to estimate the optimal number of clusters k.\n",
    "\n",
    "\n",
    "- We can say that, if k increases, the within-cluster SSE (“distortion”) will decrease. This is because the samples will be closer to the centroids they are assigned to. \n",
    "\n",
    "\n",
    "- The idea behind the elbow method is to identify the value of k where the distortion begins to decrease most rapidly, which will become clearer if we plot the distortion for different values of k."
   ]
  },
  {
   "cell_type": "code",
   "execution_count": 53,
   "metadata": {},
   "outputs": [],
   "source": [
    "def compute_elbow_method(data, min_clusters, max_clusters, random_seed):\n",
    "    \"\"\"\n",
    "    Find optimal number of cluster according to SSE distortion score.\n",
    "    \"\"\"\n",
    "    \n",
    "    # `distortion` --> within-cluster sum of squared distances for a range of number of cluster\n",
    "    distortions = []\n",
    "    \n",
    "    for k_value in range(min_clusters, max_clusters):\n",
    "        kmeans = KMeans(n_clusters=k_value, \n",
    "                        init='k-means++',     # k-means++ --> heurstics method, random --> sampler based\n",
    "                        n_init=10, \n",
    "                        max_iter=300, \n",
    "                        tol=1e-04, \n",
    "                        random_state=random_seed)\n",
    "        kmeans = kmeans.fit(data)\n",
    "\n",
    "        # Storing distortion: Checking 'k' where the rapid dec and then flattens out!\n",
    "        distortions.append(kmeans.inertia_)\n",
    "\n",
    "    # plot\n",
    "    plt.figure(figsize=(10,6))\n",
    "    plt.plot(range(min_clusters, max_clusters), distortions, marker='o')\n",
    "    plt.xlabel('Number of clusters k')\n",
    "    plt.ylabel('SSE (aka. Distortion)')\n",
    "    plt.show()"
   ]
  },
  {
   "cell_type": "code",
   "execution_count": 54,
   "metadata": {},
   "outputs": [
    {
     "data": {
      "image/png": "[encoded data removed]",
      "text/plain": [
       "<Figure size 720x432 with 1 Axes>"
      ]
     },
     "metadata": {
      "needs_background": "light"
     },
     "output_type": "display_data"
    }
   ],
   "source": [
    "compute_elbow_method(df_scaled, 1, 12, 7)"
   ]
  },
  {
   "cell_type": "markdown",
   "metadata": {},
   "source": [
    "- We can see the flatten out point is either, k=3 or k=4, thus these are the optimal values for n_clusters!"
   ]
  },
  {
   "cell_type": "markdown",
   "metadata": {},
   "source": [
    "#### Silhouette Method\n"
   ]
  },
  {
   "cell_type": "code",
   "execution_count": 55,
   "metadata": {},
   "outputs": [],
   "source": [
    "def compute_silhouette_method(data, min_clusters, max_clusters, random_seed):\n",
    "    \"\"\"\n",
    "    Find optimal number of cluster according to silhouette score.\n",
    "    \"\"\"\n",
    "    \n",
    "    silhouette_scores = []\n",
    "    for k in range(min_clusters, max_clusters):\n",
    "        kmeans = KMeans(n_clusters=k, init='k-means++', n_init=10, max_iter=300, tol=1e-04, \n",
    "                        random_state=random_seed)\n",
    "        kmeans = kmeans.fit(data)\n",
    "        cluster_labels = kmeans.fit_predict(data) \n",
    "        sil_score = silhouette_score(data, cluster_labels)\n",
    "        silhouette_scores.append([k, sil_score])\n",
    "    \n",
    "    # Silhouette Scores Matrix: shape of 'n' clusters vs their respective scores\n",
    "    # k  silhouette_score\n",
    "    # 1  0.56\n",
    "    # 2  0.34\n",
    "    # ...\n",
    "    # n  0.22 --> Find max\n",
    "    silhouette_score_matrix = np.array(silhouette_scores)\n",
    "    max_score_index = np.argmax(silhouette_score_matrix[:, 1])   # [4,  0.78]\n",
    "    n_k, max_score = silhouette_score_matrix[max_score_index][0], silhouette_score_matrix[max_score_index][1]\n",
    "    #print(\"n_clusters =\", int(n_k), \"The average silhouette_score is : %.4f\" % max_score)\n",
    "    \n",
    "    # plot\n",
    "    plt.figure(figsize=(10,6))\n",
    "    plt.plot(range(min_clusters, max_clusters), silhouette_score_matrix[:, 1], marker='o')\n",
    "    plt.xlabel('Number of clusters k')\n",
    "    plt.ylabel('Silhouette Score')\n",
    "    plt.show()\n",
    "    \n",
    "    return silhouette_score_matrix"
   ]
  },
  {
   "cell_type": "code",
   "execution_count": 56,
   "metadata": {
    "scrolled": false
   },
   "outputs": [
    {
     "data": {
      "image/png": "[encoded data removed]",
      "text/plain": [
       "<Figure size 720x432 with 1 Axes>"
      ]
     },
     "metadata": {
      "needs_background": "light"
     },
     "output_type": "display_data"
    },
    {
     "data": {
      "text/plain": [
       "array([[ 2.        ,  0.15358929],\n",
       "       [ 3.        ,  0.2007618 ],\n",
       "       [ 4.        ,  0.19452581],\n",
       "       [ 5.        ,  0.18432073],\n",
       "       [ 6.        ,  0.17345904],\n",
       "       [ 7.        ,  0.16621806],\n",
       "       [ 8.        ,  0.17008109],\n",
       "       [ 9.        ,  0.17500676],\n",
       "       [10.        ,  0.17531939],\n",
       "       [11.        ,  0.17192447]])"
      ]
     },
     "execution_count": 56,
     "metadata": {},
     "output_type": "execute_result"
    }
   ],
   "source": [
    "compute_silhouette_method(df_scaled, 2, 12, 7)"
   ]
  },
  {
   "cell_type": "markdown",
   "metadata": {},
   "source": [
    "- Average Silhouette score are maximum when number of clusters are 3 and then 4"
   ]
  },
  {
   "cell_type": "markdown",
   "metadata": {},
   "source": [
    "### 3. Fit a Kmeans model"
   ]
  },
  {
   "cell_type": "code",
   "execution_count": 57,
   "metadata": {},
   "outputs": [],
   "source": [
    "kmeans = KMeans(\n",
    "    n_clusters=4, \n",
    "    init='k-means++',     # k-means++ --> heurstics method, random --> sampler based\n",
    "    n_init=10, \n",
    "    max_iter=300, \n",
    "    tol=1e-04, \n",
    "    random_state=7)\n",
    "\n",
    "kmeans = kmeans.fit(df_scaled)"
   ]
  },
  {
   "cell_type": "markdown",
   "metadata": {},
   "source": [
    "### 4. Visualize using a PCA (via SVD)"
   ]
  },
  {
   "cell_type": "code",
   "execution_count": 58,
   "metadata": {},
   "outputs": [
    {
     "name": "stdout",
     "output_type": "stream",
     "text": [
      "pca.explained variance ratio:\n",
      "  0.82 0.16 0.01 0.01 0.01 0.00\n"
     ]
    },
    {
     "data": {
      "image/png": "[encoded data removed]",
      "text/plain": [
       "<Figure size 432x288 with 1 Axes>"
      ]
     },
     "metadata": {
      "needs_background": "light"
     },
     "output_type": "display_data"
    }
   ],
   "source": [
    "pca = PCA()\n",
    "\n",
    "# fit only features (no label info)\n",
    "pca_data = pca.fit_transform(df)\n",
    "\n",
    "# store principal components\n",
    "pca_data = pd.DataFrame(pca_data)\n",
    "pca_data.columns = [\"PC_%s\" % i for i in range(1, len(df.columns)+1)]\n",
    "\n",
    "# check proportion of variance explained by these components\n",
    "print(\"pca.explained variance ratio:\\n \", \" \".join(map(\"{:.2f}\".format, pca.explained_variance_ratio_)))\n",
    "plt.plot(np.cumsum(pca.explained_variance_ratio_));"
   ]
  },
  {
   "cell_type": "markdown",
   "metadata": {},
   "source": [
    "- PC1 explains about 82% of variability in the data\n",
    "- PC1 and PC2 together explain about 98% variability in the data"
   ]
  },
  {
   "cell_type": "code",
   "execution_count": 59,
   "metadata": {
    "scrolled": false
   },
   "outputs": [
    {
     "data": {
      "text/html": [
       "<div>\n",
       "<style scoped>\n",
       "    .dataframe tbody tr th:only-of-type {\n",
       "        vertical-align: middle;\n",
       "    }\n",
       "\n",
       "    .dataframe tbody tr th {\n",
       "        vertical-align: top;\n",
       "    }\n",
       "\n",
       "    .dataframe thead th {\n",
       "        text-align: right;\n",
       "    }\n",
       "</style>\n",
       "<table border=\"1\" class=\"dataframe\">\n",
       "  <thead>\n",
       "    <tr style=\"text-align: right;\">\n",
       "      <th></th>\n",
       "      <th>PC_1</th>\n",
       "      <th>PC_2</th>\n",
       "      <th>PC_3</th>\n",
       "      <th>PC_4</th>\n",
       "      <th>PC_5</th>\n",
       "      <th>PC_6</th>\n",
       "    </tr>\n",
       "  </thead>\n",
       "  <tbody>\n",
       "    <tr>\n",
       "      <th>0</th>\n",
       "      <td>-7.177875</td>\n",
       "      <td>8.763586</td>\n",
       "      <td>1.361510</td>\n",
       "      <td>-1.107555</td>\n",
       "      <td>0.514804</td>\n",
       "      <td>-0.002736</td>\n",
       "    </tr>\n",
       "    <tr>\n",
       "      <th>1</th>\n",
       "      <td>-10.848233</td>\n",
       "      <td>-7.354201</td>\n",
       "      <td>0.243582</td>\n",
       "      <td>1.701827</td>\n",
       "      <td>-1.334084</td>\n",
       "      <td>0.001359</td>\n",
       "    </tr>\n",
       "    <tr>\n",
       "      <th>2</th>\n",
       "      <td>-10.934529</td>\n",
       "      <td>6.058349</td>\n",
       "      <td>0.962290</td>\n",
       "      <td>1.254643</td>\n",
       "      <td>1.802970</td>\n",
       "      <td>0.017713</td>\n",
       "    </tr>\n",
       "    <tr>\n",
       "      <th>3</th>\n",
       "      <td>-9.512339</td>\n",
       "      <td>8.888690</td>\n",
       "      <td>0.942949</td>\n",
       "      <td>0.157453</td>\n",
       "      <td>0.025676</td>\n",
       "      <td>0.001326</td>\n",
       "    </tr>\n",
       "    <tr>\n",
       "      <th>4</th>\n",
       "      <td>0.174162</td>\n",
       "      <td>2.735380</td>\n",
       "      <td>1.685245</td>\n",
       "      <td>1.225438</td>\n",
       "      <td>-0.943739</td>\n",
       "      <td>-0.015133</td>\n",
       "    </tr>\n",
       "  </tbody>\n",
       "</table>\n",
       "</div>"
      ],
      "text/plain": [
       "        PC_1      PC_2      PC_3      PC_4      PC_5      PC_6\n",
       "0  -7.177875  8.763586  1.361510 -1.107555  0.514804 -0.002736\n",
       "1 -10.848233 -7.354201  0.243582  1.701827 -1.334084  0.001359\n",
       "2 -10.934529  6.058349  0.962290  1.254643  1.802970  0.017713\n",
       "3  -9.512339  8.888690  0.942949  0.157453  0.025676  0.001326\n",
       "4   0.174162  2.735380  1.685245  1.225438 -0.943739 -0.015133"
      ]
     },
     "execution_count": 59,
     "metadata": {},
     "output_type": "execute_result"
    }
   ],
   "source": [
    "pca_data.head()"
   ]
  },
  {
   "cell_type": "markdown",
   "metadata": {},
   "source": [
    "##### Predict Cluster labels"
   ]
  },
  {
   "cell_type": "code",
   "execution_count": 60,
   "metadata": {},
   "outputs": [
    {
     "name": "stdout",
     "output_type": "stream",
     "text": [
      "1    25.7\n",
      "0    25.1\n",
      "2    25.0\n",
      "3    24.2\n",
      "Name: Cluster_ids, dtype: float64\n"
     ]
    },
    {
     "data": {
      "text/html": [
       "<div>\n",
       "<style scoped>\n",
       "    .dataframe tbody tr th:only-of-type {\n",
       "        vertical-align: middle;\n",
       "    }\n",
       "\n",
       "    .dataframe tbody tr th {\n",
       "        vertical-align: top;\n",
       "    }\n",
       "\n",
       "    .dataframe thead th {\n",
       "        text-align: right;\n",
       "    }\n",
       "</style>\n",
       "<table border=\"1\" class=\"dataframe\">\n",
       "  <thead>\n",
       "    <tr style=\"text-align: right;\">\n",
       "      <th></th>\n",
       "      <th>x1</th>\n",
       "      <th>x2</th>\n",
       "      <th>x3</th>\n",
       "      <th>x4</th>\n",
       "      <th>x5</th>\n",
       "      <th>x6</th>\n",
       "      <th>Cluster_ids</th>\n",
       "    </tr>\n",
       "  </thead>\n",
       "  <tbody>\n",
       "    <tr>\n",
       "      <th>0</th>\n",
       "      <td>0.590843</td>\n",
       "      <td>-0.637630</td>\n",
       "      <td>0.174595</td>\n",
       "      <td>-0.395628</td>\n",
       "      <td>-0.108163</td>\n",
       "      <td>-0.213607</td>\n",
       "      <td>0</td>\n",
       "    </tr>\n",
       "    <tr>\n",
       "      <th>1</th>\n",
       "      <td>-0.044665</td>\n",
       "      <td>0.466394</td>\n",
       "      <td>-0.234247</td>\n",
       "      <td>0.775373</td>\n",
       "      <td>0.080312</td>\n",
       "      <td>-0.343450</td>\n",
       "      <td>2</td>\n",
       "    </tr>\n",
       "    <tr>\n",
       "      <th>2</th>\n",
       "      <td>0.264805</td>\n",
       "      <td>-0.369126</td>\n",
       "      <td>-0.633375</td>\n",
       "      <td>-0.232023</td>\n",
       "      <td>0.515914</td>\n",
       "      <td>-0.269182</td>\n",
       "      <td>0</td>\n",
       "    </tr>\n",
       "    <tr>\n",
       "      <th>3</th>\n",
       "      <td>0.527447</td>\n",
       "      <td>-0.768504</td>\n",
       "      <td>-0.116626</td>\n",
       "      <td>0.034097</td>\n",
       "      <td>0.059383</td>\n",
       "      <td>-0.336022</td>\n",
       "      <td>0</td>\n",
       "    </tr>\n",
       "    <tr>\n",
       "      <th>4</th>\n",
       "      <td>0.585551</td>\n",
       "      <td>-0.186709</td>\n",
       "      <td>-0.261405</td>\n",
       "      <td>0.516079</td>\n",
       "      <td>-0.536189</td>\n",
       "      <td>0.010064</td>\n",
       "      <td>1</td>\n",
       "    </tr>\n",
       "  </tbody>\n",
       "</table>\n",
       "</div>"
      ],
      "text/plain": [
       "         x1        x2        x3        x4        x5        x6  Cluster_ids\n",
       "0  0.590843 -0.637630  0.174595 -0.395628 -0.108163 -0.213607            0\n",
       "1 -0.044665  0.466394 -0.234247  0.775373  0.080312 -0.343450            2\n",
       "2  0.264805 -0.369126 -0.633375 -0.232023  0.515914 -0.269182            0\n",
       "3  0.527447 -0.768504 -0.116626  0.034097  0.059383 -0.336022            0\n",
       "4  0.585551 -0.186709 -0.261405  0.516079 -0.536189  0.010064            1"
      ]
     },
     "execution_count": 60,
     "metadata": {},
     "output_type": "execute_result"
    }
   ],
   "source": [
    "df_scaled['Cluster_ids'] = kmeans.fit_predict(df_scaled) \n",
    "print(df_scaled.Cluster_ids.value_counts(normalize=True)*100.0)\n",
    "\n",
    "df_scaled.head()"
   ]
  },
  {
   "cell_type": "code",
   "execution_count": 61,
   "metadata": {},
   "outputs": [
    {
     "data": {
      "image/png": "[encoded data removed]",
      "text/plain": [
       "<Figure size 720x360 with 1 Axes>"
      ]
     },
     "metadata": {
      "needs_background": "light"
     },
     "output_type": "display_data"
    }
   ],
   "source": [
    "# viz using two PCs explanining about 98% variance in data\n",
    "\n",
    "\n",
    "plt.figure(figsize=(10,5))\n",
    "plt.scatter(pca_data[\"PC_1\"], pca_data[\"PC_2\"], c=df_scaled['Cluster_ids'])\n",
    "plt.title(\"Clustered datapoints represented by two dimensions (contributing to the most variance)\")\n",
    "plt.xlabel(\"PC 1: {:.2f}\".format(pca.explained_variance_ratio_[0] * 100) + \" %\")\n",
    "plt.ylabel(\"PC 2: {:.2f}\".format(pca.explained_variance_ratio_[1] * 100) + \" %\")\n",
    "plt.show()"
   ]
  },
  {
   "cell_type": "markdown",
   "metadata": {},
   "source": [
    "- Density based methods should do better on this."
   ]
  },
  {
   "cell_type": "markdown",
   "metadata": {},
   "source": [
    "---\n",
    "---"
   ]
  },
  {
   "cell_type": "markdown",
   "metadata": {},
   "source": [
    "# Hirerachial Clustering\n",
    "\n",
    "It's a method of cluster analysis which seeks to build a hierarchy of clusters. Strategies for hierarchical clustering generally fall into two types:\n",
    "\n",
    "- `Agglomerative`: This method is derived from AGNES algorithm, or a \"bottom-up\" approach, where each datapoint starts with its own cluster, and eventually pairs of clusters are merged as one moves up the hierarchy.\n",
    "\n",
    "\n",
    "\n",
    "- `Divisive` : This method is derived from DIANA algorithm, or a \"top-down\" approach, where all datapoints start in one mega cluster, and eventually splits into smaller ones. as one moves down the hierarchy.\n",
    "\n",
    "In general, the merges and splits are determined in a greedy manner. The results of hierarchical clustering are usually presented in a dendrogram."
   ]
  },
  {
   "cell_type": "code",
   "execution_count": 105,
   "metadata": {},
   "outputs": [],
   "source": [
    "from scipy.cluster.hierarchy import dendrogram, linkage"
   ]
  },
  {
   "cell_type": "markdown",
   "metadata": {},
   "source": [
    "## Agglomerative"
   ]
  },
  {
   "cell_type": "markdown",
   "metadata": {},
   "source": [
    "PROS: We don’t need to specify the number of clusters unlike in K-Means.\n",
    "\n",
    "CONS: Much slower than K-Means, performance is $𝑂(𝑛^3)$"
   ]
  },
  {
   "cell_type": "markdown",
   "metadata": {},
   "source": [
    "`Algorithm`\n",
    "\n",
    "- Step 1. At the start, consider each data point as one cluster. Therefore, the number of clusters at the start will be **n**, while $n$ is an integer representing the number of data points.\n",
    "\n",
    "\n",
    "\n",
    "- Step 2. Compute the proximity matrix for pair-wise distances using one of the **linkage methods**. The linkage methods work by calculating the distances between all objects. Then the closest pair of clusters are combined into a single cluster, reducing the number of clusters remaining. The process is then repeated until there is only a single cluster left. For text or other non-numeric data, metrics such as the Hamming distance, Levenshtein distance and cosine distance are often used. Types of linkage:\n",
    "    - 2.1. Single Linkage\n",
    "    - 2.2. Complete Linkage\n",
    "    - 2.3. Centroid Linkage\n",
    "    - 2.4. Ward’s Linkage\n",
    "    - 2.5. Average Linkage\n",
    "    \n",
    "    Single Linkage:\n",
    "\n",
    "    Two clusters with the ***closest minimum distance*** are merged. \n",
    "\n",
    "    <img src=\"Data/img/single.png\" width=\"250\" height=\"250\">\n",
    "\n",
    "    Complete Linkage:\n",
    "\n",
    "    Two clusters with the ***closest maximum distance*** are merged. \n",
    "\n",
    "    <img src=\"Data/img/complete.png\" width=\"250\" height=\"250\">\n",
    "\n",
    "    Centroid Linkage:\n",
    "\n",
    "    Two clusters with the ***lowest centroid distance*** are merged. \n",
    "\n",
    "    <img src=\"Data/img/centroid.png\" width=\"250\" height=\"250\">\n",
    "\n",
    "    Ward Linkage:\n",
    "\n",
    "    For Ward’s linkage, two clusters are merged based on their ***error sum of square (ESS)*** values. The two clusters with the lowest ESS are merged.\n",
    "\n",
    "    Average Linkage:\n",
    "\n",
    "    Average linkage method uses the ***average pair-wise proximity*** among all pairs of objects in different clusters. Clusters are merged based on their lowest average distances.\n",
    "    \n",
    "\n",
    "- Step 3. Form a cluster by joining the two closest data points resulting in **n-1** clusters. Similarly, form more clusters by joining the two closest clusters resulting in **n-2** clusters.\n",
    "\n",
    "\n",
    "- Step 4. Finally, all the clusters are merged together and form a single cluster.\n",
    "\n",
    "\n",
    "- Step 5. The point of doing all this is to demonstrate the way hierarchical clustering works, it maintains a memory of how we went through this process and that memory is stored in **Dendrogram.** A Dendrogram is a tree-like diagram that records the sequences of merges or splits.\n",
    "\n",
    "<img src=\"Data/img/dendrogram1.png\" width=\"600\" height=\"400\">\n",
    "<img src=\"Data/img/dendrogram2.png\" width=\"600\" height=\"400\">\n",
    "\n",
    "\n",
    "\n",
    "Stopping with a distance threshold:\n",
    "- You cut the dendrogram tree with a horizontal line at a height where the line can traverse the maximum distance up and down without intersecting the merging point. E.g. L3 can traverse maximum distance up and down without intersecting the merging points. So we draw a horizontal line and the number of verticle lines it intersects is the optimal number of clusters.\n",
    "\n",
    "<img src=\"Data/img/dendrogram3.png\" width=\"400\" height=\"400\">"
   ]
  },
  {
   "cell_type": "markdown",
   "metadata": {},
   "source": [
    "## Agglomerative by Hand"
   ]
  },
  {
   "cell_type": "code",
   "execution_count": 142,
   "metadata": {},
   "outputs": [
    {
     "data": {
      "text/html": [
       "<div>\n",
       "<style scoped>\n",
       "    .dataframe tbody tr th:only-of-type {\n",
       "        vertical-align: middle;\n",
       "    }\n",
       "\n",
       "    .dataframe tbody tr th {\n",
       "        vertical-align: top;\n",
       "    }\n",
       "\n",
       "    .dataframe thead th {\n",
       "        text-align: right;\n",
       "    }\n",
       "</style>\n",
       "<table border=\"1\" class=\"dataframe\">\n",
       "  <thead>\n",
       "    <tr style=\"text-align: right;\">\n",
       "      <th></th>\n",
       "      <th>X</th>\n",
       "      <th>Y</th>\n",
       "    </tr>\n",
       "    <tr>\n",
       "      <th>UID</th>\n",
       "      <th></th>\n",
       "      <th></th>\n",
       "    </tr>\n",
       "  </thead>\n",
       "  <tbody>\n",
       "    <tr>\n",
       "      <th>A1</th>\n",
       "      <td>3</td>\n",
       "      <td>9</td>\n",
       "    </tr>\n",
       "    <tr>\n",
       "      <th>A2</th>\n",
       "      <td>5</td>\n",
       "      <td>7</td>\n",
       "    </tr>\n",
       "    <tr>\n",
       "      <th>A3</th>\n",
       "      <td>6</td>\n",
       "      <td>4</td>\n",
       "    </tr>\n",
       "    <tr>\n",
       "      <th>A4</th>\n",
       "      <td>2</td>\n",
       "      <td>8</td>\n",
       "    </tr>\n",
       "    <tr>\n",
       "      <th>A5</th>\n",
       "      <td>7</td>\n",
       "      <td>3</td>\n",
       "    </tr>\n",
       "    <tr>\n",
       "      <th>A6</th>\n",
       "      <td>2</td>\n",
       "      <td>6</td>\n",
       "    </tr>\n",
       "    <tr>\n",
       "      <th>A7</th>\n",
       "      <td>4</td>\n",
       "      <td>3</td>\n",
       "    </tr>\n",
       "    <tr>\n",
       "      <th>A8</th>\n",
       "      <td>3</td>\n",
       "      <td>8</td>\n",
       "    </tr>\n",
       "    <tr>\n",
       "      <th>A9</th>\n",
       "      <td>5</td>\n",
       "      <td>8</td>\n",
       "    </tr>\n",
       "  </tbody>\n",
       "</table>\n",
       "</div>"
      ],
      "text/plain": [
       "     X  Y\n",
       "UID      \n",
       "A1   3  9\n",
       "A2   5  7\n",
       "A3   6  4\n",
       "A4   2  8\n",
       "A5   7  3\n",
       "A6   2  6\n",
       "A7   4  3\n",
       "A8   3  8\n",
       "A9   5  8"
      ]
     },
     "execution_count": 142,
     "metadata": {},
     "output_type": "execute_result"
    }
   ],
   "source": [
    "data = pd.DataFrame({\"UID\": ['A1', 'A2', 'A3', 'A4', 'A5', 'A6', 'A7', 'A8', 'A9'],\n",
    "                   \"X\": [3,5,6,2,7,2,4,3,5], \n",
    "                   \"Y\": [9,7,4,8,3,6,3,8,8]})\n",
    "\n",
    "df = data[:]\n",
    "df.set_index('UID', inplace=True)\n",
    "df"
   ]
  },
  {
   "cell_type": "markdown",
   "metadata": {},
   "source": [
    "### 1. Each point starts as a cluster of its own"
   ]
  },
  {
   "cell_type": "code",
   "execution_count": 143,
   "metadata": {},
   "outputs": [
    {
     "data": {
      "text/html": [
       "<div>\n",
       "<style scoped>\n",
       "    .dataframe tbody tr th:only-of-type {\n",
       "        vertical-align: middle;\n",
       "    }\n",
       "\n",
       "    .dataframe tbody tr th {\n",
       "        vertical-align: top;\n",
       "    }\n",
       "\n",
       "    .dataframe thead th {\n",
       "        text-align: right;\n",
       "    }\n",
       "</style>\n",
       "<table border=\"1\" class=\"dataframe\">\n",
       "  <thead>\n",
       "    <tr style=\"text-align: right;\">\n",
       "      <th></th>\n",
       "      <th>X</th>\n",
       "      <th>Y</th>\n",
       "      <th>cluster_ids</th>\n",
       "    </tr>\n",
       "    <tr>\n",
       "      <th>UID</th>\n",
       "      <th></th>\n",
       "      <th></th>\n",
       "      <th></th>\n",
       "    </tr>\n",
       "  </thead>\n",
       "  <tbody>\n",
       "    <tr>\n",
       "      <th>A1</th>\n",
       "      <td>3</td>\n",
       "      <td>9</td>\n",
       "      <td>0</td>\n",
       "    </tr>\n",
       "    <tr>\n",
       "      <th>A2</th>\n",
       "      <td>5</td>\n",
       "      <td>7</td>\n",
       "      <td>1</td>\n",
       "    </tr>\n",
       "    <tr>\n",
       "      <th>A3</th>\n",
       "      <td>6</td>\n",
       "      <td>4</td>\n",
       "      <td>2</td>\n",
       "    </tr>\n",
       "    <tr>\n",
       "      <th>A4</th>\n",
       "      <td>2</td>\n",
       "      <td>8</td>\n",
       "      <td>3</td>\n",
       "    </tr>\n",
       "    <tr>\n",
       "      <th>A5</th>\n",
       "      <td>7</td>\n",
       "      <td>3</td>\n",
       "      <td>4</td>\n",
       "    </tr>\n",
       "    <tr>\n",
       "      <th>A6</th>\n",
       "      <td>2</td>\n",
       "      <td>6</td>\n",
       "      <td>5</td>\n",
       "    </tr>\n",
       "    <tr>\n",
       "      <th>A7</th>\n",
       "      <td>4</td>\n",
       "      <td>3</td>\n",
       "      <td>6</td>\n",
       "    </tr>\n",
       "    <tr>\n",
       "      <th>A8</th>\n",
       "      <td>3</td>\n",
       "      <td>8</td>\n",
       "      <td>7</td>\n",
       "    </tr>\n",
       "    <tr>\n",
       "      <th>A9</th>\n",
       "      <td>5</td>\n",
       "      <td>8</td>\n",
       "      <td>8</td>\n",
       "    </tr>\n",
       "  </tbody>\n",
       "</table>\n",
       "</div>"
      ],
      "text/plain": [
       "     X  Y  cluster_ids\n",
       "UID                   \n",
       "A1   3  9            0\n",
       "A2   5  7            1\n",
       "A3   6  4            2\n",
       "A4   2  8            3\n",
       "A5   7  3            4\n",
       "A6   2  6            5\n",
       "A7   4  3            6\n",
       "A8   3  8            7\n",
       "A9   5  8            8"
      ]
     },
     "execution_count": 143,
     "metadata": {},
     "output_type": "execute_result"
    }
   ],
   "source": [
    "features = ['X', 'Y']   # could be more than 2\n",
    "\n",
    "df['cluster_ids'] = [i for i in range(len(df))]\n",
    "df"
   ]
  },
  {
   "cell_type": "markdown",
   "metadata": {},
   "source": [
    "### 2. Compute Proximity Matrix"
   ]
  },
  {
   "cell_type": "markdown",
   "metadata": {},
   "source": [
    "$Distance\\_Matrix \\space = \\space distance\\_matrix(X, Y, \\space p = Minkowski\\_p_{norm})$"
   ]
  },
  {
   "cell_type": "code",
   "execution_count": 144,
   "metadata": {},
   "outputs": [
    {
     "data": {
      "text/html": [
       "<div>\n",
       "<style scoped>\n",
       "    .dataframe tbody tr th:only-of-type {\n",
       "        vertical-align: middle;\n",
       "    }\n",
       "\n",
       "    .dataframe tbody tr th {\n",
       "        vertical-align: top;\n",
       "    }\n",
       "\n",
       "    .dataframe thead th {\n",
       "        text-align: right;\n",
       "    }\n",
       "</style>\n",
       "<table border=\"1\" class=\"dataframe\">\n",
       "  <thead>\n",
       "    <tr style=\"text-align: right;\">\n",
       "      <th>UID</th>\n",
       "      <th>A1</th>\n",
       "      <th>A2</th>\n",
       "      <th>A3</th>\n",
       "      <th>A4</th>\n",
       "      <th>A5</th>\n",
       "      <th>A6</th>\n",
       "      <th>A7</th>\n",
       "      <th>A8</th>\n",
       "      <th>A9</th>\n",
       "    </tr>\n",
       "    <tr>\n",
       "      <th>UID</th>\n",
       "      <th></th>\n",
       "      <th></th>\n",
       "      <th></th>\n",
       "      <th></th>\n",
       "      <th></th>\n",
       "      <th></th>\n",
       "      <th></th>\n",
       "      <th></th>\n",
       "      <th></th>\n",
       "    </tr>\n",
       "  </thead>\n",
       "  <tbody>\n",
       "    <tr>\n",
       "      <th>A1</th>\n",
       "      <td>0.000000</td>\n",
       "      <td>2.828427</td>\n",
       "      <td>5.830952</td>\n",
       "      <td>1.414214</td>\n",
       "      <td>7.211103</td>\n",
       "      <td>3.162278</td>\n",
       "      <td>6.082763</td>\n",
       "      <td>1.000000</td>\n",
       "      <td>2.236068</td>\n",
       "    </tr>\n",
       "    <tr>\n",
       "      <th>A2</th>\n",
       "      <td>2.828427</td>\n",
       "      <td>0.000000</td>\n",
       "      <td>3.162278</td>\n",
       "      <td>3.162278</td>\n",
       "      <td>4.472136</td>\n",
       "      <td>3.162278</td>\n",
       "      <td>4.123106</td>\n",
       "      <td>2.236068</td>\n",
       "      <td>1.000000</td>\n",
       "    </tr>\n",
       "    <tr>\n",
       "      <th>A3</th>\n",
       "      <td>5.830952</td>\n",
       "      <td>3.162278</td>\n",
       "      <td>0.000000</td>\n",
       "      <td>5.656854</td>\n",
       "      <td>1.414214</td>\n",
       "      <td>4.472136</td>\n",
       "      <td>2.236068</td>\n",
       "      <td>5.000000</td>\n",
       "      <td>4.123106</td>\n",
       "    </tr>\n",
       "    <tr>\n",
       "      <th>A4</th>\n",
       "      <td>1.414214</td>\n",
       "      <td>3.162278</td>\n",
       "      <td>5.656854</td>\n",
       "      <td>0.000000</td>\n",
       "      <td>7.071068</td>\n",
       "      <td>2.000000</td>\n",
       "      <td>5.385165</td>\n",
       "      <td>1.000000</td>\n",
       "      <td>3.000000</td>\n",
       "    </tr>\n",
       "    <tr>\n",
       "      <th>A5</th>\n",
       "      <td>7.211103</td>\n",
       "      <td>4.472136</td>\n",
       "      <td>1.414214</td>\n",
       "      <td>7.071068</td>\n",
       "      <td>0.000000</td>\n",
       "      <td>5.830952</td>\n",
       "      <td>3.000000</td>\n",
       "      <td>6.403124</td>\n",
       "      <td>5.385165</td>\n",
       "    </tr>\n",
       "    <tr>\n",
       "      <th>A6</th>\n",
       "      <td>3.162278</td>\n",
       "      <td>3.162278</td>\n",
       "      <td>4.472136</td>\n",
       "      <td>2.000000</td>\n",
       "      <td>5.830952</td>\n",
       "      <td>0.000000</td>\n",
       "      <td>3.605551</td>\n",
       "      <td>2.236068</td>\n",
       "      <td>3.605551</td>\n",
       "    </tr>\n",
       "    <tr>\n",
       "      <th>A7</th>\n",
       "      <td>6.082763</td>\n",
       "      <td>4.123106</td>\n",
       "      <td>2.236068</td>\n",
       "      <td>5.385165</td>\n",
       "      <td>3.000000</td>\n",
       "      <td>3.605551</td>\n",
       "      <td>0.000000</td>\n",
       "      <td>5.099020</td>\n",
       "      <td>5.099020</td>\n",
       "    </tr>\n",
       "    <tr>\n",
       "      <th>A8</th>\n",
       "      <td>1.000000</td>\n",
       "      <td>2.236068</td>\n",
       "      <td>5.000000</td>\n",
       "      <td>1.000000</td>\n",
       "      <td>6.403124</td>\n",
       "      <td>2.236068</td>\n",
       "      <td>5.099020</td>\n",
       "      <td>0.000000</td>\n",
       "      <td>2.000000</td>\n",
       "    </tr>\n",
       "    <tr>\n",
       "      <th>A9</th>\n",
       "      <td>2.236068</td>\n",
       "      <td>1.000000</td>\n",
       "      <td>4.123106</td>\n",
       "      <td>3.000000</td>\n",
       "      <td>5.385165</td>\n",
       "      <td>3.605551</td>\n",
       "      <td>5.099020</td>\n",
       "      <td>2.000000</td>\n",
       "      <td>0.000000</td>\n",
       "    </tr>\n",
       "  </tbody>\n",
       "</table>\n",
       "</div>"
      ],
      "text/plain": [
       "UID        A1        A2        A3        A4        A5        A6        A7  \\\n",
       "UID                                                                         \n",
       "A1   0.000000  2.828427  5.830952  1.414214  7.211103  3.162278  6.082763   \n",
       "A2   2.828427  0.000000  3.162278  3.162278  4.472136  3.162278  4.123106   \n",
       "A3   5.830952  3.162278  0.000000  5.656854  1.414214  4.472136  2.236068   \n",
       "A4   1.414214  3.162278  5.656854  0.000000  7.071068  2.000000  5.385165   \n",
       "A5   7.211103  4.472136  1.414214  7.071068  0.000000  5.830952  3.000000   \n",
       "A6   3.162278  3.162278  4.472136  2.000000  5.830952  0.000000  3.605551   \n",
       "A7   6.082763  4.123106  2.236068  5.385165  3.000000  3.605551  0.000000   \n",
       "A8   1.000000  2.236068  5.000000  1.000000  6.403124  2.236068  5.099020   \n",
       "A9   2.236068  1.000000  4.123106  3.000000  5.385165  3.605551  5.099020   \n",
       "\n",
       "UID        A8        A9  \n",
       "UID                      \n",
       "A1   1.000000  2.236068  \n",
       "A2   2.236068  1.000000  \n",
       "A3   5.000000  4.123106  \n",
       "A4   1.000000  3.000000  \n",
       "A5   6.403124  5.385165  \n",
       "A6   2.236068  3.605551  \n",
       "A7   5.099020  5.099020  \n",
       "A8   0.000000  2.000000  \n",
       "A9   2.000000  0.000000  "
      ]
     },
     "execution_count": 144,
     "metadata": {},
     "output_type": "execute_result"
    }
   ],
   "source": [
    "proxy_mat = pd.DataFrame(distance_matrix(df[features].values, df[features].values, p=2), index=df.index, columns=df.index)\n",
    "proxy_mat"
   ]
  },
  {
   "cell_type": "markdown",
   "metadata": {},
   "source": [
    "### 3. Assign same cluster id to closest points"
   ]
  },
  {
   "cell_type": "markdown",
   "metadata": {},
   "source": [
    "To use `np.argmin`, `np.argmax` on $n\\times n$ dimesnional array, use: \n",
    "\n",
    "$numpy.unravel\\_index(\\space numpy.argmin(array), \\space\\space array.shape)$"
   ]
  },
  {
   "cell_type": "code",
   "execution_count": 145,
   "metadata": {},
   "outputs": [
    {
     "name": "stdout",
     "output_type": "stream",
     "text": [
      "Minimum l2 distance found for ('A1', 'A8') equal to: 1.0\n"
     ]
    }
   ],
   "source": [
    "# to use np.argmin, np.argmax\n",
    "# replacing diagonal distances (abs zeros) with a big number\n",
    "min_points = np.unravel_index(np.argmin(proxy_mat.replace(0.00000, np.inf)), proxy_mat.shape)\n",
    "\n",
    "closest_points = proxy_mat.index[min_points[0]], proxy_mat.columns[min_points[1]]\n",
    "print(\"Minimum l2 distance found for {} equal to: {}\".format(closest_points, proxy_mat.iloc[min_points]))"
   ]
  },
  {
   "cell_type": "markdown",
   "metadata": {},
   "source": [
    "### 4. Choose a linkage and merge clusters"
   ]
  },
  {
   "cell_type": "code",
   "execution_count": 151,
   "metadata": {},
   "outputs": [
    {
     "data": {
      "text/html": [
       "<div>\n",
       "<style scoped>\n",
       "    .dataframe tbody tr th:only-of-type {\n",
       "        vertical-align: middle;\n",
       "    }\n",
       "\n",
       "    .dataframe tbody tr th {\n",
       "        vertical-align: top;\n",
       "    }\n",
       "\n",
       "    .dataframe thead th {\n",
       "        text-align: right;\n",
       "    }\n",
       "</style>\n",
       "<table border=\"1\" class=\"dataframe\">\n",
       "  <thead>\n",
       "    <tr style=\"text-align: right;\">\n",
       "      <th></th>\n",
       "      <th>X</th>\n",
       "      <th>Y</th>\n",
       "      <th>cluster_ids</th>\n",
       "    </tr>\n",
       "    <tr>\n",
       "      <th>UID</th>\n",
       "      <th></th>\n",
       "      <th></th>\n",
       "      <th></th>\n",
       "    </tr>\n",
       "  </thead>\n",
       "  <tbody>\n",
       "    <tr>\n",
       "      <th>A1</th>\n",
       "      <td>3.0</td>\n",
       "      <td>8.5</td>\n",
       "      <td>0</td>\n",
       "    </tr>\n",
       "    <tr>\n",
       "      <th>A2</th>\n",
       "      <td>5.0</td>\n",
       "      <td>7.0</td>\n",
       "      <td>1</td>\n",
       "    </tr>\n",
       "    <tr>\n",
       "      <th>A3</th>\n",
       "      <td>6.0</td>\n",
       "      <td>4.0</td>\n",
       "      <td>2</td>\n",
       "    </tr>\n",
       "    <tr>\n",
       "      <th>A4</th>\n",
       "      <td>2.0</td>\n",
       "      <td>8.0</td>\n",
       "      <td>3</td>\n",
       "    </tr>\n",
       "    <tr>\n",
       "      <th>A5</th>\n",
       "      <td>7.0</td>\n",
       "      <td>3.0</td>\n",
       "      <td>4</td>\n",
       "    </tr>\n",
       "    <tr>\n",
       "      <th>A6</th>\n",
       "      <td>2.0</td>\n",
       "      <td>6.0</td>\n",
       "      <td>5</td>\n",
       "    </tr>\n",
       "    <tr>\n",
       "      <th>A7</th>\n",
       "      <td>4.0</td>\n",
       "      <td>3.0</td>\n",
       "      <td>6</td>\n",
       "    </tr>\n",
       "    <tr>\n",
       "      <th>A8</th>\n",
       "      <td>3.0</td>\n",
       "      <td>8.5</td>\n",
       "      <td>0</td>\n",
       "    </tr>\n",
       "    <tr>\n",
       "      <th>A9</th>\n",
       "      <td>5.0</td>\n",
       "      <td>8.0</td>\n",
       "      <td>8</td>\n",
       "    </tr>\n",
       "  </tbody>\n",
       "</table>\n",
       "</div>"
      ],
      "text/plain": [
       "       X    Y  cluster_ids\n",
       "UID                       \n",
       "A1   3.0  8.5            0\n",
       "A2   5.0  7.0            1\n",
       "A3   6.0  4.0            2\n",
       "A4   2.0  8.0            3\n",
       "A5   7.0  3.0            4\n",
       "A6   2.0  6.0            5\n",
       "A7   4.0  3.0            6\n",
       "A8   3.0  8.5            0\n",
       "A9   5.0  8.0            8"
      ]
     },
     "execution_count": 151,
     "metadata": {},
     "output_type": "execute_result"
    }
   ],
   "source": [
    "# choosing average linkage\n",
    "# i.e. for points A1 and A8, the new combined value will be computed by averaging values of A1 and A8\n",
    "# we could choose max value, min value or centroid values\n",
    "\n",
    "avg_linkage = df.loc[list(closest_points)][features].mean(axis=0)\n",
    "common_cluster_id = df.loc[list(closest_points)]['cluster_ids'].min()\n",
    "\n",
    "for point in closest_points:\n",
    "    df.loc[point] = avg_linkage.tolist() + [common_cluster_id]\n",
    "    \n",
    "df"
   ]
  },
  {
   "cell_type": "markdown",
   "metadata": {},
   "source": [
    "- A1 and A8 have been assigned same cluster id, and average values of X and Y have been chosen as new values for both of them"
   ]
  },
  {
   "cell_type": "code",
   "execution_count": 160,
   "metadata": {},
   "outputs": [
    {
     "data": {
      "image/png": "[encoded data removed]",
      "text/plain": [
       "<Figure size 864x288 with 1 Axes>"
      ]
     },
     "metadata": {
      "needs_background": "light"
     },
     "output_type": "display_data"
    }
   ],
   "source": [
    "# simple dendrogram\n",
    "\n",
    "plt.figure(figsize=(12,4))\n",
    "link = linkage(df[['X','Y']], method = 'average')\n",
    "dendrogrm = dendrogram(link, above_threshold_color=\"grey\", color_threshold=3, leaf_font_size=10, labels=df.index.tolist())\n",
    "plt.axhline(y=3, color='r', linestyle='--')\n",
    "plt.title('Dendrogram')\n",
    "plt.xlabel('Customers')\n",
    "plt.ylabel('Euclidean distance')\n",
    "plt.show()"
   ]
  },
  {
   "cell_type": "markdown",
   "metadata": {},
   "source": [
    "- The bottom labels are nothing but the samples. A1 and A8 were merged in previous step, and thus a smudge line.\n",
    "\n",
    "\n",
    "- Note: For large number of samples, it wouldn't be possible to visualize all the branches (or clades), so $dendrogram()$ has an option of truncating the clades for a given order $p$\n",
    "\n",
    "\n",
    "- dendrogram(..., truncate_mode=truncate_mode, p=p)"
   ]
  },
  {
   "cell_type": "markdown",
   "metadata": {},
   "source": [
    "##### Effect of truncate mode and p"
   ]
  },
  {
   "cell_type": "code",
   "execution_count": 124,
   "metadata": {},
   "outputs": [
    {
     "data": {
      "image/png": "[encoded data removed]",
      "text/plain": [
       "<Figure size 1152x360 with 12 Axes>"
      ]
     },
     "metadata": {
      "needs_background": "light"
     },
     "output_type": "display_data"
    }
   ],
   "source": [
    "np.random.seed(11)\n",
    "fig, ax_rows = plt.subplots(ncols=6, nrows=2, sharey=True, figsize=(16, 5))\n",
    "for ax_row, truncate_mode in zip(ax_rows, ['level', 'lastp']):\n",
    "    dendrogram(link, ax=ax_row[0])\n",
    "    ax_row[0].set_title('default, no truncation')\n",
    "    for ind, ax in enumerate(ax_row[1:]):\n",
    "        if truncate_mode == 'level':\n",
    "            p = len(ax_row) - ind - 1\n",
    "        else:\n",
    "            p = len(ax_row) - ind\n",
    "        dendrogram(link, truncate_mode=truncate_mode, p=p, ax=ax)\n",
    "        ax.set_title(f\"truncate_mode='{truncate_mode}', p={p}\")\n",
    "plt.tight_layout()\n",
    "plt.show()"
   ]
  },
  {
   "cell_type": "markdown",
   "metadata": {},
   "source": [
    "#### Distance Threshold from Dendrogram for optimal number of clusters"
   ]
  },
  {
   "cell_type": "markdown",
   "metadata": {},
   "source": [
    "<img src=\"Data/img/dendrogram4.png\" width=\"450\" height=\"250\">\n",
    "<img src=\"Data/img/dendrogram5.png\" width=\"450\" height=\"250\">"
   ]
  },
  {
   "cell_type": "markdown",
   "metadata": {},
   "source": [
    "### 5. Repeat 2,3,4 Steps"
   ]
  },
  {
   "cell_type": "markdown",
   "metadata": {},
   "source": [
    "- We would need to repeat the steps, from computing a new proxmity matrix, to merging closest clusters based on average linkage (or any chosen linkage)"
   ]
  },
  {
   "cell_type": "markdown",
   "metadata": {},
   "source": [
    "---"
   ]
  },
  {
   "cell_type": "markdown",
   "metadata": {},
   "source": [
    "## Agglomerative using sklearn"
   ]
  },
  {
   "cell_type": "markdown",
   "metadata": {},
   "source": [
    "#### Imports"
   ]
  },
  {
   "cell_type": "code",
   "execution_count": 247,
   "metadata": {},
   "outputs": [],
   "source": [
    "from sklearn.cluster import AgglomerativeClustering \n",
    "from sklearn.preprocessing import StandardScaler, normalize\n",
    "from sklearn.decomposition import PCA\n",
    "from sklearn.metrics import silhouette_score\n",
    "from scipy.cluster.hierarchy import dendrogram, fcluster"
   ]
  },
  {
   "cell_type": "markdown",
   "metadata": {},
   "source": [
    "#### Dataset"
   ]
  },
  {
   "cell_type": "code",
   "execution_count": 248,
   "metadata": {
    "scrolled": true
   },
   "outputs": [
    {
     "name": "stdout",
     "output_type": "stream",
     "text": [
      "(4000, 6)\n"
     ]
    },
    {
     "data": {
      "text/html": [
       "<div>\n",
       "<style scoped>\n",
       "    .dataframe tbody tr th:only-of-type {\n",
       "        vertical-align: middle;\n",
       "    }\n",
       "\n",
       "    .dataframe tbody tr th {\n",
       "        vertical-align: top;\n",
       "    }\n",
       "\n",
       "    .dataframe thead th {\n",
       "        text-align: right;\n",
       "    }\n",
       "</style>\n",
       "<table border=\"1\" class=\"dataframe\">\n",
       "  <thead>\n",
       "    <tr style=\"text-align: right;\">\n",
       "      <th></th>\n",
       "      <th>x1</th>\n",
       "      <th>x2</th>\n",
       "      <th>x3</th>\n",
       "      <th>x4</th>\n",
       "      <th>x5</th>\n",
       "      <th>x6</th>\n",
       "    </tr>\n",
       "  </thead>\n",
       "  <tbody>\n",
       "    <tr>\n",
       "      <th>0</th>\n",
       "      <td>1.868873</td>\n",
       "      <td>-10.463549</td>\n",
       "      <td>0.674638</td>\n",
       "      <td>0.912393</td>\n",
       "      <td>-0.003039</td>\n",
       "      <td>-2.202443</td>\n",
       "    </tr>\n",
       "    <tr>\n",
       "      <th>1</th>\n",
       "      <td>-0.137840</td>\n",
       "      <td>5.363186</td>\n",
       "      <td>-0.444914</td>\n",
       "      <td>4.125290</td>\n",
       "      <td>0.002185</td>\n",
       "      <td>-6.643935</td>\n",
       "    </tr>\n",
       "    <tr>\n",
       "      <th>2</th>\n",
       "      <td>1.051263</td>\n",
       "      <td>-7.977121</td>\n",
       "      <td>-1.926635</td>\n",
       "      <td>1.195411</td>\n",
       "      <td>0.017575</td>\n",
       "      <td>-6.092424</td>\n",
       "    </tr>\n",
       "    <tr>\n",
       "      <th>3</th>\n",
       "      <td>1.426620</td>\n",
       "      <td>-10.728448</td>\n",
       "      <td>-0.062891</td>\n",
       "      <td>2.053938</td>\n",
       "      <td>0.001306</td>\n",
       "      <td>-4.519171</td>\n",
       "    </tr>\n",
       "    <tr>\n",
       "      <th>4</th>\n",
       "      <td>1.841122</td>\n",
       "      <td>-4.068528</td>\n",
       "      <td>-0.493864</td>\n",
       "      <td>3.354350</td>\n",
       "      <td>-0.014658</td>\n",
       "      <td>4.857383</td>\n",
       "    </tr>\n",
       "  </tbody>\n",
       "</table>\n",
       "</div>"
      ],
      "text/plain": [
       "         x1         x2        x3        x4        x5        x6\n",
       "0  1.868873 -10.463549  0.674638  0.912393 -0.003039 -2.202443\n",
       "1 -0.137840   5.363186 -0.444914  4.125290  0.002185 -6.643935\n",
       "2  1.051263  -7.977121 -1.926635  1.195411  0.017575 -6.092424\n",
       "3  1.426620 -10.728448 -0.062891  2.053938  0.001306 -4.519171\n",
       "4  1.841122  -4.068528 -0.493864  3.354350 -0.014658  4.857383"
      ]
     },
     "execution_count": 248,
     "metadata": {},
     "output_type": "execute_result"
    }
   ],
   "source": [
    "df = pd.read_csv(\"data_numerical_6Features.csv\")\n",
    "print(df.shape)\n",
    "df.head()"
   ]
  },
  {
   "cell_type": "markdown",
   "metadata": {},
   "source": [
    "#### Normalize"
   ]
  },
  {
   "cell_type": "code",
   "execution_count": 249,
   "metadata": {},
   "outputs": [
    {
     "data": {
      "text/html": [
       "<div>\n",
       "<style scoped>\n",
       "    .dataframe tbody tr th:only-of-type {\n",
       "        vertical-align: middle;\n",
       "    }\n",
       "\n",
       "    .dataframe tbody tr th {\n",
       "        vertical-align: top;\n",
       "    }\n",
       "\n",
       "    .dataframe thead th {\n",
       "        text-align: right;\n",
       "    }\n",
       "</style>\n",
       "<table border=\"1\" class=\"dataframe\">\n",
       "  <thead>\n",
       "    <tr style=\"text-align: right;\">\n",
       "      <th></th>\n",
       "      <th>x1</th>\n",
       "      <th>x2</th>\n",
       "      <th>x3</th>\n",
       "      <th>x4</th>\n",
       "      <th>x5</th>\n",
       "      <th>x6</th>\n",
       "    </tr>\n",
       "  </thead>\n",
       "  <tbody>\n",
       "    <tr>\n",
       "      <th>0</th>\n",
       "      <td>0.590843</td>\n",
       "      <td>-0.637630</td>\n",
       "      <td>0.174595</td>\n",
       "      <td>-0.395628</td>\n",
       "      <td>-0.108163</td>\n",
       "      <td>-0.213607</td>\n",
       "    </tr>\n",
       "    <tr>\n",
       "      <th>1</th>\n",
       "      <td>-0.044665</td>\n",
       "      <td>0.466394</td>\n",
       "      <td>-0.234247</td>\n",
       "      <td>0.775373</td>\n",
       "      <td>0.080312</td>\n",
       "      <td>-0.343450</td>\n",
       "    </tr>\n",
       "    <tr>\n",
       "      <th>2</th>\n",
       "      <td>0.264805</td>\n",
       "      <td>-0.369126</td>\n",
       "      <td>-0.633375</td>\n",
       "      <td>-0.232023</td>\n",
       "      <td>0.515914</td>\n",
       "      <td>-0.269182</td>\n",
       "    </tr>\n",
       "    <tr>\n",
       "      <th>3</th>\n",
       "      <td>0.527447</td>\n",
       "      <td>-0.768504</td>\n",
       "      <td>-0.116626</td>\n",
       "      <td>0.034097</td>\n",
       "      <td>0.059383</td>\n",
       "      <td>-0.336022</td>\n",
       "    </tr>\n",
       "    <tr>\n",
       "      <th>4</th>\n",
       "      <td>0.585551</td>\n",
       "      <td>-0.186709</td>\n",
       "      <td>-0.261405</td>\n",
       "      <td>0.516079</td>\n",
       "      <td>-0.536189</td>\n",
       "      <td>0.010064</td>\n",
       "    </tr>\n",
       "    <tr>\n",
       "      <th>...</th>\n",
       "      <td>...</td>\n",
       "      <td>...</td>\n",
       "      <td>...</td>\n",
       "      <td>...</td>\n",
       "      <td>...</td>\n",
       "      <td>...</td>\n",
       "    </tr>\n",
       "    <tr>\n",
       "      <th>3995</th>\n",
       "      <td>0.624885</td>\n",
       "      <td>-0.028211</td>\n",
       "      <td>-0.034420</td>\n",
       "      <td>-0.177925</td>\n",
       "      <td>-0.250167</td>\n",
       "      <td>0.716447</td>\n",
       "    </tr>\n",
       "    <tr>\n",
       "      <th>3996</th>\n",
       "      <td>-0.480740</td>\n",
       "      <td>0.188995</td>\n",
       "      <td>0.176555</td>\n",
       "      <td>-0.484903</td>\n",
       "      <td>0.216449</td>\n",
       "      <td>0.648088</td>\n",
       "    </tr>\n",
       "    <tr>\n",
       "      <th>3997</th>\n",
       "      <td>-0.454434</td>\n",
       "      <td>0.125315</td>\n",
       "      <td>0.236322</td>\n",
       "      <td>0.171190</td>\n",
       "      <td>0.761901</td>\n",
       "      <td>0.334871</td>\n",
       "    </tr>\n",
       "    <tr>\n",
       "      <th>3998</th>\n",
       "      <td>-0.390336</td>\n",
       "      <td>0.091263</td>\n",
       "      <td>0.774678</td>\n",
       "      <td>-0.386411</td>\n",
       "      <td>0.079782</td>\n",
       "      <td>0.288971</td>\n",
       "    </tr>\n",
       "    <tr>\n",
       "      <th>3999</th>\n",
       "      <td>-0.165293</td>\n",
       "      <td>0.028345</td>\n",
       "      <td>-0.145685</td>\n",
       "      <td>-0.655585</td>\n",
       "      <td>0.505500</td>\n",
       "      <td>0.515100</td>\n",
       "    </tr>\n",
       "  </tbody>\n",
       "</table>\n",
       "<p>4000 rows × 6 columns</p>\n",
       "</div>"
      ],
      "text/plain": [
       "            x1        x2        x3        x4        x5        x6\n",
       "0     0.590843 -0.637630  0.174595 -0.395628 -0.108163 -0.213607\n",
       "1    -0.044665  0.466394 -0.234247  0.775373  0.080312 -0.343450\n",
       "2     0.264805 -0.369126 -0.633375 -0.232023  0.515914 -0.269182\n",
       "3     0.527447 -0.768504 -0.116626  0.034097  0.059383 -0.336022\n",
       "4     0.585551 -0.186709 -0.261405  0.516079 -0.536189  0.010064\n",
       "...        ...       ...       ...       ...       ...       ...\n",
       "3995  0.624885 -0.028211 -0.034420 -0.177925 -0.250167  0.716447\n",
       "3996 -0.480740  0.188995  0.176555 -0.484903  0.216449  0.648088\n",
       "3997 -0.454434  0.125315  0.236322  0.171190  0.761901  0.334871\n",
       "3998 -0.390336  0.091263  0.774678 -0.386411  0.079782  0.288971\n",
       "3999 -0.165293  0.028345 -0.145685 -0.655585  0.505500  0.515100\n",
       "\n",
       "[4000 rows x 6 columns]"
      ]
     },
     "execution_count": 249,
     "metadata": {},
     "output_type": "execute_result"
    }
   ],
   "source": [
    "scaler = StandardScaler() \n",
    "scaled_data = scaler.fit_transform(df) \n",
    "df_scaled = pd.DataFrame(normalize(scaled_data))\n",
    "df_scaled.columns = df.columns\n",
    "df_scaled"
   ]
  },
  {
   "cell_type": "markdown",
   "metadata": {},
   "source": [
    "#### Dendrogram"
   ]
  },
  {
   "cell_type": "markdown",
   "metadata": {},
   "source": [
    "NOTE:- Running a dendrogram on large datasets is not advised, however, to optmize memory and space consumption, use a $truncate\\_mode$\n"
   ]
  },
  {
   "cell_type": "code",
   "execution_count": 251,
   "metadata": {},
   "outputs": [
    {
     "data": {
      "image/png": "[encoded data removed]",
      "text/plain": [
       "<Figure size 864x432 with 1 Axes>"
      ]
     },
     "metadata": {
      "needs_background": "light"
     },
     "output_type": "display_data"
    }
   ],
   "source": [
    "plt.figure(figsize=(12,6))\n",
    "link = linkage(df, method = 'ward')\n",
    "dendrogrm = dendrogram(link)\n",
    "#dendrogrm = dendrogram(link, truncate_mode='level', p=5)\n",
    "plt.axhline(y=200, color='r', linestyle='--')\n",
    "plt.axhline(y=370, color='r', linestyle='--')\n",
    "plt.title('Dendrogram')\n",
    "plt.xlabel('Customers')\n",
    "plt.ylabel('Euclidean distance')\n",
    "plt.show()"
   ]
  },
  {
   "cell_type": "markdown",
   "metadata": {},
   "source": [
    "On Mac M1 chip 2022 model, \n",
    "- Plotting the dendrogram with any truncate mode on 4000 samples took 8 mins.\n",
    "- Plotting the dendrogram with a truncate mode with p=5, took <1 min\n",
    "- Plotting the dendrogram with a truncate mode with p=10, took 2 mins\n",
    "\n",
    "\n",
    "Seems, k is 4 for most of the range(indicated by orange dotted lines)"
   ]
  },
  {
   "cell_type": "code",
   "execution_count": 244,
   "metadata": {},
   "outputs": [],
   "source": [
    "hclust = AgglomerativeClustering(n_clusters=None, distance_threshold=20, affinity='euclidean', linkage='ward', compute_distances=True)  \n",
    "hclust.fit(df_scaled)\n",
    "\n",
    "df['Cluster_IDs'] = hclust.fit_predict(df_scaled)"
   ]
  },
  {
   "cell_type": "code",
   "execution_count": 245,
   "metadata": {},
   "outputs": [
    {
     "data": {
      "text/plain": [
       "0    4000\n",
       "Name: Cluster_IDs, dtype: int64"
      ]
     },
     "execution_count": 245,
     "metadata": {},
     "output_type": "execute_result"
    }
   ],
   "source": [
    "df.Cluster_IDs.value_counts()"
   ]
  },
  {
   "cell_type": "markdown",
   "metadata": {},
   "source": [
    "----\n",
    "---"
   ]
  },
  {
   "cell_type": "markdown",
   "metadata": {},
   "source": [
    "# Density Based Clustering"
   ]
  },
  {
   "cell_type": "markdown",
   "metadata": {},
   "source": [
    "## DBSCAN"
   ]
  },
  {
   "cell_type": "markdown",
   "metadata": {},
   "source": [
    "#### Imports"
   ]
  },
  {
   "cell_type": "code",
   "execution_count": 62,
   "metadata": {},
   "outputs": [],
   "source": [
    "from sklearn.cluster import AgglomerativeClustering \n",
    "from sklearn.preprocessing import StandardScaler, normalize\n",
    "from sklearn.decomposition import PCA\n",
    "from sklearn.metrics import silhouette_score\n",
    "import scipy.cluster.hierarchy as shc"
   ]
  },
  {
   "cell_type": "markdown",
   "metadata": {},
   "source": [
    "#### Dataset"
   ]
  },
  {
   "cell_type": "code",
   "execution_count": 63,
   "metadata": {
    "scrolled": true
   },
   "outputs": [
    {
     "name": "stdout",
     "output_type": "stream",
     "text": [
      "(4000, 6)\n"
     ]
    },
    {
     "data": {
      "text/html": [
       "<div>\n",
       "<style scoped>\n",
       "    .dataframe tbody tr th:only-of-type {\n",
       "        vertical-align: middle;\n",
       "    }\n",
       "\n",
       "    .dataframe tbody tr th {\n",
       "        vertical-align: top;\n",
       "    }\n",
       "\n",
       "    .dataframe thead th {\n",
       "        text-align: right;\n",
       "    }\n",
       "</style>\n",
       "<table border=\"1\" class=\"dataframe\">\n",
       "  <thead>\n",
       "    <tr style=\"text-align: right;\">\n",
       "      <th></th>\n",
       "      <th>x1</th>\n",
       "      <th>x2</th>\n",
       "      <th>x3</th>\n",
       "      <th>x4</th>\n",
       "      <th>x5</th>\n",
       "      <th>x6</th>\n",
       "    </tr>\n",
       "  </thead>\n",
       "  <tbody>\n",
       "    <tr>\n",
       "      <th>0</th>\n",
       "      <td>1.868873</td>\n",
       "      <td>-10.463549</td>\n",
       "      <td>0.674638</td>\n",
       "      <td>0.912393</td>\n",
       "      <td>-0.003039</td>\n",
       "      <td>-2.202443</td>\n",
       "    </tr>\n",
       "    <tr>\n",
       "      <th>1</th>\n",
       "      <td>-0.137840</td>\n",
       "      <td>5.363186</td>\n",
       "      <td>-0.444914</td>\n",
       "      <td>4.125290</td>\n",
       "      <td>0.002185</td>\n",
       "      <td>-6.643935</td>\n",
       "    </tr>\n",
       "    <tr>\n",
       "      <th>2</th>\n",
       "      <td>1.051263</td>\n",
       "      <td>-7.977121</td>\n",
       "      <td>-1.926635</td>\n",
       "      <td>1.195411</td>\n",
       "      <td>0.017575</td>\n",
       "      <td>-6.092424</td>\n",
       "    </tr>\n",
       "    <tr>\n",
       "      <th>3</th>\n",
       "      <td>1.426620</td>\n",
       "      <td>-10.728448</td>\n",
       "      <td>-0.062891</td>\n",
       "      <td>2.053938</td>\n",
       "      <td>0.001306</td>\n",
       "      <td>-4.519171</td>\n",
       "    </tr>\n",
       "    <tr>\n",
       "      <th>4</th>\n",
       "      <td>1.841122</td>\n",
       "      <td>-4.068528</td>\n",
       "      <td>-0.493864</td>\n",
       "      <td>3.354350</td>\n",
       "      <td>-0.014658</td>\n",
       "      <td>4.857383</td>\n",
       "    </tr>\n",
       "  </tbody>\n",
       "</table>\n",
       "</div>"
      ],
      "text/plain": [
       "         x1         x2        x3        x4        x5        x6\n",
       "0  1.868873 -10.463549  0.674638  0.912393 -0.003039 -2.202443\n",
       "1 -0.137840   5.363186 -0.444914  4.125290  0.002185 -6.643935\n",
       "2  1.051263  -7.977121 -1.926635  1.195411  0.017575 -6.092424\n",
       "3  1.426620 -10.728448 -0.062891  2.053938  0.001306 -4.519171\n",
       "4  1.841122  -4.068528 -0.493864  3.354350 -0.014658  4.857383"
      ]
     },
     "execution_count": 63,
     "metadata": {},
     "output_type": "execute_result"
    }
   ],
   "source": [
    "df = pd.read_csv(\"data_numerical_6Features.csv\")\n",
    "print(df.shape)\n",
    "df.head()"
   ]
  },
  {
   "cell_type": "markdown",
   "metadata": {},
   "source": [
    "#### Normalize"
   ]
  },
  {
   "cell_type": "code",
   "execution_count": 64,
   "metadata": {},
   "outputs": [
    {
     "data": {
      "text/html": [
       "<div>\n",
       "<style scoped>\n",
       "    .dataframe tbody tr th:only-of-type {\n",
       "        vertical-align: middle;\n",
       "    }\n",
       "\n",
       "    .dataframe tbody tr th {\n",
       "        vertical-align: top;\n",
       "    }\n",
       "\n",
       "    .dataframe thead th {\n",
       "        text-align: right;\n",
       "    }\n",
       "</style>\n",
       "<table border=\"1\" class=\"dataframe\">\n",
       "  <thead>\n",
       "    <tr style=\"text-align: right;\">\n",
       "      <th></th>\n",
       "      <th>x1</th>\n",
       "      <th>x2</th>\n",
       "      <th>x3</th>\n",
       "      <th>x4</th>\n",
       "      <th>x5</th>\n",
       "      <th>x6</th>\n",
       "    </tr>\n",
       "  </thead>\n",
       "  <tbody>\n",
       "    <tr>\n",
       "      <th>0</th>\n",
       "      <td>0.590843</td>\n",
       "      <td>-0.637630</td>\n",
       "      <td>0.174595</td>\n",
       "      <td>-0.395628</td>\n",
       "      <td>-0.108163</td>\n",
       "      <td>-0.213607</td>\n",
       "    </tr>\n",
       "    <tr>\n",
       "      <th>1</th>\n",
       "      <td>-0.044665</td>\n",
       "      <td>0.466394</td>\n",
       "      <td>-0.234247</td>\n",
       "      <td>0.775373</td>\n",
       "      <td>0.080312</td>\n",
       "      <td>-0.343450</td>\n",
       "    </tr>\n",
       "    <tr>\n",
       "      <th>2</th>\n",
       "      <td>0.264805</td>\n",
       "      <td>-0.369126</td>\n",
       "      <td>-0.633375</td>\n",
       "      <td>-0.232023</td>\n",
       "      <td>0.515914</td>\n",
       "      <td>-0.269182</td>\n",
       "    </tr>\n",
       "    <tr>\n",
       "      <th>3</th>\n",
       "      <td>0.527447</td>\n",
       "      <td>-0.768504</td>\n",
       "      <td>-0.116626</td>\n",
       "      <td>0.034097</td>\n",
       "      <td>0.059383</td>\n",
       "      <td>-0.336022</td>\n",
       "    </tr>\n",
       "    <tr>\n",
       "      <th>4</th>\n",
       "      <td>0.585551</td>\n",
       "      <td>-0.186709</td>\n",
       "      <td>-0.261405</td>\n",
       "      <td>0.516079</td>\n",
       "      <td>-0.536189</td>\n",
       "      <td>0.010064</td>\n",
       "    </tr>\n",
       "    <tr>\n",
       "      <th>...</th>\n",
       "      <td>...</td>\n",
       "      <td>...</td>\n",
       "      <td>...</td>\n",
       "      <td>...</td>\n",
       "      <td>...</td>\n",
       "      <td>...</td>\n",
       "    </tr>\n",
       "    <tr>\n",
       "      <th>3995</th>\n",
       "      <td>0.624885</td>\n",
       "      <td>-0.028211</td>\n",
       "      <td>-0.034420</td>\n",
       "      <td>-0.177925</td>\n",
       "      <td>-0.250167</td>\n",
       "      <td>0.716447</td>\n",
       "    </tr>\n",
       "    <tr>\n",
       "      <th>3996</th>\n",
       "      <td>-0.480740</td>\n",
       "      <td>0.188995</td>\n",
       "      <td>0.176555</td>\n",
       "      <td>-0.484903</td>\n",
       "      <td>0.216449</td>\n",
       "      <td>0.648088</td>\n",
       "    </tr>\n",
       "    <tr>\n",
       "      <th>3997</th>\n",
       "      <td>-0.454434</td>\n",
       "      <td>0.125315</td>\n",
       "      <td>0.236322</td>\n",
       "      <td>0.171190</td>\n",
       "      <td>0.761901</td>\n",
       "      <td>0.334871</td>\n",
       "    </tr>\n",
       "    <tr>\n",
       "      <th>3998</th>\n",
       "      <td>-0.390336</td>\n",
       "      <td>0.091263</td>\n",
       "      <td>0.774678</td>\n",
       "      <td>-0.386411</td>\n",
       "      <td>0.079782</td>\n",
       "      <td>0.288971</td>\n",
       "    </tr>\n",
       "    <tr>\n",
       "      <th>3999</th>\n",
       "      <td>-0.165293</td>\n",
       "      <td>0.028345</td>\n",
       "      <td>-0.145685</td>\n",
       "      <td>-0.655585</td>\n",
       "      <td>0.505500</td>\n",
       "      <td>0.515100</td>\n",
       "    </tr>\n",
       "  </tbody>\n",
       "</table>\n",
       "<p>4000 rows × 6 columns</p>\n",
       "</div>"
      ],
      "text/plain": [
       "            x1        x2        x3        x4        x5        x6\n",
       "0     0.590843 -0.637630  0.174595 -0.395628 -0.108163 -0.213607\n",
       "1    -0.044665  0.466394 -0.234247  0.775373  0.080312 -0.343450\n",
       "2     0.264805 -0.369126 -0.633375 -0.232023  0.515914 -0.269182\n",
       "3     0.527447 -0.768504 -0.116626  0.034097  0.059383 -0.336022\n",
       "4     0.585551 -0.186709 -0.261405  0.516079 -0.536189  0.010064\n",
       "...        ...       ...       ...       ...       ...       ...\n",
       "3995  0.624885 -0.028211 -0.034420 -0.177925 -0.250167  0.716447\n",
       "3996 -0.480740  0.188995  0.176555 -0.484903  0.216449  0.648088\n",
       "3997 -0.454434  0.125315  0.236322  0.171190  0.761901  0.334871\n",
       "3998 -0.390336  0.091263  0.774678 -0.386411  0.079782  0.288971\n",
       "3999 -0.165293  0.028345 -0.145685 -0.655585  0.505500  0.515100\n",
       "\n",
       "[4000 rows x 6 columns]"
      ]
     },
     "execution_count": 64,
     "metadata": {},
     "output_type": "execute_result"
    }
   ],
   "source": [
    "scaler = StandardScaler() \n",
    "scaled_data = scaler.fit_transform(df) \n",
    "df_scaled = pd.DataFrame(normalize(scaled_data))\n",
    "df_scaled.columns = df.columns\n",
    "df_scaled"
   ]
  },
  {
   "cell_type": "code",
   "execution_count": null,
   "metadata": {},
   "outputs": [],
   "source": []
  },
  {
   "cell_type": "code",
   "execution_count": null,
   "metadata": {},
   "outputs": [],
   "source": []
  },
  {
   "cell_type": "code",
   "execution_count": null,
   "metadata": {},
   "outputs": [],
   "source": []
  },
  {
   "cell_type": "markdown",
   "metadata": {},
   "source": [
    "## HDBSCAN"
   ]
  },
  {
   "cell_type": "markdown",
   "metadata": {},
   "source": [
    "#### Imports"
   ]
  },
  {
   "cell_type": "code",
   "execution_count": 62,
   "metadata": {},
   "outputs": [],
   "source": [
    "from sklearn.cluster import AgglomerativeClustering \n",
    "from sklearn.preprocessing import StandardScaler, normalize\n",
    "from sklearn.decomposition import PCA\n",
    "from sklearn.metrics import silhouette_score\n",
    "import scipy.cluster.hierarchy as shc"
   ]
  },
  {
   "cell_type": "markdown",
   "metadata": {},
   "source": [
    "#### Dataset"
   ]
  },
  {
   "cell_type": "code",
   "execution_count": 63,
   "metadata": {
    "scrolled": true
   },
   "outputs": [
    {
     "name": "stdout",
     "output_type": "stream",
     "text": [
      "(4000, 6)\n"
     ]
    },
    {
     "data": {
      "text/html": [
       "<div>\n",
       "<style scoped>\n",
       "    .dataframe tbody tr th:only-of-type {\n",
       "        vertical-align: middle;\n",
       "    }\n",
       "\n",
       "    .dataframe tbody tr th {\n",
       "        vertical-align: top;\n",
       "    }\n",
       "\n",
       "    .dataframe thead th {\n",
       "        text-align: right;\n",
       "    }\n",
       "</style>\n",
       "<table border=\"1\" class=\"dataframe\">\n",
       "  <thead>\n",
       "    <tr style=\"text-align: right;\">\n",
       "      <th></th>\n",
       "      <th>x1</th>\n",
       "      <th>x2</th>\n",
       "      <th>x3</th>\n",
       "      <th>x4</th>\n",
       "      <th>x5</th>\n",
       "      <th>x6</th>\n",
       "    </tr>\n",
       "  </thead>\n",
       "  <tbody>\n",
       "    <tr>\n",
       "      <th>0</th>\n",
       "      <td>1.868873</td>\n",
       "      <td>-10.463549</td>\n",
       "      <td>0.674638</td>\n",
       "      <td>0.912393</td>\n",
       "      <td>-0.003039</td>\n",
       "      <td>-2.202443</td>\n",
       "    </tr>\n",
       "    <tr>\n",
       "      <th>1</th>\n",
       "      <td>-0.137840</td>\n",
       "      <td>5.363186</td>\n",
       "      <td>-0.444914</td>\n",
       "      <td>4.125290</td>\n",
       "      <td>0.002185</td>\n",
       "      <td>-6.643935</td>\n",
       "    </tr>\n",
       "    <tr>\n",
       "      <th>2</th>\n",
       "      <td>1.051263</td>\n",
       "      <td>-7.977121</td>\n",
       "      <td>-1.926635</td>\n",
       "      <td>1.195411</td>\n",
       "      <td>0.017575</td>\n",
       "      <td>-6.092424</td>\n",
       "    </tr>\n",
       "    <tr>\n",
       "      <th>3</th>\n",
       "      <td>1.426620</td>\n",
       "      <td>-10.728448</td>\n",
       "      <td>-0.062891</td>\n",
       "      <td>2.053938</td>\n",
       "      <td>0.001306</td>\n",
       "      <td>-4.519171</td>\n",
       "    </tr>\n",
       "    <tr>\n",
       "      <th>4</th>\n",
       "      <td>1.841122</td>\n",
       "      <td>-4.068528</td>\n",
       "      <td>-0.493864</td>\n",
       "      <td>3.354350</td>\n",
       "      <td>-0.014658</td>\n",
       "      <td>4.857383</td>\n",
       "    </tr>\n",
       "  </tbody>\n",
       "</table>\n",
       "</div>"
      ],
      "text/plain": [
       "         x1         x2        x3        x4        x5        x6\n",
       "0  1.868873 -10.463549  0.674638  0.912393 -0.003039 -2.202443\n",
       "1 -0.137840   5.363186 -0.444914  4.125290  0.002185 -6.643935\n",
       "2  1.051263  -7.977121 -1.926635  1.195411  0.017575 -6.092424\n",
       "3  1.426620 -10.728448 -0.062891  2.053938  0.001306 -4.519171\n",
       "4  1.841122  -4.068528 -0.493864  3.354350 -0.014658  4.857383"
      ]
     },
     "execution_count": 63,
     "metadata": {},
     "output_type": "execute_result"
    }
   ],
   "source": [
    "df = pd.read_csv(\"data_numerical_6Features.csv\")\n",
    "print(df.shape)\n",
    "df.head()"
   ]
  },
  {
   "cell_type": "markdown",
   "metadata": {},
   "source": [
    "#### Normalize"
   ]
  },
  {
   "cell_type": "code",
   "execution_count": 64,
   "metadata": {},
   "outputs": [
    {
     "data": {
      "text/html": [
       "<div>\n",
       "<style scoped>\n",
       "    .dataframe tbody tr th:only-of-type {\n",
       "        vertical-align: middle;\n",
       "    }\n",
       "\n",
       "    .dataframe tbody tr th {\n",
       "        vertical-align: top;\n",
       "    }\n",
       "\n",
       "    .dataframe thead th {\n",
       "        text-align: right;\n",
       "    }\n",
       "</style>\n",
       "<table border=\"1\" class=\"dataframe\">\n",
       "  <thead>\n",
       "    <tr style=\"text-align: right;\">\n",
       "      <th></th>\n",
       "      <th>x1</th>\n",
       "      <th>x2</th>\n",
       "      <th>x3</th>\n",
       "      <th>x4</th>\n",
       "      <th>x5</th>\n",
       "      <th>x6</th>\n",
       "    </tr>\n",
       "  </thead>\n",
       "  <tbody>\n",
       "    <tr>\n",
       "      <th>0</th>\n",
       "      <td>0.590843</td>\n",
       "      <td>-0.637630</td>\n",
       "      <td>0.174595</td>\n",
       "      <td>-0.395628</td>\n",
       "      <td>-0.108163</td>\n",
       "      <td>-0.213607</td>\n",
       "    </tr>\n",
       "    <tr>\n",
       "      <th>1</th>\n",
       "      <td>-0.044665</td>\n",
       "      <td>0.466394</td>\n",
       "      <td>-0.234247</td>\n",
       "      <td>0.775373</td>\n",
       "      <td>0.080312</td>\n",
       "      <td>-0.343450</td>\n",
       "    </tr>\n",
       "    <tr>\n",
       "      <th>2</th>\n",
       "      <td>0.264805</td>\n",
       "      <td>-0.369126</td>\n",
       "      <td>-0.633375</td>\n",
       "      <td>-0.232023</td>\n",
       "      <td>0.515914</td>\n",
       "      <td>-0.269182</td>\n",
       "    </tr>\n",
       "    <tr>\n",
       "      <th>3</th>\n",
       "      <td>0.527447</td>\n",
       "      <td>-0.768504</td>\n",
       "      <td>-0.116626</td>\n",
       "      <td>0.034097</td>\n",
       "      <td>0.059383</td>\n",
       "      <td>-0.336022</td>\n",
       "    </tr>\n",
       "    <tr>\n",
       "      <th>4</th>\n",
       "      <td>0.585551</td>\n",
       "      <td>-0.186709</td>\n",
       "      <td>-0.261405</td>\n",
       "      <td>0.516079</td>\n",
       "      <td>-0.536189</td>\n",
       "      <td>0.010064</td>\n",
       "    </tr>\n",
       "    <tr>\n",
       "      <th>...</th>\n",
       "      <td>...</td>\n",
       "      <td>...</td>\n",
       "      <td>...</td>\n",
       "      <td>...</td>\n",
       "      <td>...</td>\n",
       "      <td>...</td>\n",
       "    </tr>\n",
       "    <tr>\n",
       "      <th>3995</th>\n",
       "      <td>0.624885</td>\n",
       "      <td>-0.028211</td>\n",
       "      <td>-0.034420</td>\n",
       "      <td>-0.177925</td>\n",
       "      <td>-0.250167</td>\n",
       "      <td>0.716447</td>\n",
       "    </tr>\n",
       "    <tr>\n",
       "      <th>3996</th>\n",
       "      <td>-0.480740</td>\n",
       "      <td>0.188995</td>\n",
       "      <td>0.176555</td>\n",
       "      <td>-0.484903</td>\n",
       "      <td>0.216449</td>\n",
       "      <td>0.648088</td>\n",
       "    </tr>\n",
       "    <tr>\n",
       "      <th>3997</th>\n",
       "      <td>-0.454434</td>\n",
       "      <td>0.125315</td>\n",
       "      <td>0.236322</td>\n",
       "      <td>0.171190</td>\n",
       "      <td>0.761901</td>\n",
       "      <td>0.334871</td>\n",
       "    </tr>\n",
       "    <tr>\n",
       "      <th>3998</th>\n",
       "      <td>-0.390336</td>\n",
       "      <td>0.091263</td>\n",
       "      <td>0.774678</td>\n",
       "      <td>-0.386411</td>\n",
       "      <td>0.079782</td>\n",
       "      <td>0.288971</td>\n",
       "    </tr>\n",
       "    <tr>\n",
       "      <th>3999</th>\n",
       "      <td>-0.165293</td>\n",
       "      <td>0.028345</td>\n",
       "      <td>-0.145685</td>\n",
       "      <td>-0.655585</td>\n",
       "      <td>0.505500</td>\n",
       "      <td>0.515100</td>\n",
       "    </tr>\n",
       "  </tbody>\n",
       "</table>\n",
       "<p>4000 rows × 6 columns</p>\n",
       "</div>"
      ],
      "text/plain": [
       "            x1        x2        x3        x4        x5        x6\n",
       "0     0.590843 -0.637630  0.174595 -0.395628 -0.108163 -0.213607\n",
       "1    -0.044665  0.466394 -0.234247  0.775373  0.080312 -0.343450\n",
       "2     0.264805 -0.369126 -0.633375 -0.232023  0.515914 -0.269182\n",
       "3     0.527447 -0.768504 -0.116626  0.034097  0.059383 -0.336022\n",
       "4     0.585551 -0.186709 -0.261405  0.516079 -0.536189  0.010064\n",
       "...        ...       ...       ...       ...       ...       ...\n",
       "3995  0.624885 -0.028211 -0.034420 -0.177925 -0.250167  0.716447\n",
       "3996 -0.480740  0.188995  0.176555 -0.484903  0.216449  0.648088\n",
       "3997 -0.454434  0.125315  0.236322  0.171190  0.761901  0.334871\n",
       "3998 -0.390336  0.091263  0.774678 -0.386411  0.079782  0.288971\n",
       "3999 -0.165293  0.028345 -0.145685 -0.655585  0.505500  0.515100\n",
       "\n",
       "[4000 rows x 6 columns]"
      ]
     },
     "execution_count": 64,
     "metadata": {},
     "output_type": "execute_result"
    }
   ],
   "source": [
    "scaler = StandardScaler() \n",
    "scaled_data = scaler.fit_transform(df) \n",
    "df_scaled = pd.DataFrame(normalize(scaled_data))\n",
    "df_scaled.columns = df.columns\n",
    "df_scaled"
   ]
  },
  {
   "cell_type": "code",
   "execution_count": 9,
   "metadata": {},
   "outputs": [],
   "source": [
    "import torch"
   ]
  },
  {
   "cell_type": "code",
   "execution_count": 2,
   "metadata": {},
   "outputs": [
    {
     "name": "stdout",
     "output_type": "stream",
     "text": [
      "Tensor(\"Const_1:0\", shape=(2, 2), dtype=int64)\n"
     ]
    }
   ],
   "source": [
    "import tensorflow as tf\n",
    "import numpy as np\n",
    " \n",
    "#create numpy_array\n",
    "numpy_array = np.array([[1,2],[3,4]])\n",
    " \n",
    "# convert it to tensorflow\n",
    "tensor1 = tf.convert_to_tensor(numpy_array)\n",
    "print(tensor1)"
   ]
  },
  {
   "cell_type": "code",
   "execution_count": 8,
   "metadata": {},
   "outputs": [
    {
     "ename": "AttributeError",
     "evalue": "module 'tensorflow' has no attribute 'python'",
     "output_type": "error",
     "traceback": [
      "\u001b[0;31m---------------------------------------------------------------------------\u001b[0m",
      "\u001b[0;31mAttributeError\u001b[0m                            Traceback (most recent call last)",
      "\u001b[0;32m<ipython-input-8-1dba7af046c5>\u001b[0m in \u001b[0;36m<module>\u001b[0;34m\u001b[0m\n\u001b[0;32m----> 1\u001b[0;31m \u001b[0mtype\u001b[0m\u001b[0;34m(\u001b[0m\u001b[0mtensor1\u001b[0m\u001b[0;34m)\u001b[0m \u001b[0;32mis\u001b[0m \u001b[0mtf\u001b[0m\u001b[0;34m.\u001b[0m\u001b[0mpython\u001b[0m\u001b[0;34m.\u001b[0m\u001b[0mframework\u001b[0m\u001b[0;34m.\u001b[0m\u001b[0mops\u001b[0m\u001b[0;34m.\u001b[0m\u001b[0mTensor\u001b[0m\u001b[0;34m\u001b[0m\u001b[0;34m\u001b[0m\u001b[0m\n\u001b[0m",
      "\u001b[0;32m~/opt/anaconda3/envs/Python_3.6/lib/python3.6/site-packages/tensorflow/python/util/deprecation_wrapper.py\u001b[0m in \u001b[0;36m__getattr__\u001b[0;34m(self, name)\u001b[0m\n\u001b[1;32m    104\u001b[0m     \u001b[0;32mif\u001b[0m \u001b[0mname\u001b[0m\u001b[0;34m.\u001b[0m\u001b[0mstartswith\u001b[0m\u001b[0;34m(\u001b[0m\u001b[0;34m'_dw_'\u001b[0m\u001b[0;34m)\u001b[0m\u001b[0;34m:\u001b[0m\u001b[0;34m\u001b[0m\u001b[0;34m\u001b[0m\u001b[0m\n\u001b[1;32m    105\u001b[0m       \u001b[0;32mraise\u001b[0m \u001b[0mAttributeError\u001b[0m\u001b[0;34m(\u001b[0m\u001b[0;34m'Accessing local variables before they are created.'\u001b[0m\u001b[0;34m)\u001b[0m\u001b[0;34m\u001b[0m\u001b[0;34m\u001b[0m\u001b[0m\n\u001b[0;32m--> 106\u001b[0;31m     \u001b[0mattr\u001b[0m \u001b[0;34m=\u001b[0m \u001b[0mgetattr\u001b[0m\u001b[0;34m(\u001b[0m\u001b[0mself\u001b[0m\u001b[0;34m.\u001b[0m\u001b[0m_dw_wrapped_module\u001b[0m\u001b[0;34m,\u001b[0m \u001b[0mname\u001b[0m\u001b[0;34m)\u001b[0m\u001b[0;34m\u001b[0m\u001b[0;34m\u001b[0m\u001b[0m\n\u001b[0m\u001b[1;32m    107\u001b[0m     if (self._dw_warning_count < _PER_MODULE_WARNING_LIMIT and\n\u001b[1;32m    108\u001b[0m         name not in self._dw_deprecated_printed):\n",
      "\u001b[0;31mAttributeError\u001b[0m: module 'tensorflow' has no attribute 'python'"
     ]
    }
   ],
   "source": [
    "type(tensor1) is tf.python.framework.ops.Tensor"
   ]
  },
  {
   "cell_type": "code",
   "execution_count": 10,
   "metadata": {},
   "outputs": [
    {
     "data": {
      "text/plain": [
       "False"
      ]
     },
     "execution_count": 10,
     "metadata": {},
     "output_type": "execute_result"
    }
   ],
   "source": [
    "torch.is_tensor(tensor1)"
   ]
  },
  {
   "cell_type": "code",
   "execution_count": 13,
   "metadata": {},
   "outputs": [
    {
     "data": {
      "text/plain": [
       "False"
      ]
     },
     "execution_count": 13,
     "metadata": {},
     "output_type": "execute_result"
    }
   ],
   "source": [
    "tf.is_tensor(numpy_array)"
   ]
  },
  {
   "cell_type": "code",
   "execution_count": null,
   "metadata": {},
   "outputs": [],
   "source": []
  },
  {
   "cell_type": "code",
   "execution_count": null,
   "metadata": {},
   "outputs": [],
   "source": []
  },
  {
   "cell_type": "code",
   "execution_count": null,
   "metadata": {},
   "outputs": [],
   "source": []
  },
  {
   "cell_type": "markdown",
   "metadata": {},
   "source": [
    "---\n",
    "---"
   ]
  }
 ],
 "metadata": {
  "kernelspec": {
   "display_name": "Python_3.6",
   "language": "python",
   "name": "python_3.6"
  },
  "language_info": {
   "codemirror_mode": {
    "name": "ipython",
    "version": 3
   },
   "file_extension": ".py",
   "mimetype": "text/x-python",
   "name": "python",
   "nbconvert_exporter": "python",
   "pygments_lexer": "ipython3",
   "version": "3.6.10"
  }
 },
 "nbformat": 4,
 "nbformat_minor": 4
}
