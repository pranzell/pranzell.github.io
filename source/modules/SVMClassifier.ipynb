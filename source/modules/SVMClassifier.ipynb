{
 "cells": [
  {
   "cell_type": "markdown",
   "metadata": {},
   "source": [
    "# SVM"
   ]
  },
  {
   "cell_type": "markdown",
   "metadata": {},
   "source": [
    "- Based on the distance between two closest points belonging to different classes. This distance is called Margin distance given by ( distance = w.X + b ) and these points are called Support Vectors.\n",
    "\n",
    "    `  Margin Distance = w.X + b`\n",
    "\n",
    "    `  Margin = (w.X + b)Y_i = 1/||w||`\n",
    "\n",
    "    `  Optimisation Function: Max Margin = Max(1/||w||) = Min(||w||) ~= Min 1/2 ||w||^2`\n",
    "    \n",
    "\n",
    "- To Solve this optimisation problem, we use Larange Multipliers."
   ]
  },
  {
   "cell_type": "markdown",
   "metadata": {},
   "source": [
    "----"
   ]
  },
  {
   "cell_type": "markdown",
   "metadata": {},
   "source": [
    "# 1. Imports"
   ]
  },
  {
   "cell_type": "code",
   "execution_count": 1,
   "metadata": {},
   "outputs": [],
   "source": [
    "import pandas as pd\n",
    "import numpy as np\n",
    "import random\n",
    "\n",
    "import category_encoders as CE\n",
    "from sklearn.preprocessing import LabelEncoder\n",
    "from sklearn.preprocessing import StandardScaler, normalize\n",
    "from sklearn.model_selection import train_test_split, GridSearchCV\n",
    "from sklearn import preprocessing\n",
    "from sklearn.metrics import accuracy_score, classification_report, confusion_matrix, \\\n",
    "                            precision_score, recall_score, f1_score, silhouette_score\n",
    "from sklearn.utils import shuffle\n",
    "from sklearn.feature_extraction.text import TfidfVectorizer\n",
    "from sklearn.model_selection import cross_val_score\n",
    "from nltk.tokenize import word_tokenize\n",
    "from gensim.models import word2vec\n",
    "from sklearn.svm import SVC\n",
    "\n",
    "import matplotlib.pyplot as plt\n",
    "from matplotlib import pyplot as plt, ticker as ticker\n",
    "import seaborn as sns\n",
    "import warnings\n",
    "pd.set_option(\"display.max_columns\", 80)\n",
    "sns.set_style(\"whitegrid\")\n",
    "sns.set_palette('inferno')\n",
    "warnings.filterwarnings('ignore')\n",
    "%matplotlib inline"
   ]
  },
  {
   "cell_type": "code",
   "execution_count": 2,
   "metadata": {},
   "outputs": [],
   "source": [
    "def plot_metrics(Y_test, Y_pred, labels):\n",
    "    \"\"\"\n",
    "        Function to output complete accuracy metrics for binary and multi-class classifiers!\n",
    "        labels: list - list of unique labels str or numeric\n",
    "    \n",
    "    \"\"\"\n",
    "    print(\"--------------\\n:: METRICS ::\\n--------------\\n\")\n",
    "    cm = confusion_matrix(Y_test, Y_pred, labels=labels)\n",
    "    model_type = 'binary' if len(set(np.array(labels))) <=2 else \"multi\"\n",
    "    if model_type == 'binary':\n",
    "        \"\"\"\n",
    "                Binary Classification\n",
    "        \"\"\"\n",
    "        TP = cm[1,1]\n",
    "        FP = cm[0,1]\n",
    "        FN = cm[1,0]\n",
    "        TN = cm[0,0]\n",
    "    else:\n",
    "        \"\"\"\n",
    "                Multi-class Classification\n",
    "        \"\"\"\n",
    "        FP = cm.sum(axis=0) - np.diag(cm)  \n",
    "        FN = cm.sum(axis=1) - np.diag(cm)\n",
    "        TP = np.diag(cm)\n",
    "        TN = cm.sum() - (FP + FN + TP)\n",
    "\n",
    "        # PRECISION: Positive predictive value\n",
    "        PPV = TP/(TP+FP)\n",
    "        # RECALL: Sensitivity, hit rate, or true positive rate\n",
    "        TPR = TP/(TP+FN)\n",
    "        # Specificity or true negative rate\n",
    "        TNR = TN/(TN+FP) \n",
    "        # Negative predictive value\n",
    "        NPV = TN/(TN+FN)\n",
    "        # Fall out or false positive rate\n",
    "        FPR = FP/(FP+TN)\n",
    "        # False negative rate\n",
    "        FNR = FN/(TP+FN)\n",
    "        # False discovery rate\n",
    "        FDR = FP/(TP+FP)\n",
    "        # Overall accuracy\n",
    "        ACC = (TP+TN)/(TP+FP+FN+TN)\n",
    "        # Error Rate\n",
    "        ER = (FP+FN)/(TP+FP+FN+TN)\n",
    "        F1 = 2/(PPV**-1 + TPR**-1)\n",
    "    \n",
    "    # Confusion matrix PLOT\n",
    "    fig, ax = plt.subplots(figsize=(4,2))\n",
    "    sns.heatmap(cm, annot=True, fmt='g', ax=ax, cmap=\"Blues\")\n",
    "    ax.set_xlabel('Predicted labels')\n",
    "    ax.set_ylabel('True labels')\n",
    "    ax.set_title('Confusion Matrix')\n",
    "    plt.tick_params(axis='both', which='major', labelsize=10, labelbottom = False, bottom=False, top = True, labeltop=True)\n",
    "    plt.show()\n",
    "    # DISPLAY\n",
    "    if model_type == 'binary':\n",
    "        print(\"\\nTP:{}\\tFP:{}\\tFN:{}\\tTN:{}\"\\\n",
    "              .format(round(TP,2), round(FP,2), round(FN,2), round(TN,2)))\n",
    "    else:\n",
    "        for i in range(len(labels)):\n",
    "            print(\"\\n****** Label `{}` *******\\nTP:{}\\tFP:{}\\tFN:{}\\tTN:{}\\t >> Precision:{}\\tRecall:{}\\tF1:{}\"\\\n",
    "                  .format(labels[i], round(TP[i],2), round(FP[i],2), round(FN[i],2), round(TN[i],2), \\\n",
    "                          round(PPV[i],2), round(TPR[i],2), round(F1[i],2)))\n",
    "    print(\"\\nOVERALL:\")\n",
    "    print(\"Accuracy \\t==== \\t{} %\\nPrecision \\t==== \\t{} %\\nRecall Score\\t==== \\t{} %\\nF1 SCORE \\t==== \\t{} %\"\\\n",
    "          .format(round(accuracy_score(Y_test, Y_pred)*100,3),\n",
    "                  round(precision_score(Y_test, Y_pred, average='weighted')*100,3),\n",
    "                  round(recall_score(Y_test, Y_pred, average='weighted')*100,3),\n",
    "                  round(f1_score(Y_test, Y_pred, average='weighted')*100,3) ))\n",
    "    return"
   ]
  },
  {
   "cell_type": "markdown",
   "metadata": {},
   "source": [
    "----"
   ]
  },
  {
   "cell_type": "markdown",
   "metadata": {},
   "source": [
    "# 2. SVM for Tweets Classification"
   ]
  },
  {
   "cell_type": "markdown",
   "metadata": {},
   "source": [
    "### 1. Load dataset"
   ]
  },
  {
   "cell_type": "code",
   "execution_count": 3,
   "metadata": {},
   "outputs": [
    {
     "data": {
      "text/html": [
       "<div>\n",
       "<style scoped>\n",
       "    .dataframe tbody tr th:only-of-type {\n",
       "        vertical-align: middle;\n",
       "    }\n",
       "\n",
       "    .dataframe tbody tr th {\n",
       "        vertical-align: top;\n",
       "    }\n",
       "\n",
       "    .dataframe thead th {\n",
       "        text-align: right;\n",
       "    }\n",
       "</style>\n",
       "<table border=\"1\" class=\"dataframe\">\n",
       "  <thead>\n",
       "    <tr style=\"text-align: right;\">\n",
       "      <th></th>\n",
       "      <th>tweet_id</th>\n",
       "      <th>tweet</th>\n",
       "      <th>Processed_tweet</th>\n",
       "      <th>label</th>\n",
       "    </tr>\n",
       "  </thead>\n",
       "  <tbody>\n",
       "    <tr>\n",
       "      <th>0</th>\n",
       "      <td>tweet_0</td>\n",
       "      <td>All campus dining locations are closed today, ...</td>\n",
       "      <td>campus dining location close today jan 1 happy...</td>\n",
       "      <td>cu_others</td>\n",
       "    </tr>\n",
       "    <tr>\n",
       "      <th>1</th>\n",
       "      <td>tweet_1</td>\n",
       "      <td>What are your campus dining options today, Jan...</td>\n",
       "      <td>what your campus dining option today jan 2 alf...</td>\n",
       "      <td>cu_others</td>\n",
       "    </tr>\n",
       "    <tr>\n",
       "      <th>2</th>\n",
       "      <td>tweet_2</td>\n",
       "      <td>#FPGA Design for #Embedded #Systems\\n\\n#SoC #V...</td>\n",
       "      <td>fpga design embed system soc verilog vlsi asic...</td>\n",
       "      <td>cu_online</td>\n",
       "    </tr>\n",
       "    <tr>\n",
       "      <th>3</th>\n",
       "      <td>tweet_3</td>\n",
       "      <td>What are your campus dining options today, Jan...</td>\n",
       "      <td>what your campus dining option today jan 3 alf...</td>\n",
       "      <td>cu_others</td>\n",
       "    </tr>\n",
       "    <tr>\n",
       "      <th>4</th>\n",
       "      <td>tweet_4</td>\n",
       "      <td>As an anthro PhD student I’m frequently asked ...</td>\n",
       "      <td>anthro phd student m frequently ask why study ...</td>\n",
       "      <td>cu_research</td>\n",
       "    </tr>\n",
       "    <tr>\n",
       "      <th>...</th>\n",
       "      <td>...</td>\n",
       "      <td>...</td>\n",
       "      <td>...</td>\n",
       "      <td>...</td>\n",
       "    </tr>\n",
       "    <tr>\n",
       "      <th>3389</th>\n",
       "      <td>tweet_3389</td>\n",
       "      <td>@CuLinguistics is proud of the 17 faculty &amp;amp...</td>\n",
       "      <td>proud 17 faculty student give course panel tal...</td>\n",
       "      <td>cu_research</td>\n",
       "    </tr>\n",
       "    <tr>\n",
       "      <th>3390</th>\n",
       "      <td>tweet_3390</td>\n",
       "      <td>@breelynwilkyMD @CUCancerCenter @CUCancerInst ...</td>\n",
       "      <td>oncology immunology immunotherapy genetherapy ...</td>\n",
       "      <td>cu_research</td>\n",
       "    </tr>\n",
       "    <tr>\n",
       "      <th>3391</th>\n",
       "      <td>tweet_3391</td>\n",
       "      <td>@breelynwilkyMD @CUCancerCenter @CUCancerInst ...</td>\n",
       "      <td>sarcoma treatment treatment oncology immunolog...</td>\n",
       "      <td>cu_research</td>\n",
       "    </tr>\n",
       "    <tr>\n",
       "      <th>3392</th>\n",
       "      <td>tweet_3392</td>\n",
       "      <td>It has been one year since the Marshall Fire i...</td>\n",
       "      <td>one year since marshall fire boulder county co...</td>\n",
       "      <td>cu_research</td>\n",
       "    </tr>\n",
       "    <tr>\n",
       "      <th>3393</th>\n",
       "      <td>tweet_3393</td>\n",
       "      <td>@enriqueseguraca Yes, very related to the rese...</td>\n",
       "      <td>yes relate research</td>\n",
       "      <td>cu_research</td>\n",
       "    </tr>\n",
       "  </tbody>\n",
       "</table>\n",
       "<p>3394 rows × 4 columns</p>\n",
       "</div>"
      ],
      "text/plain": [
       "        tweet_id                                              tweet  \\\n",
       "0        tweet_0  All campus dining locations are closed today, ...   \n",
       "1        tweet_1  What are your campus dining options today, Jan...   \n",
       "2        tweet_2  #FPGA Design for #Embedded #Systems\\n\\n#SoC #V...   \n",
       "3        tweet_3  What are your campus dining options today, Jan...   \n",
       "4        tweet_4  As an anthro PhD student I’m frequently asked ...   \n",
       "...          ...                                                ...   \n",
       "3389  tweet_3389  @CuLinguistics is proud of the 17 faculty &amp...   \n",
       "3390  tweet_3390  @breelynwilkyMD @CUCancerCenter @CUCancerInst ...   \n",
       "3391  tweet_3391  @breelynwilkyMD @CUCancerCenter @CUCancerInst ...   \n",
       "3392  tweet_3392  It has been one year since the Marshall Fire i...   \n",
       "3393  tweet_3393  @enriqueseguraca Yes, very related to the rese...   \n",
       "\n",
       "                                        Processed_tweet        label  \n",
       "0     campus dining location close today jan 1 happy...    cu_others  \n",
       "1     what your campus dining option today jan 2 alf...    cu_others  \n",
       "2     fpga design embed system soc verilog vlsi asic...    cu_online  \n",
       "3     what your campus dining option today jan 3 alf...    cu_others  \n",
       "4     anthro phd student m frequently ask why study ...  cu_research  \n",
       "...                                                 ...          ...  \n",
       "3389  proud 17 faculty student give course panel tal...  cu_research  \n",
       "3390  oncology immunology immunotherapy genetherapy ...  cu_research  \n",
       "3391  sarcoma treatment treatment oncology immunolog...  cu_research  \n",
       "3392  one year since marshall fire boulder county co...  cu_research  \n",
       "3393                                yes relate research  cu_research  \n",
       "\n",
       "[3394 rows x 4 columns]"
      ]
     },
     "execution_count": 3,
     "metadata": {},
     "output_type": "execute_result"
    }
   ],
   "source": [
    "# Load text dataset\n",
    "\n",
    "data = pd.read_csv('../Data/processed_cuboulder_TwitterData.csv')\n",
    "df = data[['tweet', 'Processed_tweet', 'label']]\n",
    "df.insert(0, 'tweet_id', [\"tweet_%d\"%i for i in range(len(df))])\n",
    "df"
   ]
  },
  {
   "cell_type": "markdown",
   "metadata": {},
   "source": [
    "- Our dataset was already preprocessed in earlier steps."
   ]
  },
  {
   "cell_type": "markdown",
   "metadata": {},
   "source": [
    "### 2. Setup"
   ]
  },
  {
   "cell_type": "code",
   "execution_count": 4,
   "metadata": {},
   "outputs": [],
   "source": [
    "X = df[['tweet_id', 'Processed_tweet']]\n",
    "Y = df['label']"
   ]
  },
  {
   "cell_type": "code",
   "execution_count": 5,
   "metadata": {},
   "outputs": [
    {
     "data": {
      "text/html": [
       "<div>\n",
       "<style scoped>\n",
       "    .dataframe tbody tr th:only-of-type {\n",
       "        vertical-align: middle;\n",
       "    }\n",
       "\n",
       "    .dataframe tbody tr th {\n",
       "        vertical-align: top;\n",
       "    }\n",
       "\n",
       "    .dataframe thead th {\n",
       "        text-align: right;\n",
       "    }\n",
       "</style>\n",
       "<table border=\"1\" class=\"dataframe\">\n",
       "  <thead>\n",
       "    <tr style=\"text-align: right;\">\n",
       "      <th></th>\n",
       "      <th>tweet_id</th>\n",
       "      <th>Processed_tweet</th>\n",
       "    </tr>\n",
       "  </thead>\n",
       "  <tbody>\n",
       "    <tr>\n",
       "      <th>0</th>\n",
       "      <td>tweet_0</td>\n",
       "      <td>campus dining location close today jan 1 happy...</td>\n",
       "    </tr>\n",
       "    <tr>\n",
       "      <th>1</th>\n",
       "      <td>tweet_1</td>\n",
       "      <td>what your campus dining option today jan 2 alf...</td>\n",
       "    </tr>\n",
       "    <tr>\n",
       "      <th>2</th>\n",
       "      <td>tweet_2</td>\n",
       "      <td>fpga design embed system soc verilog vlsi asic...</td>\n",
       "    </tr>\n",
       "    <tr>\n",
       "      <th>3</th>\n",
       "      <td>tweet_3</td>\n",
       "      <td>what your campus dining option today jan 3 alf...</td>\n",
       "    </tr>\n",
       "    <tr>\n",
       "      <th>4</th>\n",
       "      <td>tweet_4</td>\n",
       "      <td>anthro phd student m frequently ask why study ...</td>\n",
       "    </tr>\n",
       "    <tr>\n",
       "      <th>...</th>\n",
       "      <td>...</td>\n",
       "      <td>...</td>\n",
       "    </tr>\n",
       "    <tr>\n",
       "      <th>3389</th>\n",
       "      <td>tweet_3389</td>\n",
       "      <td>proud 17 faculty student give course panel tal...</td>\n",
       "    </tr>\n",
       "    <tr>\n",
       "      <th>3390</th>\n",
       "      <td>tweet_3390</td>\n",
       "      <td>oncology immunology immunotherapy genetherapy ...</td>\n",
       "    </tr>\n",
       "    <tr>\n",
       "      <th>3391</th>\n",
       "      <td>tweet_3391</td>\n",
       "      <td>sarcoma treatment treatment oncology immunolog...</td>\n",
       "    </tr>\n",
       "    <tr>\n",
       "      <th>3392</th>\n",
       "      <td>tweet_3392</td>\n",
       "      <td>one year since marshall fire boulder county co...</td>\n",
       "    </tr>\n",
       "    <tr>\n",
       "      <th>3393</th>\n",
       "      <td>tweet_3393</td>\n",
       "      <td>yes relate research</td>\n",
       "    </tr>\n",
       "  </tbody>\n",
       "</table>\n",
       "<p>3394 rows × 2 columns</p>\n",
       "</div>"
      ],
      "text/plain": [
       "        tweet_id                                    Processed_tweet\n",
       "0        tweet_0  campus dining location close today jan 1 happy...\n",
       "1        tweet_1  what your campus dining option today jan 2 alf...\n",
       "2        tweet_2  fpga design embed system soc verilog vlsi asic...\n",
       "3        tweet_3  what your campus dining option today jan 3 alf...\n",
       "4        tweet_4  anthro phd student m frequently ask why study ...\n",
       "...          ...                                                ...\n",
       "3389  tweet_3389  proud 17 faculty student give course panel tal...\n",
       "3390  tweet_3390  oncology immunology immunotherapy genetherapy ...\n",
       "3391  tweet_3391  sarcoma treatment treatment oncology immunolog...\n",
       "3392  tweet_3392  one year since marshall fire boulder county co...\n",
       "3393  tweet_3393                                yes relate research\n",
       "\n",
       "[3394 rows x 2 columns]"
      ]
     },
     "execution_count": 5,
     "metadata": {},
     "output_type": "execute_result"
    }
   ],
   "source": [
    "X"
   ]
  },
  {
   "cell_type": "code",
   "execution_count": 6,
   "metadata": {},
   "outputs": [
    {
     "data": {
      "text/plain": [
       "0         cu_others\n",
       "1         cu_others\n",
       "2         cu_online\n",
       "3         cu_others\n",
       "4       cu_research\n",
       "           ...     \n",
       "3389    cu_research\n",
       "3390    cu_research\n",
       "3391    cu_research\n",
       "3392    cu_research\n",
       "3393    cu_research\n",
       "Name: label, Length: 3394, dtype: object"
      ]
     },
     "execution_count": 6,
     "metadata": {},
     "output_type": "execute_result"
    }
   ],
   "source": [
    "Y"
   ]
  },
  {
   "cell_type": "code",
   "execution_count": 7,
   "metadata": {},
   "outputs": [
    {
     "data": {
      "text/plain": [
       "cu_research    2298\n",
       "cu_online       857\n",
       "cu_others       239\n",
       "Name: label, dtype: int64"
      ]
     },
     "execution_count": 7,
     "metadata": {},
     "output_type": "execute_result"
    }
   ],
   "source": [
    "Y.value_counts()"
   ]
  },
  {
   "cell_type": "markdown",
   "metadata": {},
   "source": [
    "### 3. Split"
   ]
  },
  {
   "cell_type": "code",
   "execution_count": 8,
   "metadata": {},
   "outputs": [
    {
     "name": "stdout",
     "output_type": "stream",
     "text": [
      "2375 1019\n"
     ]
    }
   ],
   "source": [
    "# train-test split\n",
    "\n",
    "X_train, X_test, Y_train, Y_test = train_test_split(X, Y, test_size = 0.30, random_state = 7)\n",
    "print(len(X_train), len(X_test))"
   ]
  },
  {
   "cell_type": "code",
   "execution_count": 9,
   "metadata": {},
   "outputs": [],
   "source": [
    "# need to drop IDs, and keep only text!\n",
    "\n",
    "X_train_uids = X_train['tweet_id']\n",
    "X_train = X_train.Processed_tweet\n",
    "\n",
    "X_test_uids = X_test['tweet_id']\n",
    "X_test = X_test.Processed_tweet"
   ]
  },
  {
   "cell_type": "code",
   "execution_count": 10,
   "metadata": {},
   "outputs": [
    {
     "data": {
      "text/plain": [
       "524     much love seminar student who game move person...\n",
       "864     not need sucker many student pay full tuition ...\n",
       "2173     mean still try deflect their rapey football team\n",
       "2898                                anyone know available\n",
       "1691    dr chris desouza head colorado university arm ...\n",
       "                              ...                        \n",
       "1603    ve come long way last 5 year our work genderpa...\n",
       "2550    bolster your career datascience learn fundamen...\n",
       "537     next our lineup globalhealth speaker alum seco...\n",
       "1220    see boulder third annual research innovation w...\n",
       "175     american politics research lab share great inf...\n",
       "Name: Processed_tweet, Length: 2375, dtype: object"
      ]
     },
     "execution_count": 10,
     "metadata": {},
     "output_type": "execute_result"
    }
   ],
   "source": [
    "X_train"
   ]
  },
  {
   "cell_type": "code",
   "execution_count": 11,
   "metadata": {},
   "outputs": [
    {
     "data": {
      "text/plain": [
       "524       cu_online\n",
       "864       cu_online\n",
       "2173      cu_others\n",
       "2898      cu_online\n",
       "1691    cu_research\n",
       "           ...     \n",
       "1603    cu_research\n",
       "2550      cu_online\n",
       "537     cu_research\n",
       "1220    cu_research\n",
       "175     cu_research\n",
       "Name: label, Length: 2375, dtype: object"
      ]
     },
     "execution_count": 11,
     "metadata": {},
     "output_type": "execute_result"
    }
   ],
   "source": [
    "Y_train"
   ]
  },
  {
   "cell_type": "code",
   "execution_count": 12,
   "metadata": {},
   "outputs": [
    {
     "data": {
      "text/plain": [
       "1075    atlas prof ellen yi luen direct research acme ...\n",
       "181     birth weight fall significantly recent decade ...\n",
       "445     let covid19 keep see student art global pandem...\n",
       "1657    research lead by professor publish show how ho...\n",
       "2321    mechanical engineering ph d student oakland un...\n",
       "                              ...                        \n",
       "2686    15 17 dream study united state join educationu...\n",
       "838     via agricultural application sulfur produce 10...\n",
       "1898    artdaily recommend air pollution exposure preg...\n",
       "2331    new research lead by see boulder researcher fi...\n",
       "262                     change class rest semester chance\n",
       "Name: Processed_tweet, Length: 1019, dtype: object"
      ]
     },
     "execution_count": 12,
     "metadata": {},
     "output_type": "execute_result"
    }
   ],
   "source": [
    "X_test"
   ]
  },
  {
   "cell_type": "code",
   "execution_count": 13,
   "metadata": {},
   "outputs": [
    {
     "data": {
      "text/plain": [
       "1075    cu_research\n",
       "181     cu_research\n",
       "445       cu_online\n",
       "1657    cu_research\n",
       "2321    cu_research\n",
       "           ...     \n",
       "2686      cu_online\n",
       "838     cu_research\n",
       "1898    cu_research\n",
       "2331    cu_research\n",
       "262       cu_online\n",
       "Name: label, Length: 1019, dtype: object"
      ]
     },
     "execution_count": 13,
     "metadata": {},
     "output_type": "execute_result"
    }
   ],
   "source": [
    "Y_test"
   ]
  },
  {
   "cell_type": "markdown",
   "metadata": {},
   "source": [
    "### 4. Vectorization using `TfIdf`"
   ]
  },
  {
   "cell_type": "markdown",
   "metadata": {},
   "source": [
    "#### Creating a Train-data Vocab and vectorising train data"
   ]
  },
  {
   "cell_type": "code",
   "execution_count": 14,
   "metadata": {},
   "outputs": [
    {
     "name": "stdout",
     "output_type": "stream",
     "text": [
      "Vocab (Train Data) = 7687 words\n"
     ]
    }
   ],
   "source": [
    "def flatten_words(sents):\n",
    "    qa = [s.split() for s in sents]\n",
    "    return sorted(list(set([w for sent in qa for w in sent])))\n",
    "    \n",
    "train_corpus = X_train.values.tolist()\n",
    "\n",
    "vocab = flatten_words(train_corpus)\n",
    "\n",
    "Vector = TfidfVectorizer(stop_words='english', vocabulary=vocab)\n",
    "\n",
    "# Printing length of our train data's Vocab..\n",
    "print('Vocab (Train Data) = {} words'.format(len(Vector.get_feature_names_out())))"
   ]
  },
  {
   "cell_type": "markdown",
   "metadata": {},
   "source": [
    "##### Transform our train data (Vectorising)"
   ]
  },
  {
   "cell_type": "code",
   "execution_count": 15,
   "metadata": {},
   "outputs": [
    {
     "name": "stdout",
     "output_type": "stream",
     "text": [
      "X_train: \n",
      "[[0. 0. 0. ... 0. 0. 0.]\n",
      " [0. 0. 0. ... 0. 0. 0.]\n",
      " [0. 0. 0. ... 0. 0. 0.]\n",
      " ...\n",
      " [0. 0. 0. ... 0. 0. 0.]\n",
      " [0. 0. 0. ... 0. 0. 0.]\n",
      " [0. 0. 0. ... 0. 0. 0.]]\n",
      "\n",
      "Shape = (2375, 7687)\n"
     ]
    }
   ],
   "source": [
    "# Vector Standardized using transform()\n",
    "X_train_vector = Vector.fit_transform(X_train)\n",
    "print(\"X_train: \\n{}\".format(X_train_vector.toarray()))\n",
    "print('\\nShape =', X_train_vector.toarray().shape)"
   ]
  },
  {
   "cell_type": "markdown",
   "metadata": {},
   "source": [
    "##### Transform test-data (using fitted vocabulary) into a document-term matrix"
   ]
  },
  {
   "cell_type": "code",
   "execution_count": 16,
   "metadata": {
    "scrolled": true
   },
   "outputs": [
    {
     "name": "stdout",
     "output_type": "stream",
     "text": [
      "X_test: \n",
      "[[0. 0. 0. ... 0. 0. 0.]\n",
      " [0. 0. 0. ... 0. 0. 0.]\n",
      " [0. 0. 0. ... 0. 0. 0.]\n",
      " ...\n",
      " [0. 0. 0. ... 0. 0. 0.]\n",
      " [0. 0. 0. ... 0. 0. 0.]\n",
      " [0. 0. 0. ... 0. 0. 0.]]\n",
      "\n",
      "Shape = (1019, 7687)\n"
     ]
    }
   ],
   "source": [
    "# Using training data's Vocab (fitted on vector) to transform test sample\n",
    "X_test_vector = Vector.transform(X_test)\n",
    "print(\"X_test: \\n{}\".format(X_test_vector.toarray()))\n",
    "print(\"\\nShape =\", X_test_vector.toarray().shape)"
   ]
  },
  {
   "cell_type": "markdown",
   "metadata": {},
   "source": [
    "---"
   ]
  },
  {
   "cell_type": "markdown",
   "metadata": {},
   "source": [
    "### 6. Modelling"
   ]
  },
  {
   "cell_type": "markdown",
   "metadata": {},
   "source": [
    "#### 1. Linear Kernel"
   ]
  },
  {
   "cell_type": "code",
   "execution_count": 17,
   "metadata": {},
   "outputs": [
    {
     "name": "stdout",
     "output_type": "stream",
     "text": [
      "--------------\n",
      ":: METRICS ::\n",
      "--------------\n",
      "\n"
     ]
    },
    {
     "data": {
      "image/png": "[encoded data removed]",
      "text/plain": [
       "<Figure size 400x200 with 2 Axes>"
      ]
     },
     "metadata": {},
     "output_type": "display_data"
    },
    {
     "name": "stdout",
     "output_type": "stream",
     "text": [
      "\n",
      "****** Label `cu_online` *******\n",
      "TP:231\tFP:19\tFN:42\tTN:727\t >> Precision:0.92\tRecall:0.85\tF1:0.88\n",
      "\n",
      "****** Label `cu_others` *******\n",
      "TP:64\tFP:2\tFN:7\tTN:946\t >> Precision:0.97\tRecall:0.9\tF1:0.93\n",
      "\n",
      "****** Label `cu_research` *******\n",
      "TP:661\tFP:42\tFN:14\tTN:302\t >> Precision:0.94\tRecall:0.98\tF1:0.96\n",
      "\n",
      "OVERALL:\n",
      "Accuracy \t==== \t93.817 %\n",
      "Precision \t==== \t93.795 %\n",
      "Recall Score\t==== \t93.817 %\n",
      "F1 SCORE \t==== \t93.726 %\n"
     ]
    }
   ],
   "source": [
    "model1 = SVC(kernel='linear', C=1.0)\n",
    "\n",
    "model1.fit(X_train_vector, Y_train)\n",
    "\n",
    "Y_test_hat = model1.predict(X_test_vector)\n",
    "plot_metrics(Y_test, Y_test_hat, sorted(Y.unique()))  # alphabetically arranged labels"
   ]
  },
  {
   "cell_type": "markdown",
   "metadata": {},
   "source": [
    "#### 2. Polynomial Kernel"
   ]
  },
  {
   "cell_type": "code",
   "execution_count": 18,
   "metadata": {},
   "outputs": [
    {
     "name": "stdout",
     "output_type": "stream",
     "text": [
      "--------------\n",
      ":: METRICS ::\n",
      "--------------\n",
      "\n"
     ]
    },
    {
     "data": {
      "image/png": "[encoded data removed]",
      "text/plain": [
       "<Figure size 400x200 with 2 Axes>"
      ]
     },
     "metadata": {},
     "output_type": "display_data"
    },
    {
     "name": "stdout",
     "output_type": "stream",
     "text": [
      "\n",
      "****** Label `cu_online` *******\n",
      "TP:54\tFP:3\tFN:219\tTN:743\t >> Precision:0.95\tRecall:0.2\tF1:0.33\n",
      "\n",
      "****** Label `cu_others` *******\n",
      "TP:11\tFP:0\tFN:60\tTN:948\t >> Precision:1.0\tRecall:0.15\tF1:0.27\n",
      "\n",
      "****** Label `cu_research` *******\n",
      "TP:672\tFP:279\tFN:3\tTN:65\t >> Precision:0.71\tRecall:1.0\tF1:0.83\n",
      "\n",
      "OVERALL:\n",
      "Accuracy \t==== \t72.326 %\n",
      "Precision \t==== \t79.156 %\n",
      "Recall Score\t==== \t72.326 %\n",
      "F1 SCORE \t==== \t65.39 %\n"
     ]
    }
   ],
   "source": [
    "model2 = SVC(kernel='poly', degree=3, C=4.5)\n",
    "\n",
    "model2.fit(X_train_vector, Y_train)\n",
    "\n",
    "Y_test_hat = model2.predict(X_test_vector)\n",
    "plot_metrics(Y_test, Y_test_hat, sorted(Y.unique()))  # alphabetically arranged labels"
   ]
  },
  {
   "cell_type": "markdown",
   "metadata": {},
   "source": [
    "#### 3. Gaussian Kernel"
   ]
  },
  {
   "cell_type": "code",
   "execution_count": 19,
   "metadata": {},
   "outputs": [
    {
     "name": "stdout",
     "output_type": "stream",
     "text": [
      "--------------\n",
      ":: METRICS ::\n",
      "--------------\n",
      "\n"
     ]
    },
    {
     "data": {
      "image/png": "[encoded data removed]",
      "text/plain": [
       "<Figure size 400x200 with 2 Axes>"
      ]
     },
     "metadata": {},
     "output_type": "display_data"
    },
    {
     "name": "stdout",
     "output_type": "stream",
     "text": [
      "\n",
      "****** Label `cu_online` *******\n",
      "TP:205\tFP:17\tFN:68\tTN:729\t >> Precision:0.92\tRecall:0.75\tF1:0.83\n",
      "\n",
      "****** Label `cu_others` *******\n",
      "TP:50\tFP:1\tFN:21\tTN:947\t >> Precision:0.98\tRecall:0.7\tF1:0.82\n",
      "\n",
      "****** Label `cu_research` *******\n",
      "TP:666\tFP:80\tFN:9\tTN:264\t >> Precision:0.89\tRecall:0.99\tF1:0.94\n",
      "\n",
      "OVERALL:\n",
      "Accuracy \t==== \t90.383 %\n",
      "Precision \t==== \t90.708 %\n",
      "Recall Score\t==== \t90.383 %\n",
      "F1 SCORE \t==== \t89.994 %\n"
     ]
    }
   ],
   "source": [
    "model = SVC(kernel='rbf', C=3.5)\n",
    "\n",
    "model.fit(X_train_vector, Y_train)\n",
    "\n",
    "Y_test_hat = model.predict(X_test_vector)\n",
    "plot_metrics(Y_test, Y_test_hat, sorted(Y.unique()))  # alphabetically arranged labels"
   ]
  },
  {
   "cell_type": "markdown",
   "metadata": {},
   "source": [
    "### 7. Hyper-parameter Tuning"
   ]
  },
  {
   "cell_type": "markdown",
   "metadata": {},
   "source": [
    "Parameters -\n",
    "\n",
    "    - C-value (Cost, Penalty term added to reduce missclassifications case; lower value - Soft margin, Higher value - overfitting)\n",
    "    - decision _function_shape ('ovr' one Vs rest  or 'ovo' one Vs one that helps in multiple class problems)\n",
    "    - kernel ('linear' for linear hyperplanes, 'rbf' radial bias function for non-linear hyperplanes, 'poly' or 'sigmoid)\n",
    "    - gamma (smoothness of decision boundaries, higher value - overfitting model)"
   ]
  },
  {
   "cell_type": "markdown",
   "metadata": {},
   "source": [
    "### Example: Cost (C)"
   ]
  },
  {
   "cell_type": "code",
   "execution_count": 21,
   "metadata": {},
   "outputs": [
    {
     "data": {
      "text/plain": [
       "0.6833687905541963"
      ]
     },
     "execution_count": 21,
     "metadata": {},
     "output_type": "execute_result"
    }
   ],
   "source": [
    "# C too low\n",
    "model = SVC(C=0.001)\n",
    "cross_val_score(model, X_train_vector, Y_train, cv=10, scoring='accuracy').mean()"
   ]
  },
  {
   "cell_type": "code",
   "execution_count": 22,
   "metadata": {},
   "outputs": [
    {
     "data": {
      "text/plain": [
       "0.8854749494734604"
      ]
     },
     "execution_count": 22,
     "metadata": {},
     "output_type": "execute_result"
    }
   ],
   "source": [
    "# C too high\n",
    "model = SVC(C=10)\n",
    "cross_val_score(model, X_train_vector, Y_train, cv=10, scoring='accuracy').mean()"
   ]
  },
  {
   "cell_type": "markdown",
   "metadata": {},
   "source": [
    "### Using GridSearchCV"
   ]
  },
  {
   "cell_type": "code",
   "execution_count": 23,
   "metadata": {},
   "outputs": [],
   "source": [
    "# a dict of some model hyper-parameters\n",
    "grid_params = {'C': np.random.uniform(0.4, 4.5 , size=10),\n",
    "               'kernel': ['linear'],\n",
    "               'gamma': [0.50, 0.125, 0.150]}"
   ]
  },
  {
   "cell_type": "code",
   "execution_count": 24,
   "metadata": {},
   "outputs": [],
   "source": [
    "# Passing a model, grid parameters, cv, and evaluation metrics. \n",
    "# -> For Regression models,      scoring='mean_squared_error'\n",
    "# -> For Classification models,  scoring='accuracy'\n",
    "\n",
    "model = SVC()\n",
    "grid = GridSearchCV(model, grid_params, cv=10, scoring='accuracy')"
   ]
  },
  {
   "cell_type": "code",
   "execution_count": 112,
   "metadata": {},
   "outputs": [
    {
     "data": {
      "text/html": [
       "<style>#sk-container-id-5 {color: black;background-color: white;}#sk-container-id-5 pre{padding: 0;}#sk-container-id-5 div.sk-toggleable {background-color: white;}#sk-container-id-5 label.sk-toggleable__label {cursor: pointer;display: block;width: 100%;margin-bottom: 0;padding: 0.3em;box-sizing: border-box;text-align: center;}#sk-container-id-5 label.sk-toggleable__label-arrow:before {content: \"▸\";float: left;margin-right: 0.25em;color: #696969;}#sk-container-id-5 label.sk-toggleable__label-arrow:hover:before {color: black;}#sk-container-id-5 div.sk-estimator:hover label.sk-toggleable__label-arrow:before {color: black;}#sk-container-id-5 div.sk-toggleable__content {max-height: 0;max-width: 0;overflow: hidden;text-align: left;background-color: #f0f8ff;}#sk-container-id-5 div.sk-toggleable__content pre {margin: 0.2em;color: black;border-radius: 0.25em;background-color: #f0f8ff;}#sk-container-id-5 input.sk-toggleable__control:checked~div.sk-toggleable__content {max-height: 200px;max-width: 100%;overflow: auto;}#sk-container-id-5 input.sk-toggleable__control:checked~label.sk-toggleable__label-arrow:before {content: \"▾\";}#sk-container-id-5 div.sk-estimator input.sk-toggleable__control:checked~label.sk-toggleable__label {background-color: #d4ebff;}#sk-container-id-5 div.sk-label input.sk-toggleable__control:checked~label.sk-toggleable__label {background-color: #d4ebff;}#sk-container-id-5 input.sk-hidden--visually {border: 0;clip: rect(1px 1px 1px 1px);clip: rect(1px, 1px, 1px, 1px);height: 1px;margin: -1px;overflow: hidden;padding: 0;position: absolute;width: 1px;}#sk-container-id-5 div.sk-estimator {font-family: monospace;background-color: #f0f8ff;border: 1px dotted black;border-radius: 0.25em;box-sizing: border-box;margin-bottom: 0.5em;}#sk-container-id-5 div.sk-estimator:hover {background-color: #d4ebff;}#sk-container-id-5 div.sk-parallel-item::after {content: \"\";width: 100%;border-bottom: 1px solid gray;flex-grow: 1;}#sk-container-id-5 div.sk-label:hover label.sk-toggleable__label {background-color: #d4ebff;}#sk-container-id-5 div.sk-serial::before {content: \"\";position: absolute;border-left: 1px solid gray;box-sizing: border-box;top: 0;bottom: 0;left: 50%;z-index: 0;}#sk-container-id-5 div.sk-serial {display: flex;flex-direction: column;align-items: center;background-color: white;padding-right: 0.2em;padding-left: 0.2em;position: relative;}#sk-container-id-5 div.sk-item {position: relative;z-index: 1;}#sk-container-id-5 div.sk-parallel {display: flex;align-items: stretch;justify-content: center;background-color: white;position: relative;}#sk-container-id-5 div.sk-item::before, #sk-container-id-5 div.sk-parallel-item::before {content: \"\";position: absolute;border-left: 1px solid gray;box-sizing: border-box;top: 0;bottom: 0;left: 50%;z-index: -1;}#sk-container-id-5 div.sk-parallel-item {display: flex;flex-direction: column;z-index: 1;position: relative;background-color: white;}#sk-container-id-5 div.sk-parallel-item:first-child::after {align-self: flex-end;width: 50%;}#sk-container-id-5 div.sk-parallel-item:last-child::after {align-self: flex-start;width: 50%;}#sk-container-id-5 div.sk-parallel-item:only-child::after {width: 0;}#sk-container-id-5 div.sk-dashed-wrapped {border: 1px dashed gray;margin: 0 0.4em 0.5em 0.4em;box-sizing: border-box;padding-bottom: 0.4em;background-color: white;}#sk-container-id-5 div.sk-label label {font-family: monospace;font-weight: bold;display: inline-block;line-height: 1.2em;}#sk-container-id-5 div.sk-label-container {text-align: center;}#sk-container-id-5 div.sk-container {/* jupyter's `normalize.less` sets `[hidden] { display: none; }` but bootstrap.min.css set `[hidden] { display: none !important; }` so we also need the `!important` here to be able to override the default hidden behavior on the sphinx rendered scikit-learn.org. See: https://github.com/scikit-learn/scikit-learn/issues/21755 */display: inline-block !important;position: relative;}#sk-container-id-5 div.sk-text-repr-fallback {display: none;}</style><div id=\"sk-container-id-5\" class=\"sk-top-container\"><div class=\"sk-text-repr-fallback\"><pre>GridSearchCV(cv=10, estimator=SVC(),\n",
       "             param_grid={&#x27;C&#x27;: array([0.41574129, 1.45337876, 2.30403716, 2.03393891, 2.13402171,\n",
       "       2.06157588, 0.68467532, 3.80077088, 3.8413308 , 4.01166132]),\n",
       "                         &#x27;gamma&#x27;: [0.5, 0.125, 0.15], &#x27;kernel&#x27;: [&#x27;linear&#x27;]},\n",
       "             scoring=&#x27;accuracy&#x27;)</pre><b>In a Jupyter environment, please rerun this cell to show the HTML representation or trust the notebook. <br />On GitHub, the HTML representation is unable to render, please try loading this page with nbviewer.org.</b></div><div class=\"sk-container\" hidden><div class=\"sk-item sk-dashed-wrapped\"><div class=\"sk-label-container\"><div class=\"sk-label sk-toggleable\"><input class=\"sk-toggleable__control sk-hidden--visually\" id=\"sk-estimator-id-5\" type=\"checkbox\" ><label for=\"sk-estimator-id-5\" class=\"sk-toggleable__label sk-toggleable__label-arrow\">GridSearchCV</label><div class=\"sk-toggleable__content\"><pre>GridSearchCV(cv=10, estimator=SVC(),\n",
       "             param_grid={&#x27;C&#x27;: array([0.41574129, 1.45337876, 2.30403716, 2.03393891, 2.13402171,\n",
       "       2.06157588, 0.68467532, 3.80077088, 3.8413308 , 4.01166132]),\n",
       "                         &#x27;gamma&#x27;: [0.5, 0.125, 0.15], &#x27;kernel&#x27;: [&#x27;linear&#x27;]},\n",
       "             scoring=&#x27;accuracy&#x27;)</pre></div></div></div><div class=\"sk-parallel\"><div class=\"sk-parallel-item\"><div class=\"sk-item\"><div class=\"sk-label-container\"><div class=\"sk-label sk-toggleable\"><input class=\"sk-toggleable__control sk-hidden--visually\" id=\"sk-estimator-id-6\" type=\"checkbox\" ><label for=\"sk-estimator-id-6\" class=\"sk-toggleable__label sk-toggleable__label-arrow\">estimator: SVC</label><div class=\"sk-toggleable__content\"><pre>SVC()</pre></div></div></div><div class=\"sk-serial\"><div class=\"sk-item\"><div class=\"sk-estimator sk-toggleable\"><input class=\"sk-toggleable__control sk-hidden--visually\" id=\"sk-estimator-id-7\" type=\"checkbox\" ><label for=\"sk-estimator-id-7\" class=\"sk-toggleable__label sk-toggleable__label-arrow\">SVC</label><div class=\"sk-toggleable__content\"><pre>SVC()</pre></div></div></div></div></div></div></div></div></div></div>"
      ],
      "text/plain": [
       "GridSearchCV(cv=10, estimator=SVC(),\n",
       "             param_grid={'C': array([0.41574129, 1.45337876, 2.30403716, 2.03393891, 2.13402171,\n",
       "       2.06157588, 0.68467532, 3.80077088, 3.8413308 , 4.01166132]),\n",
       "                         'gamma': [0.5, 0.125, 0.15], 'kernel': ['linear']},\n",
       "             scoring='accuracy')"
      ]
     },
     "execution_count": 112,
     "metadata": {},
     "output_type": "execute_result"
    }
   ],
   "source": [
    "grid.fit(X_train_vector, Y_train)"
   ]
  },
  {
   "cell_type": "markdown",
   "metadata": {},
   "source": [
    "#### Best Score"
   ]
  },
  {
   "cell_type": "code",
   "execution_count": 113,
   "metadata": {
    "scrolled": false
   },
   "outputs": [
    {
     "data": {
      "text/plain": [
       "0.9423394674325427"
      ]
     },
     "execution_count": 113,
     "metadata": {},
     "output_type": "execute_result"
    }
   ],
   "source": [
    "grid.best_score_"
   ]
  },
  {
   "cell_type": "markdown",
   "metadata": {},
   "source": [
    "#### Best set of parameters"
   ]
  },
  {
   "cell_type": "code",
   "execution_count": 114,
   "metadata": {
    "scrolled": false
   },
   "outputs": [
    {
     "data": {
      "text/plain": [
       "{'C': 3.800770881198428, 'gamma': 0.5, 'kernel': 'linear'}"
      ]
     },
     "execution_count": 114,
     "metadata": {},
     "output_type": "execute_result"
    }
   ],
   "source": [
    "grid.best_params_"
   ]
  },
  {
   "cell_type": "markdown",
   "metadata": {},
   "source": [
    "#### Best SVM model object"
   ]
  },
  {
   "cell_type": "code",
   "execution_count": 115,
   "metadata": {},
   "outputs": [
    {
     "data": {
      "text/html": [
       "<style>#sk-container-id-6 {color: black;background-color: white;}#sk-container-id-6 pre{padding: 0;}#sk-container-id-6 div.sk-toggleable {background-color: white;}#sk-container-id-6 label.sk-toggleable__label {cursor: pointer;display: block;width: 100%;margin-bottom: 0;padding: 0.3em;box-sizing: border-box;text-align: center;}#sk-container-id-6 label.sk-toggleable__label-arrow:before {content: \"▸\";float: left;margin-right: 0.25em;color: #696969;}#sk-container-id-6 label.sk-toggleable__label-arrow:hover:before {color: black;}#sk-container-id-6 div.sk-estimator:hover label.sk-toggleable__label-arrow:before {color: black;}#sk-container-id-6 div.sk-toggleable__content {max-height: 0;max-width: 0;overflow: hidden;text-align: left;background-color: #f0f8ff;}#sk-container-id-6 div.sk-toggleable__content pre {margin: 0.2em;color: black;border-radius: 0.25em;background-color: #f0f8ff;}#sk-container-id-6 input.sk-toggleable__control:checked~div.sk-toggleable__content {max-height: 200px;max-width: 100%;overflow: auto;}#sk-container-id-6 input.sk-toggleable__control:checked~label.sk-toggleable__label-arrow:before {content: \"▾\";}#sk-container-id-6 div.sk-estimator input.sk-toggleable__control:checked~label.sk-toggleable__label {background-color: #d4ebff;}#sk-container-id-6 div.sk-label input.sk-toggleable__control:checked~label.sk-toggleable__label {background-color: #d4ebff;}#sk-container-id-6 input.sk-hidden--visually {border: 0;clip: rect(1px 1px 1px 1px);clip: rect(1px, 1px, 1px, 1px);height: 1px;margin: -1px;overflow: hidden;padding: 0;position: absolute;width: 1px;}#sk-container-id-6 div.sk-estimator {font-family: monospace;background-color: #f0f8ff;border: 1px dotted black;border-radius: 0.25em;box-sizing: border-box;margin-bottom: 0.5em;}#sk-container-id-6 div.sk-estimator:hover {background-color: #d4ebff;}#sk-container-id-6 div.sk-parallel-item::after {content: \"\";width: 100%;border-bottom: 1px solid gray;flex-grow: 1;}#sk-container-id-6 div.sk-label:hover label.sk-toggleable__label {background-color: #d4ebff;}#sk-container-id-6 div.sk-serial::before {content: \"\";position: absolute;border-left: 1px solid gray;box-sizing: border-box;top: 0;bottom: 0;left: 50%;z-index: 0;}#sk-container-id-6 div.sk-serial {display: flex;flex-direction: column;align-items: center;background-color: white;padding-right: 0.2em;padding-left: 0.2em;position: relative;}#sk-container-id-6 div.sk-item {position: relative;z-index: 1;}#sk-container-id-6 div.sk-parallel {display: flex;align-items: stretch;justify-content: center;background-color: white;position: relative;}#sk-container-id-6 div.sk-item::before, #sk-container-id-6 div.sk-parallel-item::before {content: \"\";position: absolute;border-left: 1px solid gray;box-sizing: border-box;top: 0;bottom: 0;left: 50%;z-index: -1;}#sk-container-id-6 div.sk-parallel-item {display: flex;flex-direction: column;z-index: 1;position: relative;background-color: white;}#sk-container-id-6 div.sk-parallel-item:first-child::after {align-self: flex-end;width: 50%;}#sk-container-id-6 div.sk-parallel-item:last-child::after {align-self: flex-start;width: 50%;}#sk-container-id-6 div.sk-parallel-item:only-child::after {width: 0;}#sk-container-id-6 div.sk-dashed-wrapped {border: 1px dashed gray;margin: 0 0.4em 0.5em 0.4em;box-sizing: border-box;padding-bottom: 0.4em;background-color: white;}#sk-container-id-6 div.sk-label label {font-family: monospace;font-weight: bold;display: inline-block;line-height: 1.2em;}#sk-container-id-6 div.sk-label-container {text-align: center;}#sk-container-id-6 div.sk-container {/* jupyter's `normalize.less` sets `[hidden] { display: none; }` but bootstrap.min.css set `[hidden] { display: none !important; }` so we also need the `!important` here to be able to override the default hidden behavior on the sphinx rendered scikit-learn.org. See: https://github.com/scikit-learn/scikit-learn/issues/21755 */display: inline-block !important;position: relative;}#sk-container-id-6 div.sk-text-repr-fallback {display: none;}</style><div id=\"sk-container-id-6\" class=\"sk-top-container\"><div class=\"sk-text-repr-fallback\"><pre>SVC(C=3.800770881198428, gamma=0.5, kernel=&#x27;linear&#x27;)</pre><b>In a Jupyter environment, please rerun this cell to show the HTML representation or trust the notebook. <br />On GitHub, the HTML representation is unable to render, please try loading this page with nbviewer.org.</b></div><div class=\"sk-container\" hidden><div class=\"sk-item\"><div class=\"sk-estimator sk-toggleable\"><input class=\"sk-toggleable__control sk-hidden--visually\" id=\"sk-estimator-id-8\" type=\"checkbox\" checked><label for=\"sk-estimator-id-8\" class=\"sk-toggleable__label sk-toggleable__label-arrow\">SVC</label><div class=\"sk-toggleable__content\"><pre>SVC(C=3.800770881198428, gamma=0.5, kernel=&#x27;linear&#x27;)</pre></div></div></div></div></div>"
      ],
      "text/plain": [
       "SVC(C=3.800770881198428, gamma=0.5, kernel='linear')"
      ]
     },
     "execution_count": 115,
     "metadata": {},
     "output_type": "execute_result"
    }
   ],
   "source": [
    "grid.best_estimator_"
   ]
  },
  {
   "cell_type": "code",
   "execution_count": 142,
   "metadata": {},
   "outputs": [
    {
     "name": "stderr",
     "output_type": "stream",
     "text": [
      "No artists with labels found to put in legend.  Note that artists whose label start with an underscore are ignored when legend() is called with no argument.\n"
     ]
    },
    {
     "data": {
      "image/png": "[encoded data removed]",
      "text/plain": [
       "<Figure size 640x480 with 1 Axes>"
      ]
     },
     "metadata": {},
     "output_type": "display_data"
    }
   ],
   "source": [
    "diagnos = pd.DataFrame(grid.cv_results_['params'])\n",
    "diagnos['Mean_test_score'] = grid.cv_results_['mean_test_score']\n",
    "\n",
    "plt.plot(diagnos['C'], diagnos['Mean_test_score'])\n",
    "plt.legend()\n",
    "plt.xlabel('Cost')\n",
    "plt.ylabel('Mean Test score')\n",
    "plt.show()"
   ]
  },
  {
   "cell_type": "markdown",
   "metadata": {},
   "source": [
    "## Final Predictions"
   ]
  },
  {
   "cell_type": "code",
   "execution_count": 116,
   "metadata": {},
   "outputs": [
    {
     "name": "stdout",
     "output_type": "stream",
     "text": [
      "--------------\n",
      ":: METRICS ::\n",
      "--------------\n",
      "\n"
     ]
    },
    {
     "data": {
      "image/png": "[encoded data removed]",
      "text/plain": [
       "<Figure size 400x200 with 2 Axes>"
      ]
     },
     "metadata": {},
     "output_type": "display_data"
    },
    {
     "name": "stdout",
     "output_type": "stream",
     "text": [
      "\n",
      "****** Label `cu_online` *******\n",
      "TP:233\tFP:16\tFN:40\tTN:730\t >> Precision:0.94\tRecall:0.85\tF1:0.89\n",
      "\n",
      "****** Label `cu_others` *******\n",
      "TP:66\tFP:2\tFN:5\tTN:946\t >> Precision:0.97\tRecall:0.93\tF1:0.95\n",
      "\n",
      "****** Label `cu_research` *******\n",
      "TP:662\tFP:40\tFN:13\tTN:304\t >> Precision:0.94\tRecall:0.98\tF1:0.96\n",
      "\n",
      "OVERALL:\n",
      "Accuracy \t==== \t94.308 %\n",
      "Precision \t==== \t94.299 %\n",
      "Recall Score\t==== \t94.308 %\n",
      "F1 SCORE \t==== \t94.225 %\n"
     ]
    }
   ],
   "source": [
    "# Fitting model with best parameters found using  \"GridSearchCV\"\n",
    "best_model = grid.best_estimator_\n",
    "\n",
    "# predictions\n",
    "Y_test_hat = best_model.predict(X_test_vector)\n",
    "\n",
    "# metrics\n",
    "plot_metrics(Y_test, Y_test_hat, sorted(Y.unique()))  # alphabetically arranged labels"
   ]
  },
  {
   "cell_type": "code",
   "execution_count": 117,
   "metadata": {},
   "outputs": [
    {
     "name": "stdout",
     "output_type": "stream",
     "text": [
      "Predicted Class =  ['cu_research']\n"
     ]
    }
   ],
   "source": [
    "# unseen tweet:\n",
    "\n",
    "twt = \"hello, is cub good at exploratory research studies?\"\n",
    "\n",
    "print(\"Predicted Class = \", best_model.predict(Vector.transform(pd.Series(twt))))"
   ]
  }
 ],
 "metadata": {
  "kernelspec": {
   "display_name": "Python_3.8",
   "language": "python",
   "name": "python_3.8"
  },
  "language_info": {
   "codemirror_mode": {
    "name": "ipython",
    "version": 3
   },
   "file_extension": ".py",
   "mimetype": "text/x-python",
   "name": "python",
   "nbconvert_exporter": "python",
   "pygments_lexer": "ipython3",
   "version": "3.8.0"
  }
 },
 "nbformat": 4,
 "nbformat_minor": 2
}
